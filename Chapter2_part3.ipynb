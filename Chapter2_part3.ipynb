{
 "cells": [
  {
   "cell_type": "markdown",
   "id": "50ccc0e7-ae85-4dd1-a3eb-2ce31fd84988",
   "metadata": {},
   "source": [
    "# **BÀI TẬP CHƯƠNG 2**"
   ]
  },
  {
   "cell_type": "markdown",
   "id": "75f527f1-879b-4130-87b5-4574bb758cf3",
   "metadata": {},
   "source": [
    "<p style=\"background-color: lightgreen; text-align: center; font-size: 18px; color: red; padding: 5px; border-radius: 10px;\"><b>Bài tập 1</b></p>\n",
    "\n",
    "Tiến hành nghiên cứu lượng sulfuric acid 98.3% một phòng thí nghiệm (L) sử dụng trong hai năm 2007 và 2009. Kết quả như sau:\n",
    "\n",
    "| Năm |||||||||||\n",
    "|-----|------|------|------|------|------|------|------|------|------|------|\n",
    "| Năm 2007 | 30.39 | 30.5 | 30.2 | 33.97 | 29.4 | 29.8 | 31.8 | 30.4 | 30.5 | 30.87 |\n",
    "| Năm 2009 | 31.4 | 34.12 | 32.0 | 33.0 | 41.0 | 33.34 | 38.9 | 32.3 | 36.1 | 35.0 |\n",
    "\n",
    "Xác định các tham số đặc trưng về sự tập trung của tập số liệu trên: số trội, khoảng của tập số, số tam giác vị, trung bình cộng."
   ]
  },
  {
   "cell_type": "code",
   "execution_count": null,
   "id": "70a73499-e7eb-4be2-a97e-be4739f114fc",
   "metadata": {},
   "outputs": [],
   "source": []
  },
  {
   "cell_type": "code",
   "execution_count": null,
   "id": "b28738b6-77e8-411b-aa2d-4e214148a99d",
   "metadata": {},
   "outputs": [],
   "source": []
  },
  {
   "cell_type": "code",
   "execution_count": null,
   "id": "134b42a7-c607-4345-b9b2-86e0b68a001b",
   "metadata": {},
   "outputs": [],
   "source": []
  },
  {
   "cell_type": "markdown",
   "id": "0a70f7a3-1c1c-4257-8848-0aace2cf631d",
   "metadata": {},
   "source": [
    "<p style=\"background-color: lightgreen; text-align: center; font-size: 18px; color: red; padding: 5px; border-radius: 10px;\"><b>Bài tập 2</b></p>\n",
    "\n",
    "Theo một nghiên cứu, thời gian đọc sách của sinh viên mỗi ngày tại 12 lớp học của một trường là:\n",
    "\n",
    "| Lớp | A1   | A2   | A3   | B1   | B2   | B3   | C1   | C2   | C3   | D1   | D2   | D3   |\n",
    "|-----|------|------|------|------|------|------|------|------|------|------|------|------|\n",
    "| Số giờ đọc sách/ngày | 1 | 3    | 2    | 1.5  | 6    | 2.5  | 3    | 1    | 2    | 0.5  | 2    | 3    |\n",
    "\n",
    "Xác định các tham số đặc trưng về sự phân tán của tập số liệu trên: phương sai, độ lệch chuẩn, độ sai chuẩn, hệ số biến thiên."
   ]
  },
  {
   "cell_type": "code",
   "execution_count": null,
   "id": "05afe984-b37d-4efd-8dd9-99c692e62053",
   "metadata": {},
   "outputs": [],
   "source": []
  },
  {
   "cell_type": "code",
   "execution_count": null,
   "id": "851e06d3-ddea-4754-a4f4-25603f5483c4",
   "metadata": {},
   "outputs": [],
   "source": []
  },
  {
   "cell_type": "code",
   "execution_count": null,
   "id": "5f296604-c242-4636-a5db-b49f1b92515b",
   "metadata": {},
   "outputs": [],
   "source": []
  },
  {
   "cell_type": "markdown",
   "id": "874dd282-f652-4263-90df-906b3b07bcc4",
   "metadata": {},
   "source": [
    "<p style=\"background-color: lightgreen; text-align: center; font-size: 18px; color: red; padding: 5px; border-radius: 10px;\"><b>Bài tập 3</b></p>\n",
    "\n",
    "Tiến hành khảo sát khoảng thời gian trung bình (giờ/tháng) sinh viên năm thứ ba dành thời gian làm nghiên cứu khoa học, kết quả thu được như sau:\n",
    "\n",
    "29, 30, 19.5, 28.5, 31, 30.5, 27, 29, 38, 34.5, 27, 48, 55, 21.5\n",
    "29, 29.5, 30, 30.5, 30.5, 49, 37, 32, 31, 29, 40, 15.5, 20, 35\n",
    "\n",
    "Tính các đại lượng đặc trưng của tập số liệu trên: khoảng của tập số, số trội, số tam giác vị, trung bình cộng, phương sai, độ lệch chuẩn, hệ số biến thiên."
   ]
  },
  {
   "cell_type": "code",
   "execution_count": null,
   "id": "2f434856-0032-4e7d-9508-3dc490b954a4",
   "metadata": {},
   "outputs": [],
   "source": []
  },
  {
   "cell_type": "code",
   "execution_count": null,
   "id": "d1c40afe-0ff7-4db3-a397-01741b76c438",
   "metadata": {},
   "outputs": [],
   "source": []
  },
  {
   "cell_type": "code",
   "execution_count": null,
   "id": "c4efbf0e-59c1-49d2-b1f1-9b6547f19e93",
   "metadata": {},
   "outputs": [],
   "source": []
  },
  {
   "cell_type": "markdown",
   "id": "e0ab5486-9073-46f4-9b0a-8d2e9d5d2614",
   "metadata": {},
   "source": [
    "<p style=\"background-color: lightgreen; text-align: center; font-size: 18px; color: red; padding: 5px; border-radius: 10px;\"><b>Bài tập 4</b></p>\n",
    "\n",
    "Kết quả phân tích hằng số tốc độ phản ứng riêng ($k'$) của phản ứng xà phòng hóa ethyl acetate và NaOH tại nhiệt độ 0 °C trong phòng thí nghiệm được chỉ ra trong bảng dưới. Mỗi thí nghiệm được thực nghiệm với máy khuấy từ và khuấy bằng tay. Kết quả được phân tích bằng phương pháp tích phân và vi phân.\n",
    "\n",
    "| **Phương pháp**       | **Khuấy từ**      | **Khuấy bằng tay** |\n",
    "|------------------------|-------------------|--------------------|\n",
    "| **Tích phân**          | 0.02058, 0.02121, 0.01849. 0,01816 | 0.02214, 0.02073, 0.01951, 0.01884 |\n",
    "| **Vi phân**            | 0.01995, 0.02003, 0.01725, 0.01752 | 0.01968, 0.01982, 0.01696, 0.01726 |\n",
    "\n",
    "Phân tích: Phương pháp phân tích dữ liệu khác nhau và phương pháp khuấy có ảnh hưởng tới kết quả hay không?  \n",
    "Mức ý nghĩa: $\\alpha = 0.05$.\n"
   ]
  },
  {
   "cell_type": "code",
   "execution_count": null,
   "id": "b5990e2e-6f70-4bcb-81d5-36191d8c4ff2",
   "metadata": {},
   "outputs": [],
   "source": []
  },
  {
   "cell_type": "code",
   "execution_count": null,
   "id": "bc0f6223-d18c-4d65-9fae-7337d8585d29",
   "metadata": {},
   "outputs": [],
   "source": []
  },
  {
   "cell_type": "code",
   "execution_count": null,
   "id": "5b29df41-5926-4ab5-989e-4d9f3b1c92df",
   "metadata": {},
   "outputs": [],
   "source": []
  },
  {
   "cell_type": "markdown",
   "id": "7c5b83f3-a368-448a-a027-36c7c372c050",
   "metadata": {},
   "source": [
    "<p style=\"background-color: lightgreen; text-align: center; font-size: 18px; color: red; padding: 5px; border-radius: 10px;\"><b>Bài tập 5</b></p>\n",
    "\n",
    "Khảo sát ảnh hưởng của pH đến hiệu suất xử lý nước thải phẩm nhuộm $X (\\%)$. Kết quả:\n",
    "\n",
    "| **pH**  | **Lần 1** | **Lần 2** | **Lần 3** | **Lần 4** | **Lần 5** |\n",
    "|---------|-----------|-----------|-----------|-----------|-----------|\n",
    "| **2**   | 84.73     | 84.59     | 86.22     | 88.49     | 87.07     |\n",
    "| **3**   | 92.19     | 83.47     | 86.81     | 89.85     | 90.22     |\n",
    "| **4**   | 87.64     | 86.72     | 87.57     | 76.29     | 85.79     |\n",
    "| **5**   | 82.76     | 89.56     | 75.23     | 83.60     | 76.59     |\n",
    "\n",
    "Phân tích: Dùng phân tích phương sai để xác định sự ảnh hưởng của pH tới hiệu suất xử lý phẩm nhuộm $X$.  \n",
    "Mức ý nghĩa: $\\alpha = 0.05$."
   ]
  },
  {
   "cell_type": "code",
   "execution_count": null,
   "id": "f0dd0705-ce85-4a6b-b196-212565cab177",
   "metadata": {},
   "outputs": [],
   "source": []
  },
  {
   "cell_type": "code",
   "execution_count": null,
   "id": "86be2af6-f366-4b09-bc9b-41e82aabc7ea",
   "metadata": {},
   "outputs": [],
   "source": []
  },
  {
   "cell_type": "code",
   "execution_count": null,
   "id": "7d895f4c-a7ab-45d5-9fd0-9461ba5de880",
   "metadata": {},
   "outputs": [],
   "source": []
  },
  {
   "cell_type": "markdown",
   "id": "6c16dbeb-c688-4257-ab87-95191ceaa401",
   "metadata": {},
   "source": [
    "<p style=\"background-color: lightgreen; text-align: center; font-size: 18px; color: red; padding: 5px; border-radius: 10px;\"><b>Bài tập 6</b></p>\n",
    "\n",
    "Xem xét ảnh hưởng của pH và nhiệt độ đến việc xử lý Cadmium (Cd) trong nước thải với nồng độ Cd ban đầu là $10 \\, \\text{mg/L}$ trong 30 phút. Mỗi thí nghiệm lặp lại 3 lần. Kết quả:\n",
    "\n",
    "| **Nhiệt độ (°C)** | **pH 2.5** | **pH 3** | **pH 3.5** | **pH 4** | **pH 4.5** |\n",
    "|--------------------|------------|----------|------------|----------|------------|\n",
    "| **20**            | 0.536      | 0.532    | 0.423      | 0.356    | 0.469      |\n",
    "|                   | 0.635      | 0.579    | 0.457      | 0.279    | 0.487      |\n",
    "|                   | 0.698      | 0.602    | 0.520      | 0.325    | 0.504      |\n",
    "| **25**            | 0.513      | 0.498    | 0.456      | 0.334    | 0.386      |\n",
    "|                   | 0.524      | 0.429    | 0.412      | 0.298    | 0.404      |\n",
    "|                   | 0.499      | 0.456    | 0.431      | 0.320    | 0.432      |\n",
    "| **30**            | 0.510      | 0.495    | 0.395      | 0.278    | 0.321      |\n",
    "|                   | 0.438      | 0.429    | 0.386      | 0.265    | 0.354      |\n",
    "|                   | 0.489      | 0.413    | 0.372      | 0.302    | 0.367      |\n",
    "| **35**            | 0.672      | 0.567    | 0.435      | 0.347    | 0.458      |\n",
    "|                   | 0.628      | 0.501    | 0.463      | 0.406    | 0.431      |\n",
    "|                   | 0.698      | 0.532    | 0.394      | 0.425    | 0.560      |\n",
    "| **40**            | 0.789      | 0.678    | 0.602      | 0.532    | 0.567      |\n",
    "|                   | 0.669      | 0.652    | 0.582      | 0.565    | 0.597      |\n",
    "|                   | 0.658      | 0.623    | 0.579      | 0.572    | 0.651      |\n",
    "\n",
    "\n",
    "Phân tích: Phân tích tác động của pH và nhiệt độ tới kết quả xử lý Cd.  \n",
    "Mức ý nghĩa: $\\alpha = 0.05$."
   ]
  },
  {
   "cell_type": "code",
   "execution_count": null,
   "id": "265f6bd1-c97c-4804-9ad5-80001ce81636",
   "metadata": {},
   "outputs": [],
   "source": []
  },
  {
   "cell_type": "code",
   "execution_count": null,
   "id": "642201aa-4b94-4f25-8939-961a9a5734a2",
   "metadata": {},
   "outputs": [],
   "source": []
  },
  {
   "cell_type": "code",
   "execution_count": null,
   "id": "d6924c07-755e-4d49-8715-7b5f6fa141ab",
   "metadata": {},
   "outputs": [],
   "source": []
  },
  {
   "cell_type": "markdown",
   "id": "16131085-1388-45de-9590-1f6624eb4d4a",
   "metadata": {},
   "source": [
    "<p style=\"background-color: lightgreen; text-align: center; font-size: 18px; color: red; padding: 5px; border-radius: 10px;\"><b>Bài tập 7</b></p>\n",
    "\n",
    "Kết quả điều trị trên hai nhóm bệnh nhân: một nhóm dùng thuốc và một nhóm dùng giả dược.\n",
    "\n",
    "| **Biện pháp điều trị** | **Số bệnh nhân khỏi bệnh** | **Số bệnh nhân không khỏi** |\n",
    "|-------------------------|----------------------------|-----------------------------|\n",
    "| **Thuốc**              | 24                         | 20                          |\n",
    "| **Giả dược**           | 20                         | 23                          |\n",
    "\n",
    "Phân tích: Tỉ lệ khỏi bệnh do thuốc (24/39 = 61%) và do giả dược (20/43 = 46%) có khác nhau về mặt thống kê không?  \n",
    "Mức ý nghĩa: $\\alpha = 0.05$."
   ]
  },
  {
   "cell_type": "code",
   "execution_count": null,
   "id": "01bb9db5-71fa-4a9d-b4e4-8a57570059cf",
   "metadata": {},
   "outputs": [],
   "source": []
  },
  {
   "cell_type": "code",
   "execution_count": null,
   "id": "6754ec6a-c3fe-4bb9-afda-55f6523ec32c",
   "metadata": {},
   "outputs": [],
   "source": []
  },
  {
   "cell_type": "code",
   "execution_count": null,
   "id": "0b9b216b-48ab-47db-85fa-9a40c726b21d",
   "metadata": {},
   "outputs": [],
   "source": []
  },
  {
   "cell_type": "markdown",
   "id": "bcae2099-4f45-4001-ad84-021f44b6fd66",
   "metadata": {},
   "source": [
    "<p style=\"background-color: lightgreen; text-align: center; font-size: 18px; color: red; padding: 5px; border-radius: 10px;\"><b>Bài tập 8</b></p>\n",
    "\n",
    "Nghiên cứu mối liên quan giữa bệnh ung thư với việc hút thuốc. Kết quả:\n",
    "\n",
    "| **Trạng thái**       | **Không hút thuốc** | **Có hút thuốc** | **Tổng số** |\n",
    "|-----------------------|---------------------|------------------|-------------|\n",
    "| **Không bị ung thư** | 600                 | 200              | 800         |\n",
    "| **Bị ung thư**       | 35                  | 165              | 200         |\n",
    "| **Tổng số**          | 635                 | 365              | 1000        |\n",
    "\n",
    "Phân tích: Với $\\alpha = 0.05$, xác định mối liên hệ giữa bệnh ung thư và việc hút thuốc."
   ]
  },
  {
   "cell_type": "code",
   "execution_count": null,
   "id": "6b024bea-f7d8-4ab2-81ba-a959a1cca72c",
   "metadata": {},
   "outputs": [],
   "source": []
  },
  {
   "cell_type": "code",
   "execution_count": null,
   "id": "4339d29a-c6dc-436c-b464-e8637b5c78bd",
   "metadata": {},
   "outputs": [],
   "source": []
  },
  {
   "cell_type": "code",
   "execution_count": null,
   "id": "0bddf4c4-b24e-4e81-a67c-2ca3e5138698",
   "metadata": {},
   "outputs": [],
   "source": []
  }
 ],
 "metadata": {
  "kernelspec": {
   "display_name": "Python 3 (ipykernel)",
   "language": "python",
   "name": "python3"
  },
  "language_info": {
   "codemirror_mode": {
    "name": "ipython",
    "version": 3
   },
   "file_extension": ".py",
   "mimetype": "text/x-python",
   "name": "python",
   "nbconvert_exporter": "python",
   "pygments_lexer": "ipython3",
   "version": "3.12.3"
  }
 },
 "nbformat": 4,
 "nbformat_minor": 5
}
