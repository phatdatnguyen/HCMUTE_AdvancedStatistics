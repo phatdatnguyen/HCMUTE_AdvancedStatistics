{
 "cells": [
  {
   "cell_type": "markdown",
   "id": "ce2d6e30",
   "metadata": {},
   "source": [
    "# Chapter 11. Deep Learning in Chemistry"
   ]
  },
  {
   "cell_type": "markdown",
   "id": "0d09f3a0",
   "metadata": {},
   "source": [
    "## 11.1. Perceptron"
   ]
  },
  {
   "cell_type": "markdown",
   "id": "fa334069",
   "metadata": {},
   "source": [
    "In this section, we will explore the structure of a perceptron, learn about how it work, and use single-perceptron networks to solve simple linear regression problems."
   ]
  },
  {
   "cell_type": "markdown",
   "id": "a096bd7c",
   "metadata": {},
   "source": [
    "### 11.1.1. Structure of Perceptron"
   ]
  },
  {
   "cell_type": "markdown",
   "id": "d3d39a7a-07c6-4b0b-82b8-22b841a6a779",
   "metadata": {},
   "source": [
    "The structure of a perceptron can be described as follow:\n",
    "![Single layer perceptron](images/perceptron_structure.jpg)\n",
    "\n",
    "**Key points to remember about perceptron**\n",
    "\n",
    "- A perceptron can have 1 or multiple inputs, and only 1 output\n",
    "- A perceptron contains the weights (w) for each of the inputs, and a bias (b)\n",
    "- The output of a perceptron is calculated using the following equation:\n",
    "\n",
    "$$\\text{output} = \\sum_{i}(w_i \\times x_i) + b$$\n",
    "\n",
    "Here, $w_i$ represents the weight associated with the i<sup>th</sup> input, $x_i$ is the i<sup>th</sup> input, and $b$ is the bias term. The perceptron computes a weighted sum of its inputs, adds a bias, and then applies an activation function to produce the output."
   ]
  },
  {
   "cell_type": "markdown",
   "id": "b5972708",
   "metadata": {},
   "source": [
    "### 11.1.2. How Single-Perceptron Network Works"
   ]
  },
  {
   "cell_type": "markdown",
   "id": "d201e568",
   "metadata": {},
   "source": [
    "#### 11.1.2.1. General Concept"
   ]
  },
  {
   "cell_type": "markdown",
   "id": "26814b2b",
   "metadata": {},
   "source": [
    "Single-perceptron network, or any other artificial neural network (ANN), works on the basic of **gradient descent**.\n",
    "You can think of an ANN as a mathematic expression that maps the inputs to the outputs:\n",
    "![ANN](images/ANN.png)\n",
    "In general, to use an ANN to solve a regression problem, you need to follow these step:\n",
    "- **Step 1.** Initialize the parameters (weights and biases) of each neuron in the network randomly.\n",
    "- **Step 2.** Forward pass: Pass the input values to the network, calculate the output of each neuron in the network in order, until we get the output values.\n",
    "- **Step 3.** Calculate the value of the loss function.\n",
    "- **Step 4.** Backward pass: Calculate the gradients for all weights and biases in the network with respect to the loss function\n",
    "- **Step 5.** Update the values of weights and biases so that they can lower the loss function.\n",
    "- Return to **Step 2**, repeat after a number of iterations (epochs) or until the loss function is low enough.\n",
    "\n",
    "The loop from step 2 to step 5 is called the **training process**."
   ]
  },
  {
   "cell_type": "markdown",
   "id": "e0bc1bb1",
   "metadata": {},
   "source": [
    "#### 11.1.2.2. The Workflow of a Single-Perceptron Network"
   ]
  },
  {
   "cell_type": "markdown",
   "id": "1479b306",
   "metadata": {},
   "source": [
    "An example of a single-perceptron network with 3 inputs is below:\n",
    "![Single-perceptron network](images/single-perceptron_network_3_inputs.png)\n",
    "We will test this network for the regression of function $y = x_1 - 3.x_2 + 2.x_3$, using 1 single data point: $x_1 = 3.4$, $x_2 = 2.4$, $x_3 = -1.7$ → $y = -7.2$.\n",
    "\n",
    "Following the general workflow:\n",
    "- **Step 1.** Initialize the parameters:\n",
    "![Single-perceptron network](images/single-perceptron_network_3_inputs_step1.png)\n",
    "\n",
    "- **Step 2.** Forward:\n",
    "![Single-perceptron network](images/single-perceptron_network_3_inputs_step2.png)\n",
    "\n",
    "- **Step 3.** Calculate the loss function. We use MSE loss function in this case:\n",
    "\n",
    "$$\\text{MSE Loss} = \\frac{1}{n} \\sum_{i=1}^{n} (y_i - \\hat{y}_i)^2$$\n",
    "\n",
    "with $n = 1$ (1 data point), $y = -7.2$ (observed value), $\\hat{y} = 0.38$ (predicted value) → $MSE Loss = 57.5$\n",
    "\n",
    "- **Step 4.** Backward:\n",
    "\n",
    "We cannot calculate the gradients for weights and bias directly. We have to use the chain rule.\n",
    "\n",
    "$$\\frac{\\partial \\text{MSE}}{\\partial \\hat{y}} = -2 \\times (y - \\hat{y}) = 15.16$$\n",
    "\n",
    "$$\\frac{\\partial \\hat{y}}{\\partial w_1} = x_1 = 3.4 \\rightarrow \\frac{\\partial \\text{MSE}}{\\partial w_1} = \\left(\\frac{\\partial \\text{MSE}}{\\partial \\hat{y}}\\right) \\times \\left(\\frac{\\partial \\hat{y}}{\\partial w_1}\\right) = 15.16 \\times 3.4 = 51.544$$\n",
    "\n",
    "$$\\frac{\\partial \\hat{y}}{\\partial w_2} = x_2 = 2.4 \\rightarrow \\frac{\\partial \\text{MSE}}{\\partial w_2} = \\left(\\frac{\\partial \\text{MSE}}{\\partial \\hat{y}}\\right) \\times \\left(\\frac{\\partial \\hat{y}}{\\partial w_2}\\right) = 15.16 \\times 2.4 = 36.384$$\n",
    "\n",
    "$$\\frac{\\partial \\hat{y}}{\\partial w_3} = x_3 = -1.7 \\rightarrow \\frac{\\partial \\text{MSE}}{\\partial w_3} = \\left(\\frac{\\partial \\text{MSE}}{\\partial \\hat{y}}\\right) \\times \\left(\\frac{\\partial \\hat{y}}{\\partial w_3}\\right) = 15.16 \\times (-1.7) = -25.772$$\n",
    "\n",
    "$$\\frac{\\partial \\hat{y}}{\\partial b} = 1 \\rightarrow \\frac{\\partial \\text{MSE}}{\\partial b} = \\frac{\\partial \\text{MSE}}{\\partial \\hat{y}} = 15.16$$\n",
    "\n",
    "![Single-perceptron network](images/single-perceptron_network_3_inputs_step4.png)\n",
    "\n",
    "- **Step 5.** Update weights and bias:\n",
    "\n",
    "Choose a learning rate: $lr = 0.001$\n",
    "\n",
    "$$w_1 = w_1 - \\left( \\frac{\\partial \\text{MSE}}{\\partial w1} \\right) \\times \\text{lr} = w1 - 51.544 \\times 0.001 = 0.248$$\n",
    "\n",
    "$$w_2 = w_2 - \\left( \\frac{\\partial \\text{MSE}}{\\partial w2} \\right) \\times \\text{lr} = w2 - 36.384 \\times 0.001 = -0.536$$\n",
    "\n",
    "$$w_3 = w_3 - \\left( \\frac{\\partial \\text{MSE}}{\\partial w3} \\right) \\times \\text{lr} = w3 - (-25.772) \\times 0.001 = 0.226$$\n",
    "\n",
    "$$b = b - \\left( \\frac{\\partial \\text{MSE}}{\\partial b} \\right) \\times \\text{lr} = b - 15.16 \\times 0.001 = 0.885$$\n",
    "\n",
    "![Single-perceptron network](images/single-perceptron_network_3_inputs_step5.png)\n",
    "\n",
    "- Return to **Step 2** and continue\n",
    "\n",
    "**Note:** If we continue running this loop, the values of weights and bias will approaching their target values ($w_1 → 1$, $w_2 → -3$, $w_3 → 2$, $b → 0$), the output will get closer to the observed values, and the MSE loss will approach its mininum."
   ]
  },
  {
   "cell_type": "markdown",
   "id": "87cf1436",
   "metadata": {},
   "source": [
    "### 11.1.3. PyTorch Implementation of Perceptron"
   ]
  },
  {
   "cell_type": "markdown",
   "id": "06c4ccc2",
   "metadata": {},
   "source": [
    "PyTorch is an open-source machine learning library developed by Facebook's AI Research lab, widely used for applications in deep learning and artificial intelligence. Known for its flexibility and dynamic computational graph, it provides a rich ecosystem for developing and training neural network models efficiently and intuitively. PyTorch is particularly favored for its ease of use, simplicity in debugging, and strong support for GPU acceleration, making it a popular choice among researchers and developers in the field of AI.\n",
    "\n",
    "To install PyTorch, visit their [website](https://pytorch.org/) for instruction."
   ]
  },
  {
   "cell_type": "markdown",
   "id": "cf5d20fa",
   "metadata": {},
   "source": [
    "#### 11.1.3.1. Single-perceptron network with 1 input, no scaling"
   ]
  },
  {
   "cell_type": "markdown",
   "id": "170f1606",
   "metadata": {},
   "source": [
    "In this section, we will use a single-perceptron network to perform linear regression for function $y = f(x)$:\n",
    "\n",
    "*Network structure:*\n",
    "![Single-perceptron network](images/single-perceptron_network_1_input.png)"
   ]
  },
  {
   "cell_type": "markdown",
   "id": "bc5c3d1a",
   "metadata": {},
   "source": [
    "**a. Import modules**"
   ]
  },
  {
   "cell_type": "code",
   "execution_count": null,
   "id": "e06c9d90-8488-4aac-90ee-96b688865741",
   "metadata": {},
   "outputs": [],
   "source": [
    "# Install matplotlib extension for JupyterLab\n",
    "!conda install -c conda-forge ipympl"
   ]
  },
  {
   "cell_type": "code",
   "execution_count": 1,
   "id": "429c8af5",
   "metadata": {
    "tags": []
   },
   "outputs": [],
   "source": [
    "# Import modules\n",
    "import math\n",
    "import numpy as np\n",
    "import torch\n",
    "import torch.nn as nn\n",
    "import torch.optim as optim\n",
    "import matplotlib.pyplot as plt\n",
    "from matplotlib.animation import FuncAnimation\n",
    "%matplotlib widget\n",
    "from sklearn.preprocessing import MinMaxScaler\n",
    "from tqdm import tqdm"
   ]
  },
  {
   "cell_type": "markdown",
   "id": "e75ea2ca",
   "metadata": {},
   "source": [
    "**b. Load data**"
   ]
  },
  {
   "cell_type": "code",
   "execution_count": null,
   "id": "ebfccc2b",
   "metadata": {
    "tags": []
   },
   "outputs": [],
   "source": [
    "# Define the data points\n",
    "x = torch.tensor([1.01, 2.03, 3.01, 4.07, 5.09])\n",
    "y = torch.tensor([2.02, 4.04, 6.05, 8.03, 10.08])"
   ]
  },
  {
   "cell_type": "markdown",
   "id": "fbf300a3",
   "metadata": {},
   "source": [
    "**c. Create model**"
   ]
  },
  {
   "cell_type": "code",
   "execution_count": null,
   "id": "f34e3598",
   "metadata": {
    "tags": []
   },
   "outputs": [],
   "source": [
    "# Define the linear regression class\n",
    "class LinearRegressionModel(nn.Module):\n",
    "    def __init__(self):\n",
    "        super(LinearRegressionModel, self).__init__()\n",
    "        self.linear = nn.Linear(1, 1)  # One input feature and one output\n",
    "\n",
    "    def forward(self, x):\n",
    "        return self.linear(x)"
   ]
  },
  {
   "cell_type": "code",
   "execution_count": null,
   "id": "a93267b0",
   "metadata": {
    "tags": []
   },
   "outputs": [],
   "source": [
    "# Instantiate the model\n",
    "model = LinearRegressionModel()"
   ]
  },
  {
   "cell_type": "markdown",
   "id": "737fcf88",
   "metadata": {},
   "source": [
    "**d. Training**"
   ]
  },
  {
   "cell_type": "code",
   "execution_count": null,
   "id": "59aaafbf",
   "metadata": {
    "tags": []
   },
   "outputs": [],
   "source": [
    "# Define the loss function and optimizer\n",
    "criterion = nn.MSELoss()\n",
    "optimizer = optim.SGD(model.parameters(), lr=0.01)"
   ]
  },
  {
   "cell_type": "code",
   "execution_count": null,
   "id": "abf487e8",
   "metadata": {
    "tags": []
   },
   "outputs": [],
   "source": [
    "# Define the train function\n",
    "def train(x, y):\n",
    "    # Forward pass\n",
    "    outputs = model(x.unsqueeze(1))\n",
    "    loss = criterion(outputs, y.unsqueeze(1))\n",
    "    \n",
    "    # Backward and optimize\n",
    "    optimizer.zero_grad()\n",
    "    loss.backward()\n",
    "    optimizer.step()\n",
    "    \n",
    "    return loss.item()"
   ]
  },
  {
   "cell_type": "code",
   "execution_count": null,
   "id": "51168a91",
   "metadata": {
    "tags": []
   },
   "outputs": [],
   "source": [
    "# Create lists of parameters and losses for visualization\n",
    "w_values = []\n",
    "b_values = []\n",
    "losses = []"
   ]
  },
  {
   "cell_type": "code",
   "execution_count": null,
   "id": "2a1340db",
   "metadata": {
    "tags": []
   },
   "outputs": [],
   "source": [
    "# Train the model\n",
    "num_epochs = 100\n",
    "progress_bar = tqdm(range(num_epochs))\n",
    "for epoch in progress_bar:\n",
    "    train_loss = train(x, y)\n",
    "    \n",
    "    # Get the trained parameters\n",
    "    w = model.linear.weight.item()\n",
    "    b = model.linear.bias.item()\n",
    "    \n",
    "    # Add trained parameters to their lists for visualization\n",
    "    w_values.append(w)\n",
    "    b_values.append(b)\n",
    "    losses.append(train_loss)\n",
    "    \n",
    "    # Print progress\n",
    "    progress_bar.set_description(f'Epoch [{epoch+1}/{num_epochs}], Train loss: {train_loss:.4f}') "
   ]
  },
  {
   "cell_type": "markdown",
   "id": "6ecdd638",
   "metadata": {},
   "source": [
    "**e. Visualization**"
   ]
  },
  {
   "cell_type": "code",
   "execution_count": null,
   "id": "6012dd11",
   "metadata": {
    "tags": []
   },
   "outputs": [],
   "source": [
    "# Create the axis\n",
    "x_min = math.floor(torch.min(x).item())\n",
    "x_max = math.ceil(torch.max(x).item())\n",
    "y_min = math.floor(torch.min(y).item())\n",
    "y_max = math.ceil(torch.max(y).item())\n",
    "\n",
    "# Create the initial plot\n",
    "fig = plt.figure()\n",
    "plt.xlim(x_min, x_max)\n",
    "plt.ylim(y_min, y_max)\n",
    "plt.scatter(x, y, color='red')\n",
    "plt.xlabel('x')\n",
    "plt.ylabel('y')\n",
    "x_values = np.linspace(x_min, x_max, num=101)\n",
    "y_values = w_values[0]*x_values + b_values[0]\n",
    "lines = plt.plot(x_values, y_values)\n",
    "line = lines[0]\n",
    "\n",
    "def update(frame):\n",
    "    # Get the x and y coordinates for the current frame\n",
    "    y_values = w_values[frame]*x_values + b_values[frame]\n",
    "\n",
    "    # Update the scatter plot with the current point\n",
    "    line.set_data(x_values, y_values)\n",
    "\n",
    "# Create the animation\n",
    "animation = FuncAnimation(fig, update, frames=num_epochs, interval=200, blit=False)\n",
    "\n",
    "# Display the animation\n",
    "plt.show()"
   ]
  },
  {
   "cell_type": "code",
   "execution_count": null,
   "id": "19d2ea3c",
   "metadata": {},
   "outputs": [],
   "source": [
    "# Visualize MSE loss values over time\n",
    "fig = plt.figure()\n",
    "plt.plot(losses)\n",
    "plt.xlabel('epoch')\n",
    "plt.ylabel('MSE loss')"
   ]
  },
  {
   "cell_type": "markdown",
   "id": "37055600",
   "metadata": {},
   "source": [
    "**f. Make prediction**"
   ]
  },
  {
   "cell_type": "code",
   "execution_count": null,
   "id": "f89d4829",
   "metadata": {},
   "outputs": [],
   "source": [
    "# Input for prediction\n",
    "x_pred = 5\n",
    "\n",
    "# Convert to tensor\n",
    "x_pred = torch.tensor([x_pred]).float()\n",
    "\n",
    "# Run model forward\n",
    "y_pred = model(x_pred)\n",
    "\n",
    "# Convert back to number\n",
    "y_pred = y_pred.item()\n",
    "\n",
    "# Show result\n",
    "print(y_pred)"
   ]
  },
  {
   "cell_type": "markdown",
   "id": "3dd410c1",
   "metadata": {},
   "source": [
    "**g. Save and load model**"
   ]
  },
  {
   "cell_type": "code",
   "execution_count": null,
   "id": "3712059d",
   "metadata": {},
   "outputs": [],
   "source": [
    "# Save model\n",
    "model_name = 'model_1'\n",
    "file_name = f'./{model_name}_{num_epochs}.ckpt'\n",
    "torch.save(model.state_dict(), file_name)"
   ]
  },
  {
   "cell_type": "code",
   "execution_count": null,
   "id": "51f233a4",
   "metadata": {},
   "outputs": [],
   "source": [
    "# Load model\n",
    "file_name = f'./{model_name}_100.ckpt'\n",
    "loaded_model = LinearRegressionModel()\n",
    "loaded_model.load_state_dict(torch.load(file_name))"
   ]
  },
  {
   "cell_type": "markdown",
   "id": "c355a6d8",
   "metadata": {},
   "source": [
    "#### 11.1.3.2. Single-perceptron network with 2 inputs, with scaling"
   ]
  },
  {
   "cell_type": "markdown",
   "id": "f852a0e3",
   "metadata": {},
   "source": [
    "In this section, we will use a single-perceptron network to perform linear regression for function with multiple variables $y = f(x_1, x_2)$:\n",
    "\n",
    "*Network structure:*\n",
    "![Single-perceptron network](images/single-perceptron_network_2_inputs.png)"
   ]
  },
  {
   "cell_type": "markdown",
   "id": "3de7c90a",
   "metadata": {},
   "source": [
    "**b. Load data**"
   ]
  },
  {
   "cell_type": "code",
   "execution_count": 2,
   "id": "55a6cefc",
   "metadata": {},
   "outputs": [],
   "source": [
    "# Define the data points\n",
    "x1 = np.array([1.01, 2.03, 3.01, 4.07, 5.09])\n",
    "x2 = np.array([9.02, 7.04, 5.05, 3.03, 1.08])\n",
    "y = 2*x1 - 3*x2 +5"
   ]
  },
  {
   "cell_type": "code",
   "execution_count": 12,
   "id": "992ab3a0-2eec-406e-a1c5-38d2a371b1c3",
   "metadata": {},
   "outputs": [
    {
     "data": {
      "text/plain": [
       "array([-20.04, -12.06,  -4.13,   4.05,  11.94])"
      ]
     },
     "execution_count": 12,
     "metadata": {},
     "output_type": "execute_result"
    }
   ],
   "source": [
    "y"
   ]
  },
  {
   "cell_type": "code",
   "execution_count": 3,
   "id": "296dd874",
   "metadata": {},
   "outputs": [],
   "source": [
    "# Combine x1 and x2 into 1 array\n",
    "x = np.column_stack((x1, x2))\n",
    "\n",
    "# Define input and output scalers\n",
    "input_scaler = MinMaxScaler(feature_range=(0, 1))\n",
    "output_scaler = MinMaxScaler(feature_range=(0, 1))\n",
    "\n",
    "# Scale the data to the range from 0 to 1\n",
    "x_scaled = input_scaler.fit_transform(x)\n",
    "y_scaled = output_scaler.fit_transform(y.reshape(-1, 1)).reshape(-1)\n",
    "\n",
    "# Convert to tensor\n",
    "x_scaled = torch.tensor(x_scaled).float()\n",
    "y_scaled = torch.tensor(y_scaled).float()"
   ]
  },
  {
   "cell_type": "markdown",
   "id": "1467b6f6",
   "metadata": {},
   "source": [
    "**c. Create model**"
   ]
  },
  {
   "cell_type": "code",
   "execution_count": 4,
   "id": "5a48cea8",
   "metadata": {},
   "outputs": [],
   "source": [
    "# Define the linear regression class\n",
    "class LinearRegressionModel(nn.Module):\n",
    "    def __init__(self):\n",
    "        super(LinearRegressionModel, self).__init__()\n",
    "        self.linear = nn.Linear(2, 1)  # One input feature and one output\n",
    "\n",
    "    def forward(self, x):\n",
    "        return self.linear(x)"
   ]
  },
  {
   "cell_type": "code",
   "execution_count": 5,
   "id": "a89af10e",
   "metadata": {},
   "outputs": [],
   "source": [
    "# Instantiate the model\n",
    "model = LinearRegressionModel()"
   ]
  },
  {
   "cell_type": "markdown",
   "id": "d7a5086a",
   "metadata": {},
   "source": [
    "**d. Training**"
   ]
  },
  {
   "cell_type": "code",
   "execution_count": 6,
   "id": "91b7d264",
   "metadata": {},
   "outputs": [],
   "source": [
    "# Define the loss function and optimizer\n",
    "criterion = nn.MSELoss()\n",
    "optimizer = optim.SGD(model.parameters(), lr=0.01)"
   ]
  },
  {
   "cell_type": "code",
   "execution_count": 7,
   "id": "d4d1267f",
   "metadata": {},
   "outputs": [],
   "source": [
    "# Define the train function\n",
    "def train(x, y):\n",
    "    # Forward pass\n",
    "    outputs = model(x)\n",
    "    loss = criterion(outputs, y.unsqueeze(1))\n",
    "    \n",
    "    # Backward and optimize\n",
    "    optimizer.zero_grad()\n",
    "    loss.backward()\n",
    "    optimizer.step()\n",
    "    \n",
    "    return loss.item()"
   ]
  },
  {
   "cell_type": "code",
   "execution_count": 8,
   "id": "91d84ed7",
   "metadata": {},
   "outputs": [],
   "source": [
    "# Create lists of parameters and losses for visualization\n",
    "w_values = []\n",
    "b_values = []\n",
    "losses = []"
   ]
  },
  {
   "cell_type": "code",
   "execution_count": 9,
   "id": "013a5dcc",
   "metadata": {},
   "outputs": [
    {
     "name": "stderr",
     "output_type": "stream",
     "text": [
      "Epoch [1000/1000], Train loss: 0.0000: 100%|██████████████████████████████████████| 1000/1000 [00:01<00:00, 909.31it/s]\n"
     ]
    }
   ],
   "source": [
    "# Train the model\n",
    "num_epochs = 1000\n",
    "progress_bar = tqdm(range(num_epochs))\n",
    "for epoch in progress_bar:\n",
    "    train_loss = train(x_scaled, y_scaled)\n",
    "    \n",
    "    # Get the trained parameters\n",
    "    w1 = model.linear.weight[0][0].item()\n",
    "    w2 = model.linear.weight[0][1].item()\n",
    "    b = model.linear.bias.item()\n",
    "    \n",
    "    # Add trained parameters to their lists for visualization\n",
    "    w_values.append((w1, w2))\n",
    "    b_values.append(b)\n",
    "    losses.append(train_loss)\n",
    "    \n",
    "    # Print progress\n",
    "    progress_bar.set_description(f'Epoch [{epoch+1}/{num_epochs}], Train loss: {train_loss:.4f}') "
   ]
  },
  {
   "cell_type": "markdown",
   "id": "e3d18638",
   "metadata": {},
   "source": [
    "**e. Visualization**"
   ]
  },
  {
   "cell_type": "code",
   "execution_count": 10,
   "id": "33a76692",
   "metadata": {},
   "outputs": [
    {
     "data": {
      "text/plain": [
       "Text(0, 0.5, 'MSE loss')"
      ]
     },
     "execution_count": 10,
     "metadata": {},
     "output_type": "execute_result"
    },
    {
     "data": {
      "application/vnd.jupyter.widget-view+json": {
       "model_id": "bd1d4c40d4ae4e95bedfa5b74a85e936",
       "version_major": 2,
       "version_minor": 0
      },
      "image/png": "[encoded data removed]",
      "text/html": [
       "\n",
       "            <div style=\"display: inline-block;\">\n",
       "                <div class=\"jupyter-widgets widget-label\" style=\"text-align: center;\">\n",
       "                    Figure\n",
       "                </div>\n",
       "                <img src='data:image/png;base64,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' width=640.0/>\n",
       "            </div>\n",
       "        "
      ],
      "text/plain": [
       "Canvas(toolbar=Toolbar(toolitems=[('Home', 'Reset original view', 'home', 'home'), ('Back', 'Back to previous …"
      ]
     },
     "metadata": {},
     "output_type": "display_data"
    }
   ],
   "source": [
    "# Visualize MSE loss values over time\n",
    "fig = plt.figure()\n",
    "plt.plot(losses)\n",
    "plt.xlabel('epoch')\n",
    "plt.ylabel('MSE loss')"
   ]
  },
  {
   "cell_type": "markdown",
   "id": "fcb03fb9",
   "metadata": {},
   "source": [
    "**f. Make prediction**"
   ]
  },
  {
   "cell_type": "code",
   "execution_count": 19,
   "id": "00758fe3-2df1-437a-9d65-ed49a0bd74cb",
   "metadata": {},
   "outputs": [
    {
     "name": "stdout",
     "output_type": "stream",
     "text": [
      "[[-19.931768 ]\n",
      " [-11.963268 ]\n",
      " [ -4.281882 ]\n",
      " [  3.9882126]\n",
      " [ 11.948025 ]]\n"
     ]
    },
    {
     "name": "stderr",
     "output_type": "stream",
     "text": [
      "C:\\Users\\nguye\\AppData\\Local\\Temp\\ipykernel_33956\\2700793302.py:2: UserWarning: To copy construct from a tensor, it is recommended to use sourceTensor.clone().detach() or sourceTensor.clone().detach().requires_grad_(True), rather than torch.tensor(sourceTensor).\n",
      "  y_pred_scaled = model(torch.tensor(x_scaled, dtype=torch.float)).detach().numpy()\n"
     ]
    }
   ],
   "source": [
    "# Run model forward\n",
    "y_pred_scaled = model(torch.tensor(x_scaled, dtype=torch.float)).detach().numpy()\n",
    "\n",
    "# Scale output back to original range\n",
    "y_pred = output_scaler.inverse_transform(y_pred_scaled)\n",
    "\n",
    "print(y_pred)"
   ]
  },
  {
   "cell_type": "code",
   "execution_count": 11,
   "id": "9daeefaf",
   "metadata": {},
   "outputs": [
    {
     "name": "stdout",
     "output_type": "stream",
     "text": [
      "33.069413573741905\n"
     ]
    }
   ],
   "source": [
    "# Input for prediction\n",
    "x_pred = [8, 1]\n",
    "\n",
    "# Scale input to range 0 to 1\n",
    "x_pred_scaled = input_scaler.transform([x_pred])\n",
    "\n",
    "# Convert to tensor\n",
    "x_pred_scaled = torch.tensor(x_pred_scaled).float()\n",
    "\n",
    "# Run model forward\n",
    "y_pred_scaled = model(x_pred_scaled)\n",
    "\n",
    "# Convert back to number\n",
    "y_pred_scaled = y_pred_scaled.item()\n",
    "\n",
    "# Scale output back to original range\n",
    "y_pred = output_scaler.inverse_transform([[y_pred_scaled]])[0][0]\n",
    "\n",
    "# Show result\n",
    "print(y_pred)"
   ]
  },
  {
   "cell_type": "markdown",
   "id": "bd0ccdf1",
   "metadata": {},
   "source": [
    "**g. Save and load model**"
   ]
  },
  {
   "cell_type": "code",
   "execution_count": null,
   "id": "c7ea803f",
   "metadata": {},
   "outputs": [],
   "source": [
    "# Save model\n",
    "model_name = 'model_2'\n",
    "file_name = f'./{model_name}_{num_epochs}.ckpt'\n",
    "torch.save(model.state_dict(), file_name)"
   ]
  },
  {
   "cell_type": "code",
   "execution_count": null,
   "id": "5f8dfad4",
   "metadata": {},
   "outputs": [],
   "source": [
    "# Load model\n",
    "file_name = f'./{model_name}_2000.ckpt'\n",
    "loaded_model = LinearRegressionModel()\n",
    "loaded_model.load_state_dict(torch.load(file_name))"
   ]
  },
  {
   "cell_type": "code",
   "execution_count": null,
   "id": "358c1974-9373-46f4-91dc-0817e0f1e034",
   "metadata": {},
   "outputs": [],
   "source": []
  }
 ],
 "metadata": {
  "kernelspec": {
   "display_name": "Python 3 (ipykernel)",
   "language": "python",
   "name": "python3"
  },
  "language_info": {
   "codemirror_mode": {
    "name": "ipython",
    "version": 3
   },
   "file_extension": ".py",
   "mimetype": "text/x-python",
   "name": "python",
   "nbconvert_exporter": "python",
   "pygments_lexer": "ipython3",
   "version": "3.12.3"
  },
  "toc": {
   "base_numbering": "",
   "nav_menu": {},
   "number_sections": false,
   "sideBar": true,
   "skip_h1_title": false,
   "title_cell": "Table of Contents",
   "title_sidebar": "Table of Contents",
   "toc_cell": false,
   "toc_position": {
    "height": "calc(100% - 180px)",
    "left": "10px",
    "top": "150px",
    "width": "244.333px"
   },
   "toc_section_display": true,
   "toc_window_display": true
  }
 },
 "nbformat": 4,
 "nbformat_minor": 5
}
