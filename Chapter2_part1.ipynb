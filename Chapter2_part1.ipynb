{
 "cells": [
  {
   "cell_type": "markdown",
   "id": "ce2d6e30",
   "metadata": {},
   "source": [
    "# **Chapter 2. Fundamentals of Statistics**"
   ]
  },
  {
   "cell_type": "markdown",
   "id": "3b4301ad-93fc-4ab2-bd36-e0e18554a40c",
   "metadata": {},
   "source": [
    "## **2.1. Population and Sampling**"
   ]
  },
  {
   "cell_type": "markdown",
   "id": "e579219b-fb19-4fc3-b7f9-ebf14ff8fa02",
   "metadata": {},
   "source": [
    "In statistics, it is often impractical or impossible to collect data from an entire population. Instead, a sample is taken to make inferences about the population.\n",
    "\n",
    "![Population_Sample](./images/Population_Sample.webp)\n",
    "\n",
    "Definitions:\n",
    "- **Population:** The entire set of items or events under study.\n",
    "- **Sample:** A subset of the population, selected for analysis.\n",
    "\n",
    "Why Sampling?\n",
    "- To save time and resources.\n",
    "- To allow statistical inference about a population based on a smaller dataset.\n",
    "\n",
    "Random Sampling:\n",
    "Random sampling ensures that every member of the population has an equal chance of being selected. This minimizes bias and allows generalization of results to the population.\n",
    "\n",
    "Below is an example of how to generate a population and take a random sample using Python."
   ]
  },
  {
   "cell_type": "code",
   "execution_count": null,
   "id": "2039cf92-64b2-41e1-92ee-7771d41c9be9",
   "metadata": {},
   "outputs": [],
   "source": [
    "import numpy as np\n",
    "\n",
    "# Generate a population of 100 random integers between 1 and 20\n",
    "np.random.seed(42)  # For reproducibility\n",
    "population = np.random.randint(1, 21, size=100)\n",
    "print(\"Population:\", population)\n",
    "\n",
    "# Take a random sample of 20 elements from the population\n",
    "sample_indices = np.random.choice(np.arange(len(population)), size=20, replace=False)\n",
    "sample = population[sample_indices]\n",
    "print(\"Sample:\", sample)\n",
    "\n",
    "# Verify population and sample sizes\n",
    "print(f\"Population size: {len(population)}\")\n",
    "print(f\"Sample size: {len(sample)}\")"
   ]
  },
  {
   "cell_type": "code",
   "execution_count": null,
   "id": "54820160-fdba-4958-8123-2421c9f80fea",
   "metadata": {
    "scrolled": true
   },
   "outputs": [],
   "source": [
    "import matplotlib.pyplot as plt\n",
    "\n",
    "# Create an array of indices for the population\n",
    "indices = np.arange(len(population))\n",
    "\n",
    "# Create a mask to identify sampled elements\n",
    "sample_mask = np.zeros_like(population, dtype=bool)\n",
    "sample_mask[sample_indices] = True\n",
    "\n",
    "# Plotting\n",
    "plt.figure(figsize=(14, 6))\n",
    "\n",
    "# Plot the population values\n",
    "plt.scatter(indices, population, color='gray', alpha=0.7, label='Population')\n",
    "\n",
    "# Highlight the sampled numbers\n",
    "plt.scatter(indices[sample_mask], population[sample_mask], color='red', label='Sampled Numbers')\n",
    "\n",
    "# Optional: Connect the sampled points with vertical lines for emphasis\n",
    "plt.vlines(indices[sample_mask], ymin=0, ymax=population[sample_mask], colors='red', linestyles='dotted', alpha=0.5)\n",
    "\n",
    "# Labels and title\n",
    "plt.xlabel('Index')\n",
    "plt.ylabel('Value')\n",
    "plt.title('Visualization of Random Sampling from Population')\n",
    "\n",
    "# Legend\n",
    "plt.legend()\n",
    "\n",
    "# Grid for better readability\n",
    "plt.grid(True, linestyle='--', alpha=0.5)\n",
    "\n",
    "# Show the plot\n",
    "plt.show()"
   ]
  },
  {
   "cell_type": "markdown",
   "id": "1b0f5658-c76b-416b-b810-bfccfc7f1c66",
   "metadata": {},
   "source": [
    "<p style=\"background-color: lightgreen; text-align: center; font-size: 18px; color: red; padding: 5px; border-radius: 10px;\"><b>Exercise 1</b></p>\n",
    "\n",
    "Write Python code to:\n",
    "1. Load the `IrisFlower.csv` file into a dataframe.\n",
    "2. Store the column \"Sepal length\" as a numpy array named `sepal_length`\n",
    "3. Take 20 samples from the `sepal_length` array\n",
    "4. Visualize the sampling"
   ]
  },
  {
   "cell_type": "code",
   "execution_count": null,
   "id": "fb6e8962-5d57-48e1-9533-e8d4c6f4e068",
   "metadata": {},
   "outputs": [],
   "source": []
  },
  {
   "cell_type": "code",
   "execution_count": null,
   "id": "eef7229d-6a78-4420-ab4c-31478c9b4ab8",
   "metadata": {},
   "outputs": [],
   "source": []
  },
  {
   "cell_type": "code",
   "execution_count": null,
   "id": "9ef762fd-2a71-444d-a54e-6fa9843a48e1",
   "metadata": {},
   "outputs": [],
   "source": []
  },
  {
   "cell_type": "code",
   "execution_count": null,
   "id": "a0d10914-a469-48a3-b369-d003541ebad9",
   "metadata": {},
   "outputs": [],
   "source": []
  },
  {
   "cell_type": "markdown",
   "id": "0d09f3a0",
   "metadata": {},
   "source": [
    "## **2.2. Descriptive Statistics**"
   ]
  },
  {
   "cell_type": "markdown",
   "id": "5c1bcbc6",
   "metadata": {},
   "source": [
    "Descriptive statistics involves summarizing and organizing data to make it easier to understand. Key aspects include:\n",
    "\n",
    "- **Central Tendency:** Mean, Median, Mode\n",
    "- **Variability:** Range, Variance, Standard Deviation\n",
    "- **Distribution Shape:** Skewness, Kurtosis\n",
    "\n",
    "These measures help us understand the general behavior of data, making them a foundation for statistical analysis."
   ]
  },
  {
   "cell_type": "markdown",
   "id": "4d478d5a",
   "metadata": {},
   "source": [
    "### **2.2.1. Measures of Central Tendency**"
   ]
  },
  {
   "cell_type": "markdown",
   "id": "a2f9462f-1bb6-41a5-83a6-beaabd5f5210",
   "metadata": {},
   "source": [
    "#### ***2.2.1.1. Mean***"
   ]
  },
  {
   "cell_type": "markdown",
   "id": "06b91306-032b-47ee-88aa-0c5f3c91d884",
   "metadata": {},
   "source": [
    "**Definitions:** Average of the data.\n",
    "\n",
    "$$\n",
    "\\mu = \\frac{1}{N} \\sum_{i=1}^{N} x_i\n",
    "$$\n",
    "\n",
    "Where:\n",
    "- $\\mu$: Population mean\n",
    "- $x_i$: Individual data points\n",
    "- $N$: Total number of data points\n",
    "\n",
    "For a sample, the mean is denoted as:\n",
    "\n",
    "$$\n",
    "\\bar{x} = \\frac{1}{n} \\sum_{i=1}^{n} x_i\n",
    "$$\n",
    "\n",
    "Where:\n",
    "- $\\bar{x}$: Sample mean\n",
    "- $n$: Number of observations in the sample"
   ]
  },
  {
   "cell_type": "markdown",
   "id": "312c70ac-1fc1-4a5a-bada-a90a2c30bb6c",
   "metadata": {},
   "source": [
    "#### ***2.2.1.2. Geometric Mean***"
   ]
  },
  {
   "cell_type": "markdown",
   "id": "c553ab61-3bf7-456e-83e8-c5c3f949f207",
   "metadata": {},
   "source": [
    "**Definition:***\n",
    "The geometric mean is a type of average that indicates the central tendency of a set of numbers by using the product of their values. It is especially useful for sets of positive numbers that are interpreted according to their product and is commonly used in financial analysis, growth rates, and environmental studies.\n",
    "\n",
    "The geometric mean is defined as the nth root of the product of all data points.\n",
    "\n",
    "$$\n",
    "\\sqrt[N]{\\prod_{i=1}^{N} x_i}\n",
    "$$\n",
    "\n",
    "Where:\n",
    "- $N$: Total number of data points (for population)\n",
    "- $x_i$: Individual data points\n",
    "\n",
    "For a sample, the geometric mean is similarly defined:\n",
    "\n",
    "$$\n",
    "\\sqrt[n]{\\prod_{i=1}^{n} x_i}\n",
    "$$\n",
    "\n",
    "Where:\n",
    "- $n$: Number of observations in the sample\n",
    "\n",
    "**Usage:**\n",
    "- Financial Analysis: Calculating average growth rates over multiple periods.\n",
    "- Environmental Science: Averaging ratios like pollutant concentrations.\n",
    "- Biology: Determining average rates of population growth.\n",
    "- Data Normalization: Useful in multiplicative processes and for data that spans several orders of magnitude."
   ]
  },
  {
   "cell_type": "markdown",
   "id": "f6ab6305-6835-4a19-9832-3151713ae917",
   "metadata": {},
   "source": [
    "#### ***2.2.1.3. Harmonic Mean***"
   ]
  },
  {
   "cell_type": "markdown",
   "id": "6f740871-158d-4ab2-87e2-0bd263a04b2f",
   "metadata": {},
   "source": [
    "**Definition:** The harmonic mean is a type of average, typically used when dealing with rates or ratios. It is especially appropriate when the average of rates is desired, and it tends to mitigate the impact of large outliers, providing a better measure for datasets dominated by small values.\n",
    "\n",
    "The harmonic mean is defined as the reciprocal of the arithmetic mean of the reciprocals of the data points.\n",
    "\n",
    "$$\n",
    "\\text{Harmonic Mean}=\\frac{N}{sum_{i=1}^{N} x_i}\n",
    "$$\n",
    "\n",
    "Where:\n",
    "- $N$: Total number of data points (for population)\n",
    "- $x_i$: Individual data points\n",
    "\n",
    "For a sample, the harmonic mean is similarly defined:\n",
    "\n",
    "$$\n",
    "\\text{Harmonic Mean}=\\frac{n}{sum_{i=1}^{n} x_i}\n",
    "$$\n",
    "\n",
    "Where:\n",
    "\n",
    "- $n$: Number of observations in the sample\n",
    "\n",
    "**Usage:**\n",
    "- Rates and Ratios: Ideal for averaging quantities like speeds, efficiencies, or any rates where the denominator is variable.\n",
    "- Finance: Useful in calculating average multiples like the Price-to-Earnings (P/E) ratio.\n",
    "- Engineering: Applicable in scenarios involving parallel systems or resistances.\n"
   ]
  },
  {
   "cell_type": "markdown",
   "id": "71d43e0c-ac55-4a1b-a064-f69fb0221ccb",
   "metadata": {},
   "source": [
    "#### ***2.2.1.4. Median***"
   ]
  },
  {
   "cell_type": "markdown",
   "id": "ec42e3f3-afc7-491d-a739-1329cd2e54a7",
   "metadata": {},
   "source": [
    "**Definitions:** Middle value when data is sorted."
   ]
  },
  {
   "cell_type": "markdown",
   "id": "2ad398c7-db9d-48db-8df1-7eb55cb348ca",
   "metadata": {},
   "source": [
    "#### ***2.2.1.5. Mode***"
   ]
  },
  {
   "cell_type": "markdown",
   "id": "1f1f4a47-e24a-4d97-b57a-36a32d586995",
   "metadata": {},
   "source": [
    "**Definitions:** Most frequent value in the data."
   ]
  },
  {
   "cell_type": "markdown",
   "id": "a42b5a55-70eb-4ce4-83e4-f3f845db357d",
   "metadata": {},
   "source": [
    "Let's compute these using Python."
   ]
  },
  {
   "cell_type": "code",
   "execution_count": null,
   "id": "b73a9776-320d-483e-a79d-10e9b25d318f",
   "metadata": {
    "scrolled": true
   },
   "outputs": [],
   "source": [
    "#Example: Computing Mean, Median, and Mode\n",
    "from scipy import stats\n",
    "\n",
    "# Mean\n",
    "population_mean = np.mean(population)\n",
    "print(f'Population mean: {population_mean}')\n",
    "sample_mean = np.mean(sample)\n",
    "print(f'Sample mean: {sample_mean}')\n",
    "\n",
    "# Geometric mean\n",
    "population_geometric_mean = stats.gmean(population)\n",
    "print(f'Population Geometric Mean: {population_geometric_mean:.2f}')\n",
    "sample_geometric_mean = stats.gmean(sample)\n",
    "print(f'Sample Geometric Mean: {sample_geometric_mean:.2f}')\n",
    "    \n",
    "# Harmonic mean\n",
    "population_harmonic_mean = stats.hmean(population)\n",
    "print(f'Population harmonic mean: {population_harmonic_mean}')\n",
    "sample_harmonic_mean = stats.hmean(sample)\n",
    "print(f'Sample harmonic mean: {sample_harmonic_mean}')\n",
    "\n",
    "# Median\n",
    "population_median = np.median(population)\n",
    "print(f'Population median: {population_median}')\n",
    "sample_median = np.median(sample)\n",
    "print(f'Sample median: {sample_median}')\n",
    "\n",
    "# Mode\n",
    "population_mode = stats.mode(population)\n",
    "print(f'Population mode: {population_mode.mode}, Count: {population_mode.count}')\n",
    "sample_mode = stats.mode(sample)\n",
    "print(f'Sample mode: {sample_mode.mode}, Count: {sample_mode.count}')"
   ]
  },
  {
   "cell_type": "code",
   "execution_count": null,
   "id": "6efb1fd3-484e-405f-8626-9d1e71fa0d6c",
   "metadata": {},
   "outputs": [],
   "source": []
  },
  {
   "cell_type": "markdown",
   "id": "4f12c6f0-a417-4bf5-a6d1-1d9932843ee9",
   "metadata": {},
   "source": [
    "### **2.2.2. Measures of Variability**"
   ]
  },
  {
   "cell_type": "markdown",
   "id": "9e60dd11-aed6-4885-9c55-fcf4e4898516",
   "metadata": {},
   "source": [
    "#### ***2.2.2.1. Range***"
   ]
  },
  {
   "cell_type": "markdown",
   "id": "ff068c2e-7ab1-4058-b701-47d4321ce0c4",
   "metadata": {},
   "source": [
    "**Definitions:** Difference between the maximum and minimum values."
   ]
  },
  {
   "cell_type": "code",
   "execution_count": null,
   "id": "627286c6-ab52-4182-955e-5d29c904cabe",
   "metadata": {},
   "outputs": [],
   "source": [
    "# Population Range\n",
    "population_range_value = np.max(population) - np.min(population)\n",
    "print(f'Population range: {population_range_value}')\n",
    "\n",
    "# Sample Range\n",
    "sample_range_value = np.max(sample) - np.min(sample)\n",
    "print(f'Sample range: {sample_range_value}')"
   ]
  },
  {
   "cell_type": "markdown",
   "id": "179b7cdc-eafc-4871-9cc1-c9ee7e1ce6fd",
   "metadata": {},
   "source": [
    "#### ***2.2.2.2. Variance***"
   ]
  },
  {
   "cell_type": "markdown",
   "id": "d090a42b-6703-4eda-bcbd-433c308b7c8f",
   "metadata": {},
   "source": [
    "**Definitions:** Average of squared differences from the mean.\n",
    "\n",
    "*Population Variance*\n",
    "\n",
    "$$\n",
    "\\sigma^2 = \\frac{1}{N} \\sum_{i=1}^{N} (x_i - \\mu)^2\n",
    "$$\n",
    "\n",
    "Where:\n",
    "- $\\sigma^2$: Population variance\n",
    "- $\\mu $: Population mean- $\\bar{x}$: Sample mean\n",
    "- $N$: Total population size\n",
    "- $n$: Sample size\n",
    "\n",
    "*Sample Variance*\n",
    "\n",
    "$$\n",
    "s^2 = \\frac{1}{n-1} \\sum_{i=1}^{n} (x_i - \\bar{x})^2\n",
    "$$\n",
    "\n",
    "Where:\n",
    "- $s^2$: Sample variance\n",
    "- $\\bar{x}$: Sample mean\n",
    "- $N$: Total population size\n",
    "- $n$: Sample size\n",
    "\n",
    "**Difference:** The sample variance uses $n-1$ in the denominator (degrees of freedom) to correct for bias when estimating the population variance from a sample."
   ]
  },
  {
   "cell_type": "code",
   "execution_count": null,
   "id": "2cb3272e-91e6-40a8-8b48-8eaa9d90dc12",
   "metadata": {},
   "outputs": [],
   "source": [
    "# Population Variance\n",
    "population_variance = np.var(population)\n",
    "print(f'Population Variance: {population_variance}')\n",
    "\n",
    "# Sample Variance\n",
    "sample_variance = np.var(sample, ddof=1)  # ddof=1 applies Bessel's correction\n",
    "print(f'Sample Variance: {sample_variance}')"
   ]
  },
  {
   "cell_type": "markdown",
   "id": "aab17311-cc12-4478-99aa-a6f111233e93",
   "metadata": {},
   "source": [
    "#### ***2.2.2.3. Standard Deviation***"
   ]
  },
  {
   "cell_type": "markdown",
   "id": "4b9174aa-c478-4211-a504-55b4a3bd60d9",
   "metadata": {},
   "source": [
    "**Definitions:** Square root of the variance, measuring spread around the mean.\n",
    "\n",
    "*Population Standard Deviation*\n",
    "$$\n",
    "\\sigma = \\sqrt{\\frac{1}{N} \\sum_{i=1}^{N} (x_i - \\mu)^2}\n",
    "$$\n",
    "\n",
    "*Sample Standard Deviation*\n",
    "$$\n",
    "s = \\sqrt{ \\sum_{i=1}^{n} (x_i - \\bar{x})^2}\n",
    "$$\n",
    "\n",
    "**Difference:** Like variance, the sample standard deviation uses $n-1$ in the denominator to correct for bias."
   ]
  },
  {
   "cell_type": "code",
   "execution_count": null,
   "id": "4c60cf37-18b2-40fb-8978-2a119e183c58",
   "metadata": {},
   "outputs": [],
   "source": [
    "# Population Standard Deviation\n",
    "population_std_dev = np.std(population)\n",
    "print(f'Population Standard Deviation: {population_std_dev}')\n",
    "\n",
    "# Sample Standard Deviation\n",
    "sample_std_dev = np.std(sample, ddof=1)  # ddof=1 applies Bessel's correction\n",
    "print(f'Sample Standard Deviation: {sample_std_dev}')"
   ]
  },
  {
   "cell_type": "markdown",
   "id": "3c5af063-5a46-4bde-8278-7f44cc52793c",
   "metadata": {},
   "source": [
    "#### ***2.2.2.4. Standard Error***"
   ]
  },
  {
   "cell_type": "markdown",
   "id": "c57d0d4a-241d-4819-b545-279d246bfa86",
   "metadata": {},
   "source": [
    "**Definition:** The standard error (SE) measures the accuracy with which a sample mean estimates the population mean. It quantifies the variability of the sample mean from the true population mean.\n",
    "\n",
    "$$\n",
    "\\text{SE} = \\frac{\\sigma}{\\sqrt{N}}\n",
    "$$\n",
    "\n",
    "For a sample, the standard error is calculated using the sample standard deviation:\n",
    "\n",
    "$$\n",
    "\\text{SE} = \\frac{s}{\\sqrt{n}}\n",
    "$$\n",
    "\n",
    "**Usage:**\n",
    "- Confidence Intervals: SE is used to construct confidence intervals around the sample mean.\n",
    "- Hypothesis Testing: SE helps in determining how far the sample mean is from the hypothesized population mean.\n"
   ]
  },
  {
   "cell_type": "code",
   "execution_count": null,
   "id": "921dde42-05c3-4de7-a7ec-e08023a0932a",
   "metadata": {},
   "outputs": [],
   "source": [
    "# Population Standard Error\n",
    "population_std_dev = np.std(population, ddof=0)\n",
    "population_size = len(population)\n",
    "population_se = population_std_dev / np.sqrt(population_size)\n",
    "print(f'Population Standard Error: {population_se}')\n",
    "\n",
    "# Sample Standard Error\n",
    "sample_std_dev = np.std(sample, ddof=1)  # ddof=1 for sample standard deviation\n",
    "sample_size = len(sample)\n",
    "sample_se = sample_std_dev / np.sqrt(sample_size)\n",
    "print(f'Sample Standard Error: {sample_se}')"
   ]
  },
  {
   "cell_type": "markdown",
   "id": "bf42152f-ffbc-4d7d-9dab-0754c0c445ed",
   "metadata": {},
   "source": [
    "#### ***2.2.2.5. Coefficient of Variation (Cv)***"
   ]
  },
  {
   "cell_type": "markdown",
   "id": "00eea7a0-1705-4845-9b25-3362fd9e44db",
   "metadata": {},
   "source": [
    "**Definition:** The coefficient of variation (Cv) is a standardized measure of dispersion of a probability distribution or frequency distribution. It is the ratio of the standard deviation to the mean, and it is expressed as a percentage.\n",
    "\n",
    "$$\n",
    "\\text{Cv}=\\frac{\\sigma}{\\mu} \\times 100\\%\n",
    "$$\n",
    "\n",
    "For a sample, it is calculated as:\n",
    "\n",
    "$$\n",
    "\\text{Cv}=\\frac{s}{\\mu} \\times 100\\%\n",
    "$$\n",
    "\n",
    "**Usage:**\n",
    "\n",
    "- Comparing Variability: Cv is useful for comparing the degree of variation between datasets with different units or vastly different means.\n",
    "- Relative Risk: In fields like finance and biology, Cv helps assess relative risk or variability.\n"
   ]
  },
  {
   "cell_type": "code",
   "execution_count": null,
   "id": "5646301e-a252-4789-bbf9-2bf49e1d44ec",
   "metadata": {},
   "outputs": [],
   "source": [
    "# Coefficient of Variation for Population\n",
    "population_mean = np.mean(population)\n",
    "population_cv = (population_std_dev / population_mean) * 100\n",
    "print(f'Population Coefficient of Variation: {population_cv:.2f}%')\n",
    "\n",
    "# Coefficient of Variation for Sample\n",
    "sample_mean = np.mean(sample)\n",
    "sample_cv = (sample_std_dev / sample_mean) * 100\n",
    "print(f'Sample Coefficient of Variation: {sample_cv:.2f}%')\n"
   ]
  },
  {
   "cell_type": "markdown",
   "id": "eca6271b-e5fa-4400-b22c-7c8f602e6c16",
   "metadata": {},
   "source": [
    "<p style=\"background-color: lightgreen; text-align: center; font-size: 18px; color: red; padding: 5px; border-radius: 10px;\"><b>Exercise 2</b></p>\n",
    "\n",
    "Write Python code to:\n",
    "1. Load the `IrisFlower.csv` file into a dataframe.\n",
    "2. Calculate the range, variance, and standard deviation, standard error and coefficient of variation for all columns of the dataset."
   ]
  },
  {
   "cell_type": "code",
   "execution_count": null,
   "id": "6911fec9-2786-4361-b79e-415b2ab4d64f",
   "metadata": {},
   "outputs": [],
   "source": []
  },
  {
   "cell_type": "code",
   "execution_count": null,
   "id": "2e659d1b-026b-4ea1-91b4-54efa6ecff79",
   "metadata": {},
   "outputs": [],
   "source": []
  },
  {
   "cell_type": "markdown",
   "id": "e095fbe0-85fd-4be7-a3e0-b33da13518ea",
   "metadata": {},
   "source": [
    "### **2.2.3. Distribution Shape**"
   ]
  },
  {
   "cell_type": "markdown",
   "id": "e1bde24e-1033-4906-ac2c-4d1a66508130",
   "metadata": {},
   "source": [
    "#### ***2.2.3.1. Skewness***"
   ]
  },
  {
   "cell_type": "markdown",
   "id": "1aef3bee-412b-49b3-99ac-8451096d03ca",
   "metadata": {},
   "source": [
    "**Definitions:** Measures symmetry of the data distribution.\n",
    "\n",
    "$$\n",
    "\\text{Skewness} = \\frac{\\frac{1}{N} \\sum_{i=1}^{N} (x_i - \\mu)^3}{\\sigma^3}\n",
    "$$\n",
    "\n",
    "Where:\n",
    "- Positive skewness: Distribution tails off to the right.\n",
    "- Negative skewness: Distribution tails off to the left."
   ]
  },
  {
   "cell_type": "markdown",
   "id": "ac56d0ef-8db9-475b-9625-a844e7292fc5",
   "metadata": {},
   "source": [
    "#### ***2.2.3.2. Kurtosis***"
   ]
  },
  {
   "cell_type": "markdown",
   "id": "3c2c0a27-e3ce-49aa-ac3c-707b382a905f",
   "metadata": {},
   "source": [
    "**Definitions:** Measures the \"tailedness\" of the data distribution.\n",
    "\n",
    "$$\n",
    "\\text{Kurtosis} = \\frac{\\frac{1}{N} \\sum_{i=1}^{N} (x_i - \\mu)^4}{\\sigma^4} - 3\n",
    "$$\n",
    "\n",
    "Where:\n",
    "- A kurtosis of 0 indicates a normal distribution (mesokurtic).\n",
    "- Positive kurtosis: Heavy-tailed distribution (leptokurtic).\n",
    "- Negative kurtosis: Light-tailed distribution (platykurtic).\n",
    "\n",
    "The $-3$ adjustment is used to make the kurtosis of a normal distribution equal to 0."
   ]
  },
  {
   "cell_type": "markdown",
   "id": "aaf2b37e-acce-486a-aeb6-ebfde5e3d7a1",
   "metadata": {},
   "source": [
    "Let's compute these using Python."
   ]
  },
  {
   "cell_type": "code",
   "execution_count": null,
   "id": "f9b12a25-f6a6-46d5-b79a-2aa1cd7f3f48",
   "metadata": {},
   "outputs": [],
   "source": [
    "# Example: Computing Skewness and Kurtosis\n",
    "# Skewness\n",
    "skewness = stats.skew(sample)\n",
    "print(f'Skewness: {skewness}')\n",
    "\n",
    "# Kurtosis\n",
    "kurtosis = stats.kurtosis(sample)\n",
    "print(f'Kurtosis: {kurtosis}')"
   ]
  },
  {
   "cell_type": "markdown",
   "id": "6d1d03b9-8cf1-4da8-b36f-3f7ed7041d55",
   "metadata": {},
   "source": [
    "<p style=\"background-color: lightgreen; text-align: center; font-size: 18px; color: red; padding: 5px; border-radius: 10px;\"><b>Exercise 3</b></p>\n",
    "\n",
    "Write Python code to:\n",
    "1. Load the `IrisFlower.csv` file into a dataframe.\n",
    "2. Calculate the skewness and Kurtosis for all columns of the dataset."
   ]
  },
  {
   "cell_type": "code",
   "execution_count": null,
   "id": "d5627ca7-315c-4929-b559-526a0f5f1abc",
   "metadata": {},
   "outputs": [],
   "source": []
  },
  {
   "cell_type": "code",
   "execution_count": null,
   "id": "75987d4c-c780-45c8-8d9c-0862fed7d370",
   "metadata": {},
   "outputs": [],
   "source": []
  },
  {
   "cell_type": "markdown",
   "id": "249cb6aa-3656-49df-804b-b8d5550e2445",
   "metadata": {},
   "source": [
    "### **2.2.4. Visualizing Data**"
   ]
  },
  {
   "cell_type": "markdown",
   "id": "f0f3df60-c4ef-4a9c-bf21-d83d3a43aed0",
   "metadata": {},
   "source": [
    "Visualizations help us better understand the data distribution. Common plots include:\n",
    "- **Histogram:** Shows frequency of data points in intervals.\n",
    "- **Box Plot:** Highlights spread, median, and outliers.\n",
    "- **Scatter Plot:** Shows relationships between variables."
   ]
  },
  {
   "cell_type": "markdown",
   "id": "9aec3c3a-23cf-4d10-a491-bfc56eab5056",
   "metadata": {},
   "source": [
    "#### ***2.2.4.1. Histogram***"
   ]
  },
  {
   "cell_type": "code",
   "execution_count": null,
   "id": "f02de585-b319-40dc-b7ae-7b5b1c582ae7",
   "metadata": {
    "scrolled": true
   },
   "outputs": [],
   "source": [
    "# Example: Histogram for sample\n",
    "import matplotlib.pyplot as plt\n",
    "import seaborn as sns\n",
    "\n",
    "# Histogram\n",
    "plt.hist(sample, bins=5, alpha=0.7, color='blue', edgecolor='black')\n",
    "plt.title('Sample Histogram')\n",
    "plt.xlabel('Value')\n",
    "plt.ylabel('Frequency')\n",
    "plt.show()"
   ]
  },
  {
   "cell_type": "code",
   "execution_count": null,
   "id": "f9fa83cb-4ef6-4348-8260-70d4451e28f2",
   "metadata": {},
   "outputs": [],
   "source": [
    "# Example: Histogram for sample and population\n",
    "from scipy.stats import norm\n",
    "\n",
    "# Create figure and axes for subplots\n",
    "fig, axes = plt.subplots(1, 2, figsize=(16, 5))\n",
    "\n",
    "# Histogram of Population with Normal Curve\n",
    "ax1 = axes[0]\n",
    "sns.histplot(population, bins=range(1, 22), kde=False, color='skyblue', stat='density', ax=ax1, edgecolor='black')\n",
    "ax1.axvline(population_mean, color='red', linestyle='dashed', linewidth=1.5, label=f'Mean: {population_mean:.2f}')\n",
    "ax1.axvline(population_median, color='green', linestyle='dashed', linewidth=1.5, label=f'Median: {population_median}')\n",
    "ax1.set_title('Population Distribution')\n",
    "ax1.set_xlabel('Value')\n",
    "ax1.set_ylabel('Density')\n",
    "\n",
    "# Overlay Normal Distribution Curve for Population\n",
    "x_population = np.linspace(min(population)-1, max(population)+1, 1000)\n",
    "y_population = norm.pdf(x_population, population_mean, population_std_dev)\n",
    "ax1.plot(x_population, y_population, color='blue', linewidth=2, label='Normal Curve')\n",
    "\n",
    "# Add Standard Deviation Line and Text for Population\n",
    "x_std_right = population_mean + population_std_dev\n",
    "y_std_right = norm.pdf(x_std_right, population_mean, population_std_dev)\n",
    "ax1.hlines(y=y_std_right, xmin=population_mean, xmax=x_std_right, colors='purple', linewidth=2)\n",
    "ax1.vlines(x=x_std_right, ymin=0, ymax=y_std_right, colors='purple', linestyles='dotted', linewidth=1)\n",
    "ax1.annotate('σ', xy=((population_mean + x_std_right)/2, y_std_right), color='purple', fontsize=14, ha='center', va='bottom')\n",
    "ax1.legend()\n",
    "\n",
    "# Histogram of Sample with Normal Curve\n",
    "ax2 = axes[1]\n",
    "sns.histplot(sample, bins=range(1, 22), kde=False, color='orange', stat='density', ax=ax2, edgecolor='black')\n",
    "ax2.axvline(sample_mean, color='red', linestyle='dashed', linewidth=1.5, label=f'Mean: {sample_mean:.2f}')\n",
    "ax2.axvline(sample_median, color='green', linestyle='dashed', linewidth=1.5, label=f'Median: {sample_median}')\n",
    "ax2.set_title('Sample Distribution')\n",
    "ax2.set_xlabel('Value')\n",
    "ax2.set_ylabel('Density')\n",
    "\n",
    "# Overlay Normal Distribution Curve for Sample\n",
    "x_sample = np.linspace(min(sample)-1, max(sample)+1, 1000)\n",
    "y_sample = norm.pdf(x_sample, sample_mean, sample_std_dev)\n",
    "ax2.plot(x_sample, y_sample, color='blue', linewidth=2, label='Normal Curve')\n",
    "\n",
    "# Add Standard Deviation Line and Text for Sample\n",
    "x_std_right_sample = sample_mean + sample_std_dev \n",
    "y_std_right_sample = norm.pdf(x_std_right_sample, sample_mean, sample_std_dev)\n",
    "ax2.hlines(y=y_std_right_sample, xmin=sample_mean, xmax=x_std_right_sample, colors='purple', linewidth=2)\n",
    "ax2.vlines(x=x_std_right_sample, ymin=0, ymax=y_std_right_sample, colors='purple', linestyles='dotted', linewidth=1)\n",
    "ax2.annotate('σ', xy=((sample_mean + x_std_right_sample)/2, y_std_right_sample), color='purple', fontsize=14, ha='center', va='bottom')\n",
    "ax2.legend()"
   ]
  },
  {
   "cell_type": "markdown",
   "id": "8b2c2776-adee-49e7-971c-bd4c244f6326",
   "metadata": {},
   "source": [
    "<p style=\"background-color: lightgreen; text-align: center; font-size: 18px; color: red; padding: 5px; border-radius: 10px;\"><b>Exercise 4</b></p>\n",
    "\n",
    "Write Python code to:\n",
    "1. Load the `IrisFlower.csv` file into a dataframe.\n",
    "2. Plot the histogram of all numeric columns in a 2×2 grid."
   ]
  },
  {
   "cell_type": "code",
   "execution_count": null,
   "id": "f73d1262-d3e0-44a7-b15a-61db02967322",
   "metadata": {},
   "outputs": [],
   "source": []
  },
  {
   "cell_type": "code",
   "execution_count": null,
   "id": "b246efb2-ab2f-4782-a482-b246443572cb",
   "metadata": {},
   "outputs": [],
   "source": []
  },
  {
   "cell_type": "markdown",
   "id": "f437d534-686a-442a-8929-74948625d83f",
   "metadata": {},
   "source": [
    "#### ***2.2.4.2. Box Plot***"
   ]
  },
  {
   "cell_type": "code",
   "execution_count": null,
   "id": "28d1464d-b3c3-4650-a4d7-8411d72b255f",
   "metadata": {},
   "outputs": [],
   "source": [
    "# Example: Box plot of sample\n",
    "sns.boxplot(data=sample, color='lightblue')\n",
    "plt.title('Sample Box Plot')\n",
    "plt.show()"
   ]
  },
  {
   "cell_type": "code",
   "execution_count": null,
   "id": "5d22b30f-0cc0-41ef-91e0-2c92176d4f7b",
   "metadata": {},
   "outputs": [],
   "source": [
    "# Example: Box plot of sample and population\n",
    "# Create figure and axes for subplots\n",
    "fig, axes = plt.subplots(1, 2, figsize=(16, 5))\n",
    "\n",
    "# Visualization Setup\n",
    "sns.set(style='whitegrid')\n",
    "\n",
    "# Boxplot of Population\n",
    "ax1 = axes[0]\n",
    "sns.boxplot(y=population, color='skyblue', ax=ax1)\n",
    "ax1.set_title('Population box plot')\n",
    "ax1.set_ylabel('Value')\n",
    "# Annotate statistics\n",
    "ax1.text(-0.2, population_mean, f'Mean: {population_mean:.2f}', verticalalignment='center', color='red')\n",
    "ax1.text(0.1, population_median, f'Median: {population_median}', verticalalignment='center', color='green')\n",
    "\n",
    "# Boxplot of Sample\n",
    "ax2 = axes[1]\n",
    "sns.boxplot(y=sample, color='orange', ax=ax2)\n",
    "ax2.set_title('Sample box plot')\n",
    "ax2.set_ylabel('Value')\n",
    "# Annotate statistics\n",
    "ax2.text(-0.2, sample_mean, f'Mean: {sample_mean:.2f}', verticalalignment='center', color='red')\n",
    "ax2.text(0.1, sample_median, f'Median: {sample_median}', verticalalignment='center', color='green')\n",
    "\n",
    "# Adjust layout\n",
    "plt.tight_layout()\n",
    "plt.show()"
   ]
  },
  {
   "cell_type": "markdown",
   "id": "21f17db1-b915-448c-ad3e-6fd5ffb84630",
   "metadata": {},
   "source": [
    "<p style=\"background-color: lightgreen; text-align: center; font-size: 18px; color: red; padding: 5px; border-radius: 10px;\"><b>Exercise 5</b></p>\n",
    "\n",
    "Write Python code to:\n",
    "1. Load the `IrisFlower.csv` file into a dataframe.\n",
    "2. Plot the boxplot of all numeric columns in a 2×2 grid."
   ]
  },
  {
   "cell_type": "code",
   "execution_count": null,
   "id": "41a697df-3ea7-480d-bb7f-4fe87b5df9cb",
   "metadata": {},
   "outputs": [],
   "source": []
  },
  {
   "cell_type": "code",
   "execution_count": null,
   "id": "1711489e-328c-4d5d-88cf-7cd1eb4f89b1",
   "metadata": {},
   "outputs": [],
   "source": []
  },
  {
   "cell_type": "markdown",
   "id": "d2c9867b-552e-4047-83de-c3af8e5fec4a",
   "metadata": {},
   "source": [
    "#### ***2.2.4.3. Scatter Plot***"
   ]
  },
  {
   "cell_type": "code",
   "execution_count": null,
   "id": "fd42eb1c-58fe-41ab-97b1-43e7aa81282d",
   "metadata": {},
   "outputs": [],
   "source": [
    "# Example: Scatter plot of sample vs squared sample\n",
    "squared_sample = np.square(sample)\n",
    "sns.scatterplot(x=sample, y=squared_sample, color='red')\n",
    "plt.title('Sample Square Scatter Plot')\n",
    "plt.show()"
   ]
  },
  {
   "cell_type": "markdown",
   "id": "35b1bd47-dca9-466a-bc19-1ebbc6a855f8",
   "metadata": {},
   "source": [
    "<p style=\"background-color: lightgreen; text-align: center; font-size: 18px; color: red; padding: 5px; border-radius: 10px;\"><b>Exercise 6</b></p>\n",
    "\n",
    "Write Python code to:\n",
    "1. Load the `IrisFlower.csv` file into a dataframe.\n",
    "2. Draw the scatter plot between `sepal length` and `sepal width`, use different colors for each species."
   ]
  },
  {
   "cell_type": "code",
   "execution_count": null,
   "id": "31a06ce0-e7e3-4e8a-abb6-031c3dda1943",
   "metadata": {},
   "outputs": [],
   "source": []
  },
  {
   "cell_type": "code",
   "execution_count": null,
   "id": "d57e68bd-a59a-44b1-b9c3-f41dabe497f6",
   "metadata": {},
   "outputs": [],
   "source": []
  },
  {
   "cell_type": "code",
   "execution_count": null,
   "id": "6c8c4b18-40b7-4591-99f3-060b60a3b308",
   "metadata": {},
   "outputs": [],
   "source": []
  },
  {
   "cell_type": "code",
   "execution_count": null,
   "id": "e701f720-6a08-486f-aab5-b429f53ca424",
   "metadata": {},
   "outputs": [],
   "source": []
  }
 ],
 "metadata": {
  "kernelspec": {
   "display_name": "Python 3 (ipykernel)",
   "language": "python",
   "name": "python3"
  },
  "language_info": {
   "codemirror_mode": {
    "name": "ipython",
    "version": 3
   },
   "file_extension": ".py",
   "mimetype": "text/x-python",
   "name": "python",
   "nbconvert_exporter": "python",
   "pygments_lexer": "ipython3",
   "version": "3.12.3"
  },
  "toc": {
   "base_numbering": "",
   "nav_menu": {},
   "number_sections": false,
   "sideBar": true,
   "skip_h1_title": false,
   "title_cell": "Table of Contents",
   "title_sidebar": "Table of Contents",
   "toc_cell": false,
   "toc_position": {
    "height": "calc(100% - 180px)",
    "left": "10px",
    "top": "150px",
    "width": "244.333px"
   },
   "toc_section_display": true,
   "toc_window_display": true
  }
 },
 "nbformat": 4,
 "nbformat_minor": 5
}
