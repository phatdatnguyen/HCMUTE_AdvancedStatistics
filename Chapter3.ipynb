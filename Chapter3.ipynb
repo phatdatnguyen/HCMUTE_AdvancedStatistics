{
 "cells": [
  {
   "cell_type": "markdown",
   "id": "ce2d6e30",
   "metadata": {},
   "source": [
    "# **Chapter 3. Modeling**"
   ]
  },
  {
   "cell_type": "markdown",
   "id": "3b4301ad-93fc-4ab2-bd36-e0e18554a40c",
   "metadata": {},
   "source": [
    "## **3.1. Statistical Models**"
   ]
  },
  {
   "cell_type": "markdown",
   "id": "2d967e49-0175-48e9-8239-8851fdabbb0f",
   "metadata": {},
   "source": [
    "### **3.1.1. Definition**"
   ]
  },
  {
   "cell_type": "markdown",
   "id": "e579219b-fb19-4fc3-b7f9-ebf14ff8fa02",
   "metadata": {},
   "source": [
    "A **statistical model** is a mathematical representation of observed data. It is used to make inferences about the underlying processes that generated the data, predict future outcomes, or understand relationships between variables. Statistical models provide a framework for analyzing data and are fundamental in quantitative research across various fields, including economics, biology, engineering, and social sciences.\n",
    "\n",
    "**Definition**: A statistical model is an abstraction that describes the relationship between input variables (predictors) and output variables (responses). It formalizes assumptions about the data, which can be leveraged to generate insights.\n",
    "\n",
    "**Components of a Statistical Model**:\n",
    "   - **Variables**: These can be dependent (response) variables that we aim to predict or explain, and independent (predictor) variables that are used to predict the behavior of the dependent variable.\n",
    "   - **Parameters**: These are the numerical constants in the model that define its specific form. In many cases, they are estimated from the data.\n",
    "   - **Random Error (Noise)**: This encompasses the variability in the response variable that cannot be explained by the predictor variables. It acknowledges that data are not perfect and contains inherent uncertainty.\n",
    "\n",
    "**Formulation**: Statistical models can typically be expressed mathematically as:\n",
    "     $$\n",
    "     Y = f(X) + \\epsilon\n",
    "     $$\n",
    "Where:\n",
    "- $Y$ is the dependent variable.\n",
    "- $f(X)$ is a function that describes the relationship between $Y$ and the independent variable(s) $X$.\n",
    "- $\\epsilon$ represents the random error term.\n",
    "\n",
    "**Assumptions**: Each statistical model comes with its own set of assumptions that must hold for the model to be valid. Common assumptions include:\n",
    "- Linearity: In linear regression, the relationship between independent and dependent variables is assumed to be linear.\n",
    "- Independence: Observations should be independent of each other.\n",
    "- Homoscedasticity: Variability of the error terms should remain constant across all levels of the independent variables.\n",
    "- Normality: For parametric tests, it is often assumed that the residuals (errors) are normally distributed.\n",
    "\n",
    "**Applications**: Statistical models are widely used in various applications, including:\n",
    "- Predictive analytics (forecasting trends)\n",
    "- Experimental design (testing treatments)\n",
    "- Quality control (monitoring process variations)\n",
    "- Risk assessment (evaluating uncertainties)\n",
    "\n",
    "In summary, statistical models serve as powerful tools for understanding relationships within data, guiding decision-making, and making predictions. They form the backbone of statistical analysis and facilitate the interpretation of complex datasets."
   ]
  },
  {
   "cell_type": "markdown",
   "id": "26a304a2-f0a1-47c6-be6c-21cbb3ac5835",
   "metadata": {},
   "source": [
    "### **3.1.2. Modeling Process**"
   ]
  },
  {
   "cell_type": "markdown",
   "id": "fabf9325-e9b5-461f-a20d-adb342da4794",
   "metadata": {},
   "source": [
    "The process of creating a statistical model involves several steps:\n",
    "1. **Model Specification**: Defining the model structure and identifying relevant variables.\n",
    "2. **Parameter Estimation**: Using statistical methods to estimate model parameters from the data.\n",
    "3. **Model Evaluation**: Assessing the goodness-of-fit and validity of the model, checking its predictive power, and making necessary adjustments.\n",
    "4. **Model Validation**: Testing the model on new data to verify its accuracy and reliability."
   ]
  },
  {
   "cell_type": "markdown",
   "id": "a5fcd878-84ad-4ffa-ad01-624806074a45",
   "metadata": {},
   "source": [
    "### **3.1.3. Types of Model**"
   ]
  },
  {
   "cell_type": "markdown",
   "id": "abc9de5f-de80-4d92-bd81-164ca4e77c53",
   "metadata": {},
   "source": [
    "Statistical models can be categorized in various ways based on their characteristics, underlying assumptions, and intended applications. The primary categories include:\n",
    "\n",
    "1. **Descriptive vs. Inferential Models**:\n",
    "   - **Descriptive Models**: These models summarize and describe the characteristics of the data without making predictions or inferences about a larger population.\n",
    "   - **Inferential Models**: These models are used to make predictions or inferences about a population based on a sample of data.\n",
    "\n",
    "\n",
    "2. **Parametric vs. Non-Parametric Models**:\n",
    "   - **Parametric Models**: These models assume a specific form for the function relating the predictor and response variables, characterized by a finite number of parameters (e.g., linear regression).\n",
    "   - **Non-Parametric Models**: These models do not assume a specific functional form and can adapt to the underlying data structure more flexibly (e.g., decision trees, kernel smoothing).\n",
    "\n",
    "\n",
    "3. **Linear vs. Non-linear Models**:\n",
    "\n",
    "   - **Linear Models**: These models assume a linear relationship between the predictor and response variables, represented in a straight-line form.\n",
    "   - **Non-linear Models**: These models allow for complex relationships that cannot be represented as a straight line (e.g., quadratic, exponential).\n",
    "\n",
    "\n",
    "4. **Static vs. Dynamic Models**:\n",
    "\n",
    "   - **Static Models**: These models analyze data at a fixed point in time.\n",
    "   - **Dynamic Models**: These models consider changes over time and can include time series data.\n",
    "\n",
    "5. **Regression vs. Classification**:\n",
    "    - **Regression**: Regression analysis involves predicting a continuous output variable based on one or more input variables (predictors). The goal is to model the relationship between the predictor(s) and the response variable.\n",
    "    - **Classification**: Classification is the process of predicting categorical outcomes (labels). Given a set of input features, the goal is to assign a class label based on the learned patterns from the training data."
   ]
  },
  {
   "cell_type": "markdown",
   "id": "0edaca40-01f6-4008-81c2-c7dcc4d66c45",
   "metadata": {},
   "source": [
    "### **3.1.4. Bias versus Variance**"
   ]
  },
  {
   "cell_type": "markdown",
   "id": "695120c9-e49f-4af1-99da-5510c2d86c7b",
   "metadata": {},
   "source": [
    "**Bias** refers to the error introduced by approximating a real-world problem with a simplified model. It is the model's tendency to consistently make assumptions that deviate from the true relationship between input features and the target variable.\n",
    "\n",
    "**Variance**, on the other hand, refers to the model's sensitivity to fluctuations in the training data. It measures how much the predictions of the model vary for different training datasets.\n",
    "\n",
    "In summary:\n",
    "- Bias represents the model's systematic error or the assumptions it makes.\n",
    "- Variance represents the model's inconsistency or sensitivity to training data fluctuations.\n",
    "- **High bias** → **Underfit**\n",
    "- **High variance** → **Overfit**\n",
    "\n",
    "The bias-variance tradeoff:\n",
    "\n",
    "![Bias-variance tradeoff](images/bias_variance_tradeoff.png)"
   ]
  },
  {
   "cell_type": "markdown",
   "id": "77019118-6283-444c-82dc-1015c2a84078",
   "metadata": {},
   "source": [
    "## **3.2. Regression**"
   ]
  },
  {
   "cell_type": "markdown",
   "id": "165347c0-5e7d-430c-8a5e-686df709a81a",
   "metadata": {},
   "source": [
    "Regression analysis is a powerful statistical tool used for modeling the relationship between a dependent variable and one or more independent variables. This section will cover the fundamentals of regression, how to evaluate regression models, and a detailed exploration of linear regression."
   ]
  },
  {
   "cell_type": "markdown",
   "id": "e8da50df-a74a-4962-a523-cf0528895451",
   "metadata": {},
   "source": [
    "### **3.2.1. Fundamentals of Regression**"
   ]
  },
  {
   "cell_type": "markdown",
   "id": "bf85431f-3378-413d-b86e-8ec46b0385b9",
   "metadata": {},
   "source": [
    "n regression analysis, the main objective is to estimate the relationships among variables. The model can provide insights about how the expected value of the dependent variable changes as the independent variable(s) change.\n",
    "\n",
    "Key concepts in regression include:\n",
    "- **Dependent Variable**: The outcome or response variable that we aim to predict.\n",
    "- **Independent Variables**: The predictors or features that are used to estimate the dependent variable.\n",
    "- **Regression Coefficients**: These parameters represent the magnitude of change in the dependent variable for a one-unit change in the independent variable.\n",
    "- **Error Terms**: Variability in the dependent variable that cannot be explained by the independent variables.\n",
    "  \n",
    "Regression analysis helps in making predictions, understanding relationships, and assessing trends in data, making it a critical component in data analysis and machine learning."
   ]
  },
  {
   "cell_type": "markdown",
   "id": "cc9509e4-d728-4b32-a996-ef58d8b8bdd1",
   "metadata": {},
   "source": [
    "### **3.2.2. Regression Model Evaluation**"
   ]
  },
  {
   "cell_type": "markdown",
   "id": "f6a0e574-f602-446e-9736-1eadf7251436",
   "metadata": {},
   "source": [
    "Evaluating the performance of regression models involves assessing how well the model's predictions match the actual outcomes. Several metrics are commonly used to quantify model performance:\n",
    "\n",
    "1. **Mean Absolute Error (MAE)**:  Measures the average magnitude of errors in a set of predictions, without considering their direction. It is the average over the test sample of the absolute differences between prediction and actual observation.\n",
    "$$\n",
    "MAE = \\frac{1}{n} \\sum_{i=1}^{n} |y_i - \\hat{y}_i|\n",
    "$$\n",
    "\n",
    "2. **Mean Squared Error (MSE)**: Measures the average of the squares of the errors, which means larger errors have a disproportionately higher impact on the metric. \n",
    "$$\n",
    "MSE = \\frac{1}{n} \\sum_{i=1}^{n} (y_i - \\hat{y}_i)^2\n",
    "$$\n",
    "\n",
    "3. **Root Mean Squared Error (RMSE)**: This is the square root of the mean squared error and provides an estimate of the average distance between the predicted values and actual values.\n",
    "$$\n",
    "RMSE = \\sqrt{MSE}\n",
    "$$\n",
    "\n",
    "4. **R-squared (R²)**: Represents the proportion of the variance for the dependent variable that's explained by the independent variables in the model. It provides a measure of how well observed outcomes are replicated by the model.\n",
    "$$\n",
    "R^2 = 1 - \\frac{SS_{res}}{SS_{tot}}\n",
    "$$\n",
    "\n",
    "Where\n",
    "- $SS_{res}$ is the sum of squares of residuals\n",
    "- $SS_{tot}$ is the total sum of squares\n",
    "\n",
    "Choosing the right evaluation metric depends on the specific context and objectives for modeling."
   ]
  },
  {
   "cell_type": "markdown",
   "id": "ff9dad0d-d10c-4cee-884b-d8e30cc7ed45",
   "metadata": {},
   "source": [
    "### **3.2.3. Linear Regression**"
   ]
  },
  {
   "cell_type": "markdown",
   "id": "bf94c90d-40e4-41b9-bb6c-448f88117fb2",
   "metadata": {},
   "source": [
    "**Definition:**\n",
    "Linear regression is a simple yet powerful statistical technique that models the relationship between a scalar dependent variable and one or more independent variables using a linear equation. In simple linear regression, the model takes the form:\n",
    "\n",
    "$$\n",
    "Y = \\beta_0 + \\beta_1X + \\epsilon\n",
    "$$\n",
    "\n",
    "Where:\n",
    "- $Y$ is the dependent (response) variable.\n",
    "- $\\beta_0$ is the y-intercept (constant term).\n",
    "- $\\beta_1$ is the coefficient for the independent variable $X$.\n",
    "- $\\epsilon$ is the error term.\n",
    "\n",
    "**Example of Linear Regression using Scikit-Learn:**\n",
    "In this example, we will perform linear regression using the popular `scikit-learn` library in Python. We will create a synthetic dataset, fit a linear regression model, and evaluate its performance."
   ]
  },
  {
   "cell_type": "markdown",
   "id": "b2d02626-ee39-408b-ac82-04bdb287f4c3",
   "metadata": {},
   "source": [
    "**Import Required Libraries:**"
   ]
  },
  {
   "cell_type": "code",
   "execution_count": null,
   "id": "9a74a57f-18b0-45ca-9c65-63988d8c4f0c",
   "metadata": {},
   "outputs": [],
   "source": [
    "import numpy as np\n",
    "import pandas as pd\n",
    "import matplotlib.pyplot as plt\n",
    "from sklearn.model_selection import train_test_split\n",
    "from sklearn.linear_model import LinearRegression\n",
    "from sklearn.metrics import mean_squared_error, mean_absolute_error, r2_score"
   ]
  },
  {
   "cell_type": "markdown",
   "id": "e407331c-baff-4c1a-97e2-7e4a81da4790",
   "metadata": {},
   "source": [
    "**Load the dataset:**"
   ]
  },
  {
   "cell_type": "code",
   "execution_count": null,
   "id": "c79e948c-b9a0-451b-b9ef-2300b5a6aa97",
   "metadata": {},
   "outputs": [],
   "source": [
    "# Create synthetic dataset\n",
    "np.random.seed(0)\n",
    "x = 2 * np.random.rand(100, 1)\n",
    "y = 4 + 3 * x + 0.2*np.random.randn(100, 1)\n",
    "plt.scatter(x, y)"
   ]
  },
  {
   "cell_type": "markdown",
   "id": "681a0b7a-b955-4f1f-80f8-924342b7c145",
   "metadata": {},
   "source": [
    "**Split the dataset:**"
   ]
  },
  {
   "cell_type": "code",
   "execution_count": null,
   "id": "31bc0c0d-c218-44c3-886e-67096f747554",
   "metadata": {},
   "outputs": [],
   "source": [
    "# Split the dataset into training and testing sets\n",
    "x_train, x_test, y_train, y_test = train_test_split(x, y, test_size=0.2, random_state=42)"
   ]
  },
  {
   "cell_type": "markdown",
   "id": "c62da544-0591-47bd-9046-6a4f23ec95dd",
   "metadata": {},
   "source": [
    "**Linear regression model:**"
   ]
  },
  {
   "cell_type": "code",
   "execution_count": null,
   "id": "398da270-03ca-4d84-945d-aff365012e2a",
   "metadata": {},
   "outputs": [],
   "source": [
    "# Create and fit the model\n",
    "model = LinearRegression()\n",
    "model.fit(x_train, y_train)"
   ]
  },
  {
   "cell_type": "markdown",
   "id": "727a562c-7236-457c-9739-e4700e12f3b3",
   "metadata": {},
   "source": [
    "**Evaluate model:**"
   ]
  },
  {
   "cell_type": "code",
   "execution_count": null,
   "id": "0de8b213-a6c1-4f86-bb52-d3ddeefb1dc2",
   "metadata": {},
   "outputs": [],
   "source": [
    "# Make predictions\n",
    "y_pred = model.predict(x_test)\n",
    "\n",
    "# Evaluate the model\n",
    "mae = mean_absolute_error(y_test, y_pred)\n",
    "mse = mean_squared_error(y_test, y_pred)\n",
    "r2 = r2_score(y_test, y_pred)\n",
    "\n",
    "# Print evaluation metrics\n",
    "print(f'Mean Absolute Error: {mae}')\n",
    "print(f'Mean Squared Error: {mse}')\n",
    "print(f'R-squared: {r2}')\n",
    "\n",
    "# Plot the results\n",
    "fig = plt.figure()\n",
    "plt.scatter(x_test, y_test, color='blue', label='Actual')\n",
    "plt.plot(x_test, y_pred, color='red', label='Predicted')\n",
    "plt.xlabel('X')\n",
    "plt.ylabel('y')\n",
    "plt.title('Linear Regression: Actual vs Predicted')\n",
    "plt.legend()\n",
    "plt.show()"
   ]
  },
  {
   "cell_type": "markdown",
   "id": "79bb57fd-a712-48a9-bdcf-2884fb1441a4",
   "metadata": {},
   "source": [
    "<p style=\"background-color: lightgreen; text-align: center; font-size: 18px; color: red; padding: 5px; border-radius: 10px;\"><b>Exercise 1</b></p>\n",
    "\n",
    "1. Load file `Solubility.csv`, use the following columns as inputs for predicting the output (solubility) column:\n",
    "   - AMW: average molecular weight\n",
    "   - num_rings: number of rings\n",
    "   - fraction_CSP3: fraction of $sp^3$-hybridized carbons\n",
    "   - num_hba: number of hydrogen bond accepter\n",
    "   - num_hbd: number of hydrogen bond donor\n",
    "   - logP: partition coefficient\n",
    "   - TPSA: topological polar surface area\n",
    "3. Split the dataset into training and testing sets (70/30 split).\n",
    "4. Create a linear regression model using scikit-learn, fit the model to the training data, and make predictions on the testing data.\n",
    "5. Evaluate your model using the aforementioned metrics (MAE, MSE, and R²).\n",
    "6. Visualize the actual vs predicted values on a scatter plot."
   ]
  },
  {
   "cell_type": "code",
   "execution_count": null,
   "id": "dbb3e2ca-fe12-4e6a-abfa-c80a13e0ceb3",
   "metadata": {},
   "outputs": [],
   "source": []
  },
  {
   "cell_type": "code",
   "execution_count": null,
   "id": "0ccf207e-662e-45e6-87f9-079f6a2f0026",
   "metadata": {},
   "outputs": [],
   "source": []
  },
  {
   "cell_type": "code",
   "execution_count": null,
   "id": "ca245a9b-e19b-4211-9d91-09df2352a2f6",
   "metadata": {},
   "outputs": [],
   "source": []
  },
  {
   "cell_type": "code",
   "execution_count": null,
   "id": "6f19ccb3-88c6-49b4-b3bb-3169e96e1353",
   "metadata": {},
   "outputs": [],
   "source": []
  },
  {
   "cell_type": "code",
   "execution_count": null,
   "id": "16e411df-1755-4176-a3aa-92a154024564",
   "metadata": {},
   "outputs": [],
   "source": []
  },
  {
   "cell_type": "markdown",
   "id": "950a0fcc-c931-4552-9ccb-39ad2d71a4cc",
   "metadata": {},
   "source": [
    "## **3.3. Classification**"
   ]
  },
  {
   "cell_type": "markdown",
   "id": "3446ee7c-d1b1-4b9c-a14d-d0f7eec5bd5b",
   "metadata": {},
   "source": [
    "Classification is a fundamental concept in statistical modeling and machine learning where the goal is to predict categorical outcomes based on input features. This section will delve into the fundamentals of classification, how to evaluate classification models, and a specific exploration of logistic regression."
   ]
  },
  {
   "cell_type": "markdown",
   "id": "663e01bb-22a2-4770-9e99-1711dd845043",
   "metadata": {},
   "source": [
    "### **3.3.1. Fundamentals of Classification**"
   ]
  },
  {
   "cell_type": "markdown",
   "id": "a1903f20-2d0f-4d33-94e5-552aef555c4f",
   "metadata": {},
   "source": [
    "Classification involves assigning a category label to a given input based on the learned phenomena from the training data. The process typically involves defining a model that maps the input features to one or more class labels.\n",
    "\n",
    "Key concepts in classification include:\n",
    "- **Classes**: The distinct categories or labels that the model aims to predict. For example, in a binary classification problem, the classes can be \"0\" or \"1.\"\n",
    "- **Predictors**: The input features utilized to classify observations. These inputs can be numerical or categorical.\n",
    "- **Decision Boundary**: The threshold that helps distinguish between different classes. The model assesses input values to determine on which side of the boundary they fall.\n",
    "  \n",
    "Common classification tasks include spam detection (spam vs. not spam), medical diagnosis (disease vs. no disease), and sentiment analysis (positive vs. negative), making classification a widely used technique in various fields."
   ]
  },
  {
   "cell_type": "markdown",
   "id": "5155fdca-85a2-447f-a9f1-de6d1666feae",
   "metadata": {},
   "source": [
    "### **3.3.2. Classification Model Evaluation**"
   ]
  },
  {
   "cell_type": "markdown",
   "id": "50992458-50a7-48e0-b9fd-1d99a100cfbb",
   "metadata": {},
   "source": [
    "Assessing the performance of a classification model is crucial to understanding its effectiveness. Several metrics are used to evaluate classification models:\n",
    "\n",
    "1. **Confusion Matrix**: A confusion matrix is a table that describes the performance of a classification model by comparing the predicted labels with the true labels. It provides insights into the types of errors made by the classifier. The confusion matrix is typically structured as follows:\n",
    "$$\n",
    "   \\begin{array}{|c|c|c|}\n",
    "   \\hline\n",
    "   & \\text{Predicted Positive} & \\text{Predicted Negative} \\\\\n",
    "   \\hline\n",
    "   \\text{Actual Positive} & TP & FN \\\\\n",
    "   \\hline\n",
    "   \\text{Actual Negative} & FP & TN \\\\\n",
    "   \\hline\n",
    "   \\end{array}\n",
    "$$\n",
    "   \n",
    "2. **Accuracy**: The ratio of the number of correct predictions to the total number of predictions made. It is one of the simplest evaluation metrics.\n",
    "$$\n",
    "Accuracy = \\frac{TP + TN}{TP + TN + FP + FN}\n",
    "$$\n",
    "\n",
    "Where\n",
    "- $TP$ = True Positives\n",
    "- $TN$ = True Negatives\n",
    "- $FP$ = False Positives\n",
    "- $FN$ = False Negatives.\n",
    "\n",
    "3. **Precision**: Measures the accuracy of positive predictions. It represents the proportion of true positive results in all positive predictions.\n",
    "$$\n",
    "Precision = \\frac{TP}{TP + FP}\n",
    "$$\n",
    "\n",
    "4. **Recall (Sensitivity)**: Measures the ability of the model to identify all relevant instances. It assesses how many actual positives were captured by the model.\n",
    "$$\n",
    "Recall = \\frac{TP}{TP + FN}\n",
    "$$\n",
    "\n",
    "5. **F1 Score**: The harmonic mean of precision and recall. It provides a single metric that balances both considerations, making it helpful when dealing with imbalanced classes.\n",
    "$$\n",
    "F1 = 2 \\cdot \\frac{Precision \\cdot Recall}{Precision + Recall}\n",
    "$$\n",
    "\n",
    "6. **Receiver Operating Characteristic (ROC) Curve** and **Area Under the Curve (AUC)**: The ROC curve plots the true positive rate against the false positive rate at various threshold settings. AUC quantifies the entire two-dimensional area underneath the ROC curve and gives an aggregate measure of performance across all classification thresholds.\n",
    "\n",
    "Choosing appropriate metrics depends on the specific use case and the consequences of false positives and false negatives."
   ]
  },
  {
   "cell_type": "markdown",
   "id": "ebcdf934-cacb-452d-a1c1-329b68515d0b",
   "metadata": {},
   "source": [
    "### **3.3.3. Logistic Regression**"
   ]
  },
  {
   "cell_type": "markdown",
   "id": "5a40579d-e452-4080-8647-feddee0c09b3",
   "metadata": {},
   "source": [
    "**Definition:**\n",
    "Logistic regression is a statistical method used for binary classification problems, which predicts the probability that an instance belongs to a particular class. It models the relationship between the dependent binary variable and one or more independent variables using the logistic function. The logistic function outputs values between 0 and 1, which can be interpreted as probabilities.\n",
    "\n",
    "The logistic regression model is given by:\n",
    "$$\n",
    "P(Y=1|X) = \\frac{1}{1 + e^{-(\\beta_0 + \\beta_1X)}}\n",
    "$$\n",
    "\n",
    "Where:\n",
    "- $P(Y=1|X)$ is the probability that the dependent variable $Y$ equals 1 (i.e., belongs to class 1) given the input features $X$.\n",
    "- $\\beta_0$ is the intercept and $\\beta_1$ are the coefficients representing the direction and strength of the relationship with the independent variable(s).\n",
    "\n",
    "**Example of Logistic Regression using Scikit-Learn:**\n",
    "In this example, we will perform logistic regression using the `scikit-learn` library in Python. We will use the famous Iris dataset, which consists of multiple species of flowers."
   ]
  },
  {
   "cell_type": "markdown",
   "id": "4143459c-9aaf-4817-834b-f1c0f26d78c5",
   "metadata": {},
   "source": [
    "**Import Required Libraries:**"
   ]
  },
  {
   "cell_type": "code",
   "execution_count": null,
   "id": "6d576368-978d-496d-885c-b151cea2b8cb",
   "metadata": {},
   "outputs": [],
   "source": [
    "import pandas as pd\n",
    "from sklearn.datasets import load_breast_cancer\n",
    "from sklearn.model_selection import train_test_split\n",
    "from sklearn.linear_model import LogisticRegression\n",
    "from sklearn.metrics import confusion_matrix, accuracy_score, precision_score, recall_score, f1_score, roc_curve, auc"
   ]
  },
  {
   "cell_type": "markdown",
   "id": "c38d82f0-ffb1-493f-8087-a3d98561d840",
   "metadata": {},
   "source": [
    "**Load the dataset:**"
   ]
  },
  {
   "cell_type": "code",
   "execution_count": null,
   "id": "f4967464-441e-4be2-a4ca-19320d51e527",
   "metadata": {},
   "outputs": [],
   "source": [
    "breast_cancer = load_breast_cancer()\n",
    "x = breast_cancer.data  # Features\n",
    "y = (breast_cancer.target == 0).astype(int)  # Binary target variable"
   ]
  },
  {
   "cell_type": "markdown",
   "id": "c6de929c-d277-4854-9b34-ae3b7799d0d8",
   "metadata": {},
   "source": [
    "**Split the dataset:**"
   ]
  },
  {
   "cell_type": "code",
   "execution_count": null,
   "id": "92948f6d-beb2-4686-98de-6e6e5500d7fe",
   "metadata": {},
   "outputs": [],
   "source": [
    "# Split the dataset into training and testing sets\n",
    "x_train, x_test, y_train, y_test = train_test_split(x, y, test_size=0.2, random_state=42)"
   ]
  },
  {
   "cell_type": "markdown",
   "id": "0f35f7c8-2571-42c1-909d-740dc242dd23",
   "metadata": {},
   "source": [
    "**Logistic regression model:**"
   ]
  },
  {
   "cell_type": "code",
   "execution_count": null,
   "id": "c014267f-bfbf-41b7-b5b7-c8be5e7a76ed",
   "metadata": {},
   "outputs": [],
   "source": [
    "# Create and fit the model\n",
    "model = LogisticRegression(max_iter=5000)\n",
    "model.fit(x_train, y_train)"
   ]
  },
  {
   "cell_type": "markdown",
   "id": "d81cd90d-7a93-4b96-8ab5-1a8f79ceb226",
   "metadata": {},
   "source": [
    "**Evaluate model:**"
   ]
  },
  {
   "cell_type": "code",
   "execution_count": null,
   "id": "a7ec9f69-45ab-4e09-a9d8-a07e19313b4f",
   "metadata": {},
   "outputs": [],
   "source": [
    "# Make predictions\n",
    "y_pred = model.predict(x_test)\n",
    "y_pred_proba = model.predict_proba(x_test)[:, 1]  # Probability estimates for the positive class\n",
    "\n",
    "# Evaluate the model\n",
    "conf_matrix = confusion_matrix(y_test, y_pred)\n",
    "accuracy = accuracy_score(y_test, y_pred)\n",
    "precision = precision_score(y_test, y_pred)\n",
    "recall = recall_score(y_test, y_pred)\n",
    "f1 = f1_score(y_test, y_pred)\n",
    "\n",
    "fpr, tpr, thresholds = roc_curve(y_test, y_pred_proba)\n",
    "roc_auc = auc(fpr, tpr)\n",
    "\n",
    "# Print evaluation metrics\n",
    "print(f'Accuracy: {accuracy}')\n",
    "print(f'Precision: {precision}')\n",
    "print(f'Recall: {recall}')\n",
    "print(f'F1 Score: {f1}')\n",
    "print(f'Confusion Matrix:\\n{conf_matrix}')\n",
    "\n",
    "# Plot ROC Curve\n",
    "plt.figure()\n",
    "plt.plot(fpr, tpr, color='blue', lw=2, label='ROC Curve (AUC = {:.2f})'.format(roc_auc))\n",
    "plt.plot([0, 1], [0, 1], color='red', lw=2, linestyle='--')\n",
    "plt.xlim([0.0, 1.0])\n",
    "plt.ylim([0.0, 1.05])\n",
    "plt.xlabel('False Positive Rate')\n",
    "plt.ylabel('True Positive Rate')\n",
    "plt.title('Receiver Operating Characteristic (ROC) Curve')\n",
    "plt.legend(loc='lower right')\n",
    "plt.show()"
   ]
  },
  {
   "cell_type": "markdown",
   "id": "50446e7f-b1d8-4933-bf7a-94143e26074c",
   "metadata": {},
   "source": [
    "<p style=\"background-color: lightgreen; text-align: center; font-size: 18px; color: red; padding: 5px; border-radius: 10px;\"><b>Exercise 1</b></p>\n",
    "\n",
    "1. Load the file `BBBP.csv`, this is a dataset for predicting blood-brain barrier penetration. The output column is `p_np` and all other columns are used as inputs.\n",
    "2. Perform a logistic regression analysis to predict a binary outcome.\n",
    "3. Split the dataset into training and testing sets (e.g., 80/20 split).\n",
    "4. Fit a logistic regression model using scikit-learn and make predictions on the testing data.\n",
    "5. Evaluate your model using accuracy, precision, recall, and F1 score.\n",
    "6. Visualize the confusion matrix using a heatmap for better interpretation of results."
   ]
  },
  {
   "cell_type": "code",
   "execution_count": null,
   "id": "59f28ef3-c759-4176-8ba7-dbbf96379a7a",
   "metadata": {},
   "outputs": [],
   "source": []
  },
  {
   "cell_type": "code",
   "execution_count": null,
   "id": "787b0581-d825-4755-8745-3c3cf6f9adce",
   "metadata": {},
   "outputs": [],
   "source": []
  },
  {
   "cell_type": "code",
   "execution_count": null,
   "id": "9262c644-d591-435a-9823-64c20dce0244",
   "metadata": {},
   "outputs": [],
   "source": []
  },
  {
   "cell_type": "code",
   "execution_count": null,
   "id": "2f606f00-6aa5-4d4d-88f2-032b4373e50e",
   "metadata": {},
   "outputs": [],
   "source": []
  },
  {
   "cell_type": "code",
   "execution_count": null,
   "id": "30687030-2a71-4e78-ae64-ca0c4e513d03",
   "metadata": {},
   "outputs": [],
   "source": []
  },
  {
   "cell_type": "code",
   "execution_count": null,
   "id": "6b70c063-7982-4b62-bf8b-8dfa7e5ab175",
   "metadata": {},
   "outputs": [],
   "source": []
  }
 ],
 "metadata": {
  "kernelspec": {
   "display_name": "Python 3 (ipykernel)",
   "language": "python",
   "name": "python3"
  },
  "language_info": {
   "codemirror_mode": {
    "name": "ipython",
    "version": 3
   },
   "file_extension": ".py",
   "mimetype": "text/x-python",
   "name": "python",
   "nbconvert_exporter": "python",
   "pygments_lexer": "ipython3",
   "version": "3.12.3"
  },
  "toc": {
   "base_numbering": "",
   "nav_menu": {},
   "number_sections": false,
   "sideBar": true,
   "skip_h1_title": false,
   "title_cell": "Table of Contents",
   "title_sidebar": "Table of Contents",
   "toc_cell": false,
   "toc_position": {
    "height": "calc(100% - 180px)",
    "left": "10px",
    "top": "150px",
    "width": "244.333px"
   },
   "toc_section_display": true,
   "toc_window_display": true
  }
 },
 "nbformat": 4,
 "nbformat_minor": 5
}
