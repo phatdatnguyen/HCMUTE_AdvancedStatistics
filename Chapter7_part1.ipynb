{
 "cells": [
  {
   "cell_type": "markdown",
   "id": "0d2d46c5-ca0a-403c-bd0b-e689461c8524",
   "metadata": {},
   "source": [
    "# **Chapter 7. Deep Learning**"
   ]
  },
  {
   "cell_type": "markdown",
   "id": "97818ee9-3bca-4e1d-8d1b-856af4b39ec2",
   "metadata": {},
   "source": [
    "## **7.1. Perceptron**"
   ]
  },
  {
   "cell_type": "markdown",
   "id": "36c8caeb-385f-4679-bd33-88114aeaa923",
   "metadata": {},
   "source": [
    "### **7.1.1. Structure of Perceptron**"
   ]
  },
  {
   "cell_type": "markdown",
   "id": "0e447503-f870-49b3-89e3-e7b1d9fd57dd",
   "metadata": {},
   "source": [
    "In this section, we will explore the structure of a perceptron, learn about how it work, and use single-perceptron networks to solve simple linear regression problems."
   ]
  },
  {
   "cell_type": "markdown",
   "id": "c4e4a306-83ff-44ed-93cd-818433e17251",
   "metadata": {},
   "source": [
    "The structure of a perceptron can be described as follow:\n",
    "\n",
    "![Single layer perceptron](images/perceptron_structure.jpg)\n",
    "\n",
    "**Key points to remember about perceptron**\n",
    "\n",
    "- A perceptron can have 1 or multiple inputs, and only 1 output\n",
    "- A perceptron contains the weights (w) for each of the inputs, and a bias (b)\n",
    "- The output of a perceptron is calculated using the following equation:\n",
    "\n",
    "$$\\text{output} = \\sum_{i}(w_i \\times x_i) + b$$\n",
    "\n",
    "Here, $w_i$ represents the weight associated with the i<sup>th</sup> input, $x_i$ is the i<sup>th</sup> input, and $b$ is the bias term. The perceptron computes a weighted sum of its inputs, adds a bias, and then applies an activation function to produce the output."
   ]
  },
  {
   "cell_type": "markdown",
   "id": "62ae64aa-639e-4b38-8472-7091ee047c39",
   "metadata": {},
   "source": [
    "### **7.1.2. Single-Perceptron Network**"
   ]
  },
  {
   "cell_type": "markdown",
   "id": "d0bd241c-6234-4608-857a-6b6431ea8b00",
   "metadata": {},
   "source": [
    "#### ***7.1.2.1. Structure of Single-Perceptron Network***"
   ]
  },
  {
   "cell_type": "markdown",
   "id": "88093aeb-ce1f-479a-9a66-7c6c47ee7c82",
   "metadata": {},
   "source": [
    "Single-perceptron network, or any other artificial neural network (ANN), works on the basic of **gradient descent**.\n",
    "You can think of an ANN as a mathematic expression that maps the 1 or more inputs to 1 output:\n",
    "\n",
    "![Single-perceptron network](images/single-perceptron_network_2_inputs.png)"
   ]
  },
  {
   "cell_type": "markdown",
   "id": "c0e721b1-2e59-4d70-835b-2629d528069b",
   "metadata": {},
   "source": [
    "#### ***7.1.2.2. Training Single-Perceptron Network***"
   ]
  },
  {
   "cell_type": "markdown",
   "id": "933028ca-b423-43e9-8bb9-4a2674af1450",
   "metadata": {},
   "source": [
    "In general, to use an ANN to solve a regression problem, you need to follow these step:\n",
    "- **Step 1.** Initialize the parameters (weights and biases) of each neuron in the network randomly.\n",
    "- **Step 2.** Forward pass: Pass the input values to the network, calculate the output of each neuron in the network in order, until we get the output values.\n",
    "- **Step 3.** Calculate the value of the loss function.\n",
    "- **Step 4.** Backward pass: Calculate the gradients for all weights and biases in the network with respect to the loss function\n",
    "- **Step 5.** Update the values of weights and biases so that they can lower the loss function.\n",
    "- Return to **Step 2**, repeat after a number of iterations (epochs) or until the loss function is low enough.\n",
    "\n",
    "The loop from step 2 to step 5 is called the **training process**.\n",
    "\n",
    "**The Workflow of Training a Single-Perceptron Network**\n",
    "\n",
    "An example of a single-perceptron network with 3 inputs is below:\n",
    "\n",
    "![Single-perceptron network](images/single-perceptron_network_3_inputs.png)\n",
    "\n",
    "We will test this network for the regression of function $y = x_1 - 3.x_2 + 2.x_3$, using 1 single data point: $x_1 = 3.4$, $x_2 = 2.4$, $x_3 = -1.7$ → $y = -7.2$.\n",
    "\n",
    "Following the general workflow:\n",
    "- **Step 1.** Initialize the parameters:\n",
    "\n",
    "![Single-perceptron network](images/single-perceptron_network_3_inputs_step1.png)\n",
    "\n",
    "- **Step 2.** Forward:\n",
    "\n",
    "![Single-perceptron network](images/single-perceptron_network_3_inputs_step2.png)\n",
    "\n",
    "- **Step 3.** Calculate the loss function. We use MSE loss function in this case:\n",
    "\n",
    "$$\\text{MSE Loss} = \\frac{1}{n} \\sum_{i=1}^{n} (y_i - \\hat{y}_i)^2$$\n",
    "\n",
    "with $n = 1$ (1 data point), $y = -7.2$ (observed value), $\\hat{y} = 0.38$ (predicted value) → $MSE Loss = 57.5$\n",
    "\n",
    "- **Step 4.** Backward:\n",
    "\n",
    "We cannot calculate the gradients for weights and bias directly. We have to use the chain rule.\n",
    "\n",
    "$$\\frac{\\partial \\text{MSE}}{\\partial \\hat{y}} = -2 \\times (y - \\hat{y}) = 15.16$$\n",
    "\n",
    "$$\\frac{\\partial \\hat{y}}{\\partial w_1} = x_1 = 3.4 \\rightarrow \\frac{\\partial \\text{MSE}}{\\partial w_1} = \\left(\\frac{\\partial \\text{MSE}}{\\partial \\hat{y}}\\right) \\times \\left(\\frac{\\partial \\hat{y}}{\\partial w_1}\\right) = 15.16 \\times 3.4 = 51.544$$\n",
    "\n",
    "$$\\frac{\\partial \\hat{y}}{\\partial w_2} = x_2 = 2.4 \\rightarrow \\frac{\\partial \\text{MSE}}{\\partial w_2} = \\left(\\frac{\\partial \\text{MSE}}{\\partial \\hat{y}}\\right) \\times \\left(\\frac{\\partial \\hat{y}}{\\partial w_2}\\right) = 15.16 \\times 2.4 = 36.384$$\n",
    "\n",
    "$$\\frac{\\partial \\hat{y}}{\\partial w_3} = x_3 = -1.7 \\rightarrow \\frac{\\partial \\text{MSE}}{\\partial w_3} = \\left(\\frac{\\partial \\text{MSE}}{\\partial \\hat{y}}\\right) \\times \\left(\\frac{\\partial \\hat{y}}{\\partial w_3}\\right) = 15.16 \\times (-1.7) = -25.772$$\n",
    "\n",
    "$$\\frac{\\partial \\hat{y}}{\\partial b} = 1 \\rightarrow \\frac{\\partial \\text{MSE}}{\\partial b} = \\frac{\\partial \\text{MSE}}{\\partial \\hat{y}} = 15.16$$\n",
    "\n",
    "![Single-perceptron network](images/single-perceptron_network_3_inputs_step4.png)\n",
    "\n",
    "- **Step 5.** Update weights and bias:\n",
    "\n",
    "Choose a learning rate: $lr = 0.001$\n",
    "\n",
    "$$w_1 = w_1 - \\left( \\frac{\\partial \\text{MSE}}{\\partial w1} \\right) \\times \\text{lr} = w1 - 51.544 \\times 0.001 = 0.248$$\n",
    "\n",
    "$$w_2 = w_2 - \\left( \\frac{\\partial \\text{MSE}}{\\partial w2} \\right) \\times \\text{lr} = w2 - 36.384 \\times 0.001 = -0.536$$\n",
    "\n",
    "$$w_3 = w_3 - \\left( \\frac{\\partial \\text{MSE}}{\\partial w3} \\right) \\times \\text{lr} = w3 - (-25.772) \\times 0.001 = 0.226$$\n",
    "\n",
    "$$b = b - \\left( \\frac{\\partial \\text{MSE}}{\\partial b} \\right) \\times \\text{lr} = b - 15.16 \\times 0.001 = 0.885$$\n",
    "\n",
    "![Single-perceptron network](images/single-perceptron_network_3_inputs_step5.png)\n",
    "\n",
    "- Return to **Step 2** and continue\n",
    "\n",
    "**Note:** If we continue running this loop, the values of weights and bias will approaching their target values ($w_1 → 1$, $w_2 → -3$, $w_3 → 2$, $b → 0$), the output will get closer to the observed values, and the MSE loss will approach its mininum."
   ]
  },
  {
   "cell_type": "markdown",
   "id": "68cc386b-f9cc-49bf-816b-1453f74bdfc8",
   "metadata": {},
   "source": [
    "### **7.1.3. Perceptron for Regression**"
   ]
  },
  {
   "cell_type": "markdown",
   "id": "aab60c27-0cd7-44ed-a7d2-33eca00798ba",
   "metadata": {},
   "source": [
    "PyTorch is an open-source machine learning library developed by Facebook's AI Research lab, widely used for applications in deep learning and artificial intelligence. Known for its flexibility and dynamic computational graph, it provides a rich ecosystem for developing and training neural network models efficiently and intuitively. PyTorch is particularly favored for its ease of use, simplicity in debugging, and strong support for GPU acceleration, making it a popular choice among researchers and developers in the field of AI.\n",
    "\n",
    "To install PyTorch, visit their [website](https://pytorch.org/) for instruction."
   ]
  },
  {
   "cell_type": "markdown",
   "id": "c8492c2a-9aa5-48f3-9ab9-f1afae592042",
   "metadata": {},
   "source": [
    "#### ***7.1.3.1. Single-perceptron network with 1 input***"
   ]
  },
  {
   "cell_type": "markdown",
   "id": "c121664e-4c02-429f-b04b-6259262b69e1",
   "metadata": {},
   "source": [
    "In this section, we will use a single-perceptron network to perform linear regression for function $y = f(x)$:\n",
    "\n",
    "*Network structure:*\n",
    "\n",
    "![Single-perceptron network](images/single-perceptron_network_1_input.png)"
   ]
  },
  {
   "cell_type": "markdown",
   "id": "fadf3928-1e81-4081-bb32-12f3aad12c95",
   "metadata": {},
   "source": [
    "**Import required libraries**"
   ]
  },
  {
   "cell_type": "code",
   "execution_count": null,
   "id": "3d70ad91-9070-4719-8073-84dbce8e8dd0",
   "metadata": {},
   "outputs": [],
   "source": [
    "# Import modules\n",
    "import math\n",
    "import time\n",
    "import numpy as np\n",
    "import torch\n",
    "import torch.nn as nn\n",
    "import torch.optim as optim\n",
    "import matplotlib.pyplot as plt\n",
    "from IPython.display import display, clear_output\n",
    "from sklearn.preprocessing import MinMaxScaler\n",
    "from tqdm import tqdm"
   ]
  },
  {
   "cell_type": "markdown",
   "id": "d7f3624e-eaed-44ef-b0ef-bdb6b9925c75",
   "metadata": {},
   "source": [
    "**a. Load data**"
   ]
  },
  {
   "cell_type": "code",
   "execution_count": null,
   "id": "4f1a7681-1fcb-4e8f-b926-3acf4af07d60",
   "metadata": {},
   "outputs": [],
   "source": [
    "# Define the data points\n",
    "x = np.array([1.01, 2.03, 3.01, 4.07, 5.09])\n",
    "y = np.array([2.02, 4.04, 6.05, 8.03, 10.08])"
   ]
  },
  {
   "cell_type": "markdown",
   "id": "92814834-1532-435b-8c54-6cd8e3084082",
   "metadata": {},
   "source": [
    "**b. Data preprocession**"
   ]
  },
  {
   "cell_type": "code",
   "execution_count": null,
   "id": "e473bcc8-050d-4a4b-b625-2160e54ce230",
   "metadata": {},
   "outputs": [],
   "source": [
    "# Convert data to tensors\n",
    "x = torch.tensor(x, dtype=torch.float)\n",
    "y = torch.tensor(y, dtype=torch.float)"
   ]
  },
  {
   "cell_type": "markdown",
   "id": "51a4c49f-ea9b-427a-a05b-8297fa86e6b2",
   "metadata": {},
   "source": [
    "**c. Create model**"
   ]
  },
  {
   "cell_type": "code",
   "execution_count": null,
   "id": "0ec8e0f2-c319-4013-ab7a-102f25ecaf6a",
   "metadata": {},
   "outputs": [],
   "source": [
    "# Define the linear regression class\n",
    "class LinearRegressionModel(nn.Module):\n",
    "    def __init__(self):\n",
    "        super(LinearRegressionModel, self).__init__()\n",
    "        self.linear = nn.Linear(1, 1)  # One input feature and one output\n",
    "\n",
    "    def forward(self, x):\n",
    "        return self.linear(x)\n",
    "\n",
    "# Instantiate the model\n",
    "model = LinearRegressionModel()"
   ]
  },
  {
   "cell_type": "markdown",
   "id": "2f959796-0033-41b0-b167-d3940b1668f2",
   "metadata": {},
   "source": [
    "**d. Training**"
   ]
  },
  {
   "cell_type": "code",
   "execution_count": null,
   "id": "6646c11d-9517-4232-8b37-1b3b65d9013f",
   "metadata": {},
   "outputs": [],
   "source": [
    "# Define the loss function and optimizer\n",
    "criterion = nn.MSELoss()\n",
    "optimizer = optim.SGD(model.parameters(), lr=0.01)\n",
    "\n",
    "# Define the train function\n",
    "def train(x, y):\n",
    "    # Forward pass\n",
    "    outputs = model(x.unsqueeze(1))\n",
    "    loss = criterion(outputs, y.unsqueeze(1))\n",
    "    \n",
    "    # Backward and optimize\n",
    "    optimizer.zero_grad()\n",
    "    loss.backward()\n",
    "    optimizer.step()\n",
    "    \n",
    "    return loss.item()\n",
    "\n",
    "# Create lists of parameters and losses for visualization\n",
    "w_values = []\n",
    "b_values = []\n",
    "losses = []"
   ]
  },
  {
   "cell_type": "code",
   "execution_count": null,
   "id": "a742acf1-ae42-4cab-9b22-6c5d4f0f8b34",
   "metadata": {},
   "outputs": [],
   "source": [
    "# Train the model\n",
    "num_epochs = 100\n",
    "progress_bar = tqdm(range(num_epochs))\n",
    "for epoch in progress_bar:\n",
    "    train_loss = train(x, y)\n",
    "    \n",
    "    # Get the trained parameters\n",
    "    w = model.linear.weight.item()\n",
    "    b = model.linear.bias.item()\n",
    "    \n",
    "    # Add trained parameters to their lists for visualization\n",
    "    w_values.append(w)\n",
    "    b_values.append(b)\n",
    "    losses.append(train_loss)\n",
    "    \n",
    "    # Print progress\n",
    "    progress_bar.set_description(f'Epoch [{epoch+1}/{num_epochs}], Train loss: {train_loss:.4f}') "
   ]
  },
  {
   "cell_type": "code",
   "execution_count": null,
   "id": "bd02943d-bc8e-43a5-a353-4350e9c61855",
   "metadata": {},
   "outputs": [],
   "source": [
    "# Print out the final weights and bias\n",
    "print(f'Weight: {w_values[-1]:.4f}')\n",
    "print(f'Bias: {b_values[-1]:.4f}')"
   ]
  },
  {
   "cell_type": "markdown",
   "id": "0f83bd07-71b6-4823-8c0e-7573f62f9172",
   "metadata": {},
   "source": [
    "**e. Visualization**"
   ]
  },
  {
   "cell_type": "code",
   "execution_count": null,
   "id": "200f32d7-6161-4d3f-a9ef-128a8030a697",
   "metadata": {},
   "outputs": [],
   "source": [
    "# Create the axis\n",
    "x_min = math.floor(torch.min(x).item())\n",
    "x_max = math.ceil(torch.max(x).item())\n",
    "y_min = math.floor(torch.min(y).item())\n",
    "y_max = math.ceil(torch.max(y).item())\n",
    "\n",
    "# The range of x\n",
    "x_values = np.linspace(x_min, x_max, num=2)\n",
    "\n",
    "def update(frame):\n",
    "    # Get the x and y coordinates for the current frame\n",
    "    y_values = w_values[frame]*x_values + b_values[frame]\n",
    "\n",
    "    # Update the scatter plot with the current point\n",
    "    line.set_data(x_values, y_values)\n",
    "\n",
    "# Display the updated plot\n",
    "for frame in range(len(w_values)):\n",
    "    y_values = w_values[frame]*x_values + b_values[frame]\n",
    "    fig = plt.figure()\n",
    "    lines = plt.plot(x_values, y_values)\n",
    "    line = lines[0]\n",
    "    plt.xlim(x_min, x_max)\n",
    "    plt.ylim(y_min, y_max)\n",
    "    plt.scatter(x, y, color='red')\n",
    "    plt.title(f'Iteration {frame + 1}')\n",
    "    plt.xlabel('x')\n",
    "    plt.ylabel('y')\n",
    "\n",
    "    # Display the plot\n",
    "    display(plt.gcf())\n",
    "    clear_output(wait=True)\n",
    "    plt.close()\n",
    "    \n",
    "    # Pause for a moment to allow the user to see the plot\n",
    "    time.sleep(0.1)"
   ]
  },
  {
   "cell_type": "markdown",
   "id": "14f5acde-bd57-4211-9379-3c0dc8a8770a",
   "metadata": {},
   "source": [
    "**f. Make prediction**"
   ]
  },
  {
   "cell_type": "code",
   "execution_count": null,
   "id": "8f98ef4f-3864-417f-bd05-6f0c096a86dd",
   "metadata": {},
   "outputs": [],
   "source": [
    "# Input for prediction\n",
    "x_pred = 5\n",
    "\n",
    "# Convert to tensor\n",
    "x_pred = torch.tensor([x_pred], dtype=torch.float)\n",
    "\n",
    "# Run model forward\n",
    "y_pred = model(x_pred)\n",
    "\n",
    "# Convert back to number\n",
    "y_pred = y_pred.item()\n",
    "\n",
    "# Show result\n",
    "print(y_pred)"
   ]
  },
  {
   "cell_type": "markdown",
   "id": "38822a7b-e09e-4061-8428-4dff3bec5534",
   "metadata": {},
   "source": [
    "#### ***7.1.3.1. Single-perceptron network with 2 inputs***"
   ]
  },
  {
   "cell_type": "markdown",
   "id": "3e4815a1-2e78-4c55-83f7-32168b7f682d",
   "metadata": {},
   "source": [
    "In this section, we will use a single-perceptron network to perform linear regression for function with multiple variables $y = f(x_1, x_2)$:\n",
    "\n",
    "*Network structure*\n",
    "\n",
    "![Single-perceptron network](images/single-perceptron_network_2_inputs.png)"
   ]
  },
  {
   "cell_type": "markdown",
   "id": "aa0296cb-93db-451e-b658-334ad00d8ec6",
   "metadata": {},
   "source": [
    "**Import required libraries**"
   ]
  },
  {
   "cell_type": "code",
   "execution_count": null,
   "id": "581cab13-66c1-470a-94af-5e3ec92b1b8f",
   "metadata": {},
   "outputs": [],
   "source": [
    "# Import modules\n",
    "import math\n",
    "import time\n",
    "import numpy as np\n",
    "import torch\n",
    "import torch.nn as nn\n",
    "import torch.optim as optim\n",
    "import matplotlib.pyplot as plt\n",
    "from IPython.display import display, clear_output\n",
    "from sklearn.preprocessing import MinMaxScaler\n",
    "from tqdm import tqdm"
   ]
  },
  {
   "cell_type": "markdown",
   "id": "4e18d562-b49c-48ea-bb0f-a30aa1bbc81d",
   "metadata": {},
   "source": [
    "**a. Load data**"
   ]
  },
  {
   "cell_type": "code",
   "execution_count": null,
   "id": "6f4f4fc6-b14b-4658-97d1-2bfceeffc318",
   "metadata": {},
   "outputs": [],
   "source": [
    "# Define the data points\n",
    "x1 = np.array([1.01, 2.03, 3.01, 4.07, 5.09])\n",
    "x2 = np.array([2.02, 4.04, 6.05, 8.03, 10.08])\n",
    "y = 2*x1 - 3*x2 + 5\n",
    "\n",
    "# Combine x1 and x2 into 1 array\n",
    "x = np.column_stack((x1, x2))"
   ]
  },
  {
   "cell_type": "markdown",
   "id": "24da56cb-75c1-42d1-b33a-d9dd6af18bd2",
   "metadata": {},
   "source": [
    "**b. Data preprocession**"
   ]
  },
  {
   "cell_type": "code",
   "execution_count": null,
   "id": "3ec1868c-379c-4c51-beca-0c88db48539b",
   "metadata": {},
   "outputs": [],
   "source": [
    "# Define input and output scalers\n",
    "input_scaler = MinMaxScaler(feature_range=(0, 1))\n",
    "output_scaler = MinMaxScaler(feature_range=(0, 1))\n",
    "\n",
    "# Scale the data to the range from 0 to 1\n",
    "x_scaled = input_scaler.fit_transform(x)\n",
    "y_scaled = output_scaler.fit_transform(y.reshape(-1, 1)).reshape(-1)\n",
    "\n",
    "# Convert data to tensors\n",
    "x_scaled = torch.tensor(x_scaled, dtype=torch.float)\n",
    "y_scaled = torch.tensor(y_scaled, dtype=torch.float)"
   ]
  },
  {
   "cell_type": "markdown",
   "id": "26f237d3-c138-4450-ba86-85e837341857",
   "metadata": {},
   "source": [
    "**c. Create model**"
   ]
  },
  {
   "cell_type": "code",
   "execution_count": null,
   "id": "d4d22172-4bf7-481f-9e1a-26a8554f2714",
   "metadata": {},
   "outputs": [],
   "source": [
    "# Define the linear regression class\n",
    "class LinearRegressionModel(nn.Module):\n",
    "    def __init__(self):\n",
    "        super(LinearRegressionModel, self).__init__()\n",
    "        self.linear = nn.Linear(2, 1)  # Two input features and one output\n",
    "\n",
    "    def forward(self, x):\n",
    "        return self.linear(x)\n",
    "\n",
    "# Instantiate the model\n",
    "model = LinearRegressionModel()"
   ]
  },
  {
   "cell_type": "markdown",
   "id": "cad7d28c-5c3f-45a2-8bf7-5e6c8914fe00",
   "metadata": {},
   "source": [
    "**d. Training**"
   ]
  },
  {
   "cell_type": "code",
   "execution_count": null,
   "id": "bc882d2b-a1d9-42e0-a98d-b5e57415296a",
   "metadata": {},
   "outputs": [],
   "source": [
    "# Define the loss function and optimizer\n",
    "criterion = nn.MSELoss()\n",
    "optimizer = optim.SGD(model.parameters(), lr=0.01)\n",
    "\n",
    "# Define the train function\n",
    "def train(x, y):\n",
    "    # Forward pass\n",
    "    outputs = model(x)\n",
    "    loss = criterion(outputs, y.unsqueeze(1))\n",
    "    \n",
    "    # Backward and optimize\n",
    "    optimizer.zero_grad()\n",
    "    loss.backward()\n",
    "    optimizer.step()\n",
    "    \n",
    "    return loss.item()\n",
    "\n",
    "# Create lists of losses for visualization\n",
    "losses = []"
   ]
  },
  {
   "cell_type": "code",
   "execution_count": null,
   "id": "4a0eda2e-3cea-47dd-a8f0-7077886599dc",
   "metadata": {},
   "outputs": [],
   "source": [
    "# Train the model\n",
    "num_epochs = 1000\n",
    "progress_bar = tqdm(range(num_epochs))\n",
    "for epoch in progress_bar:\n",
    "    train_loss = train(x_scaled, y_scaled)\n",
    "    losses.append(train_loss)\n",
    "    \n",
    "    # Print progress\n",
    "    progress_bar.set_description(f'Epoch [{epoch+1}/{num_epochs}], Train loss: {train_loss:.4f}') "
   ]
  },
  {
   "cell_type": "markdown",
   "id": "0e752e60-59d9-4f91-a398-782bfbf861f6",
   "metadata": {},
   "source": [
    "**e. Visualization**"
   ]
  },
  {
   "cell_type": "code",
   "execution_count": null,
   "id": "e6686168-e9f0-45f4-9f17-a0e48911a1ed",
   "metadata": {
    "scrolled": true
   },
   "outputs": [],
   "source": [
    "# Visualize MSE loss values over time\n",
    "fig = plt.figure()\n",
    "plt.plot(losses)\n",
    "plt.xlabel('epoch')\n",
    "plt.ylabel('MSE loss')"
   ]
  },
  {
   "cell_type": "markdown",
   "id": "9e629aa6-3cfb-4666-8ae4-7a2cf8660d0d",
   "metadata": {},
   "source": [
    "**f. Make prediction**"
   ]
  },
  {
   "cell_type": "code",
   "execution_count": null,
   "id": "3d7266d2-0034-4775-af87-d8583b7a8e8e",
   "metadata": {},
   "outputs": [],
   "source": [
    "# Input for prediction\n",
    "x_pred = [2, 4]\n",
    "\n",
    "# Scale input to range 0 to 1\n",
    "x_pred_scaled = input_scaler.transform([x_pred])\n",
    "\n",
    "# Convert to tensor\n",
    "x_pred_scaled = torch.tensor(x_pred_scaled, dtype=torch.float)\n",
    "\n",
    "# Run model forward\n",
    "y_pred_scaled = model(x_pred_scaled)\n",
    "\n",
    "# Convert back to number\n",
    "y_pred_scaled = y_pred_scaled.item()\n",
    "\n",
    "# Scale output back to original range\n",
    "y_pred = output_scaler.inverse_transform([[y_pred_scaled]])[0][0]\n",
    "\n",
    "# Show result\n",
    "print(y_pred)"
   ]
  },
  {
   "cell_type": "markdown",
   "id": "7eca003c-ba1f-468a-b7d9-7eaf9a8fcbc8",
   "metadata": {},
   "source": [
    "<p style=\"background-color: lightgreen; text-align: center; font-size: 18px; color: red; padding: 5px; border-radius: 10px;\"><b>Exercise 1</b></p>\n",
    "\n",
    "1. **Load Data:** Generate 3 random array $x_1$, $x_2$, and $x_3$ with 10 elements each. Calculate the output $y = 5 x_1 - 4 x_2 + 2 x_3 - 10$\n",
    "\n",
    "2. **Data Preprocessing:** Scale the inputs and output with min-max scaler\n",
    "\n",
    "3. **Model Training and Evaluation:** Train a single-perceptron network and evaluate its performance."
   ]
  },
  {
   "cell_type": "code",
   "execution_count": null,
   "id": "227cf3e3-498b-40dc-a810-541ef292102c",
   "metadata": {},
   "outputs": [],
   "source": []
  },
  {
   "cell_type": "code",
   "execution_count": null,
   "id": "f12cc364-802e-4137-b913-71542ceed97e",
   "metadata": {},
   "outputs": [],
   "source": []
  },
  {
   "cell_type": "code",
   "execution_count": null,
   "id": "a4e71a02-f51a-429a-bb72-dce3d52ae1a3",
   "metadata": {},
   "outputs": [],
   "source": []
  }
 ],
 "metadata": {
  "kernelspec": {
   "display_name": "Python 3 (ipykernel)",
   "language": "python",
   "name": "python3"
  },
  "language_info": {
   "codemirror_mode": {
    "name": "ipython",
    "version": 3
   },
   "file_extension": ".py",
   "mimetype": "text/x-python",
   "name": "python",
   "nbconvert_exporter": "python",
   "pygments_lexer": "ipython3",
   "version": "3.12.3"
  }
 },
 "nbformat": 4,
 "nbformat_minor": 5
}
