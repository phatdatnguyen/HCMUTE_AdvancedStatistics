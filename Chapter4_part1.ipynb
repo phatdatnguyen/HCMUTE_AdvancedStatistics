{
 "cells": [
  {
   "cell_type": "markdown",
   "id": "edc47ec4-053a-401e-be2d-0cf621c41bda",
   "metadata": {},
   "source": [
    "# **Chapter 4. Design of Experiments**"
   ]
  },
  {
   "cell_type": "markdown",
   "id": "189232c0-21cc-4a95-987b-14f45a55cf70",
   "metadata": {},
   "source": [
    "## **4.1. Fundamentals of Design of Experiments**"
   ]
  },
  {
   "cell_type": "markdown",
   "id": "8d78ba8e-96b4-43f6-a3f1-e22884f6f5e1",
   "metadata": {},
   "source": [
    "**Introduction:**\n",
    "\n",
    "Design of Experiments (DOE) is a systematic method used to plan, conduct, analyze, and interpret controlled tests to evaluate the factors that may influence a particular outcome or response variable. The primary goal of DOE is to determine cause-and-effect relationships by manipulating input variables and observing the resulting changes in output responses. It is a crucial aspect of scientific research, engineering, and industrial processes, enabling researchers and practitioners to make informed decisions based on empirical evidence.\n",
    "\n",
    "**Key Concepts:**\n",
    "\n",
    "1. **Factors and Levels:**\n",
    "\n",
    "   - **Factors** are independent variables that are systematically manipulated during the experiment to observe their effect on the response variable. Factors can be categorical (e.g., type of material) or continuous (e.g., temperature).\n",
    "   - **Levels** are the specific values or settings of each factor used in the experiment. For example, a temperature factor might have levels of 50°C, 75°C, and 100°C.\n",
    "\n",
    "2. **Response Variable:**\n",
    "\n",
    "   - The **response variable** (dependent variable) is the outcome or characteristic being measured in the experiment, which is expected to change due to variations in the factors. It is the primary focus of the experimental study.\n",
    "\n",
    "3. **Experimental Units:**\n",
    "\n",
    "   - **Experimental units** are the smallest division of the experimental material such that any two units may receive different treatments. They are the entities to which treatments are applied independently.\n",
    "\n",
    "4. **Treatments:**\n",
    "\n",
    "   - A **treatment** is a specific combination of factor levels whose effect is to be compared with other treatments. Each treatment represents a unique experimental condition.\n",
    "\n",
    "5. **Randomization:**\n",
    "\n",
    "   - **Randomization** is the practice of assigning treatments to experimental units by chance to reduce bias. It ensures that the experiment does not systematically favor one treatment over another and helps in balancing out the effects of lurking variables.\n",
    "\n",
    "6. **Replication:**\n",
    "\n",
    "   - **Replication** involves repeating the experimental conditions multiple times. Replicates provide an estimate of the experimental error and increase the precision of the experiment by reducing the impact of random variability.\n",
    "\n",
    "7. **Blocking:**\n",
    "\n",
    "   - **Blocking** is a technique used to account for variability among experimental units by grouping similar units together. Within each block, treatments are randomized, which helps to control for known sources of variation.\n",
    "\n",
    "8. **Experimental Error:**\n",
    "\n",
    "   - **Experimental error** refers to the unexplained variation in the response variable that cannot be attributed to the factors being studied. It encompasses all unknown and uncontrolled influences on the response.\n",
    "\n",
    "9. **Interactions:**\n",
    "\n",
    "   - **Interaction effects** occur when the effect of one factor on the response variable depends on the level of another factor. Identifying interactions is essential for understanding complex relationships between factors.\n",
    "\n",
    "**Principles of Experimental Design:**\n",
    "\n",
    "1. **Control:**\n",
    "\n",
    "   - Control unwanted sources of variation to isolate the effect of the factors of interest. This includes maintaining consistent environmental conditions and using control groups when appropriate.\n",
    "\n",
    "2. **Randomization:**\n",
    "\n",
    "   - Randomly assign treatments to experimental units to avoid systematic biases and ensure that the treatment groups are comparable.\n",
    "\n",
    "3. **Replication:**\n",
    "\n",
    "   - Use sufficient replicates to obtain reliable estimates of the treatment effects and to increase the statistical power of the experiment.\n",
    "\n",
    "4. **Blocking:**\n",
    "\n",
    "   - Group similar experimental units together to control for sources of variability that are not of primary interest.\n",
    "\n",
    "5. **Factorial Design:**\n",
    "\n",
    "   - Study all possible combinations of factor levels to fully understand the effects and interactions among factors.\n",
    "\n",
    "**Importance of DOE:**\n",
    "\n",
    "- **Efficiency:** DOE helps in obtaining maximum information with minimal resources by carefully planning experiments.\n",
    "- **Validity:** By controlling extraneous variables and using randomization, DOE ensures the validity and reliability of the results.\n",
    "- **Optimization:** Facilitates the identification of optimal conditions for a process or system by systematically exploring the effects of factors.\n",
    "- **Prediction:** Provides a basis for modeling and predicting the behavior of a system under various conditions.\n",
    "- **Decision Making:** Empowers researchers and practitioners to make data-driven decisions based on statistically significant findings.\n",
    "\n",
    "**Process of Conducting an Experiment:**\n",
    "\n",
    "1. **Define Objectives:**\n",
    "\n",
    "   - Clearly state the purpose of the experiment, research questions, and hypotheses.\n",
    "\n",
    "2. **Select Factors and Levels:**\n",
    "\n",
    "   - Determine which factors to study and the levels at which they will be tested.\n",
    "\n",
    "3. **Choose Experimental Design:**\n",
    "\n",
    "   - Select an appropriate design structure (e.g., completely randomized design, factorial design) based on the objectives and constraints.\n",
    "\n",
    "4. **Randomize and Assign Treatments:**\n",
    "\n",
    "   - Randomly assign treatments to experimental units while considering replication and blocking if necessary.\n",
    "\n",
    "5. **Collect Data:**\n",
    "\n",
    "   - Conduct the experiment according to the design plan and collect response data meticulously.\n",
    "\n",
    "6. **Analyze Data:**\n",
    "\n",
    "   - Use statistical methods (e.g., ANOVA, regression analysis) to analyze the data and test hypotheses.\n",
    "\n",
    "7. **Interpret Results:**\n",
    "\n",
    "   - Draw conclusions from the analysis, assess the validity of the findings, and identify practical implications.\n",
    "\n",
    "8. **Report Findings:**\n",
    "\n",
    "   - Document the methodology, results, and conclusions in a clear and transparent manner.\n",
    "\n",
    "**Challenges in DOE:**\n",
    "\n",
    "- **Resource Constraints:** Limited time, budget, or materials may restrict the scope of the experiment.\n",
    "- **Complex Interactions:** Identifying and interpreting higher-order interactions can be challenging.\n",
    "- **Assumption Violations:** The validity of statistical tests depends on certain assumptions (e.g., normality, homogeneity of variance) which may not always hold.\n",
    "- **External Validity:** Ensuring that the findings are generalizable beyond the experimental conditions.\n",
    "\n",
    "**Summary:**\n",
    "\n",
    "The Fundamentals of Design of Experiments provide a framework for conducting structured and efficient experiments that yield meaningful insights into the relationships between factors and responses. By adhering to the principles of control, randomization, replication, and blocking, researchers can minimize bias, reduce variability, and enhance the reliability of their conclusions. Understanding these foundational concepts is essential before delving into specific experimental designs and methodologies."
   ]
  },
  {
   "cell_type": "markdown",
   "id": "2003f880-8981-4999-8d29-d82b5a2d14b0",
   "metadata": {},
   "source": [
    "## **4.2. Factorial Design**"
   ]
  },
  {
   "cell_type": "markdown",
   "id": "eb0c36a7-e669-4c91-8bcf-16d77117759f",
   "metadata": {},
   "source": [
    "### **4.2.1. Full Factorial Design**"
   ]
  },
  {
   "cell_type": "markdown",
   "id": "f0430df5-89bf-4a6a-a2e7-69526305a317",
   "metadata": {},
   "source": [
    "**Introduction:**\n",
    "\n",
    "A **Full Factorial Design** is an experimental design technique used to study the effect of multiple factors on a response variable simultaneously. In a full factorial experiment, all possible combinations of factor levels are tested. This allows for the investigation of not only the individual effect of each factor but also the interaction effects between factors.\n",
    "\n",
    "**Key Concepts:**\n",
    "\n",
    "1. **Factors and Levels:**\n",
    "\n",
    "   - **Factors:** Independent variables that are manipulated during the experiment.\n",
    "   - **Levels:** The specific values or settings of each factor.\n",
    "\n",
    "2. **Treatment Combinations:**\n",
    "\n",
    "   - In a full factorial design with $k$ factors, each at $n$ levels, there are $n^k$ treatment combinations.\n",
    "\n",
    "3. **Main Effects and Interaction Effects:**\n",
    "\n",
    "   - **Main Effects:** The effect of an individual factor on the response variable.\n",
    "   - **Interaction Effects:** The effect on the response variable due to the interaction between two or more factors.\n",
    "\n",
    "**Advantages of Full Factorial Design:**\n",
    "\n",
    "- **Comprehensive Analysis:** All possible combinations are tested, providing a complete picture of the effects.\n",
    "- **Interaction Detection:** Enables the study of interactions between factors.\n",
    "- **Efficiency with Limited Factors and Levels:** Particularly useful when the number of factors and levels is manageable.\n",
    "\n",
    "**Disadvantages:**\n",
    "\n",
    "- **Resource Intensive:** The number of experiments grows exponentially with the number of factors and levels, leading to increased time and cost.\n",
    "- **Complexity:** Analyzing data from many runs can be complex.\n",
    "\n",
    "**Visualization of Full Factorial Design:**\n",
    "\n",
    "If you haven't installed `pyDOE3`, you can install it using:"
   ]
  },
  {
   "cell_type": "code",
   "execution_count": null,
   "id": "d957a9d3-4ab7-4db0-acc7-6de50ac672ca",
   "metadata": {},
   "outputs": [],
   "source": [
    "!pip install pyDOE3"
   ]
  },
  {
   "cell_type": "markdown",
   "id": "522be8fe-9e33-4a39-8949-5d607344b90b",
   "metadata": {},
   "source": [
    "To view the visualization, you will also need `plotly`, you can install it using:"
   ]
  },
  {
   "cell_type": "code",
   "execution_count": null,
   "id": "3ceaf11b-7bea-46ad-95ec-d34810a2cacf",
   "metadata": {},
   "outputs": [],
   "source": [
    "!pip install plotpy"
   ]
  },
  {
   "cell_type": "code",
   "execution_count": null,
   "id": "8fa578a6-34a0-4b20-97cf-ac25c7744592",
   "metadata": {
    "scrolled": true
   },
   "outputs": [],
   "source": [
    "import numpy as np\n",
    "import pandas as pd\n",
    "from pyDOE3 import fullfact\n",
    "import plotly.express as px\n",
    "\n",
    "# Define the number of levels for each factor\n",
    "levels = [2, 2, 2]  # Three factors, each at two levels\n",
    "\n",
    "# Generate the full factorial design\n",
    "design = fullfact(levels)\n",
    "\n",
    "# Adjust levels from 0 and 1 to actual levels (-1 and 1)\n",
    "design = design * 2 - 1  # Maps 0 to -1 and 1 to 1\n",
    "\n",
    "# Create a DataFrame\n",
    "df = pd.DataFrame(design, columns=['Factor 1', 'Factor 2', 'Factor 3'])\n",
    "\n",
    "# Create the 3D interactive scatter plot\n",
    "fig = px.scatter_3d(\n",
    "    df,\n",
    "    x='Factor 1',\n",
    "    y='Factor 2',\n",
    "    z='Factor 3',\n",
    "    title='3D Scatter Plot of Full Factorial Design Points',\n",
    "    labels={'Factor 1': 'Factor 1', 'Factor 2': 'Factor 2', 'Factor 3': 'Factor 3'},\n",
    "    width=700,\n",
    "    height=500\n",
    ")\n",
    "\n",
    "# Customize the marker appearance\n",
    "fig.update_traces(marker=dict(size=5))\n",
    "\n",
    "# Show the plot\n",
    "fig.show()"
   ]
  },
  {
   "cell_type": "markdown",
   "id": "92f06ad8-0cb5-4690-af82-dda4f5f8c6ec",
   "metadata": {},
   "source": [
    "**Example Scenario:**\n",
    "\n",
    "Suppose a researcher wants to study the effect of temperature and pressure on the yield of a chemical reaction. Temperature has two levels (Low, High), and pressure has two levels (Low, High). A full factorial design would require testing all four possible combinations:\n",
    "\n",
    "1. Low Temperature, Low Pressure\n",
    "2. Low Temperature, High Pressure\n",
    "3. High Temperature, Low Pressure\n",
    "4. High Temperature, High Pressure\n",
    "\n",
    "**Python Implementation using pyDOE3:**\n",
    "\n",
    "We will use the `pyDOE3` library to generate a full factorial design. The `pyDOE3` library is a Design of Experiments package for Python, which allows us to create various experimental designs, including full factorial designs."
   ]
  },
  {
   "cell_type": "markdown",
   "id": "d603926d-f01c-4f01-8738-d72e7da8ac13",
   "metadata": {},
   "source": [
    "**Import Required Libraries:**"
   ]
  },
  {
   "cell_type": "code",
   "execution_count": null,
   "id": "bfd58e75-46d9-4932-9a7f-18b580f16c05",
   "metadata": {},
   "outputs": [],
   "source": [
    "# Import required libraries\n",
    "import numpy as np\n",
    "import pandas as pd\n",
    "from pyDOE3 import fullfact\n",
    "import statsmodels.api as sm\n",
    "from statsmodels.formula.api import ols\n",
    "import matplotlib.pyplot as plt"
   ]
  },
  {
   "cell_type": "markdown",
   "id": "5afb111a-883a-414f-b936-733eb60d087b",
   "metadata": {},
   "source": [
    "**Creating a Full Factorial Design:**\n",
    "\n",
    "Suppose we have the following factors:\n",
    "\n",
    "- **Factor A:** Temperature with 2 levels (Low, High)\n",
    "- **Factor B:** Pressure with 3 levels (Low, High)\n",
    "- **Factor C:** Catalyst type with 2 levels (Type 1, Type 2)\n",
    "\n",
    "**Step 1: Define the Levels for Each Factor**\n",
    "\n",
    "First, we define the number of levels for each factor."
   ]
  },
  {
   "cell_type": "code",
   "execution_count": null,
   "id": "b560f9c9-c002-472f-9c0e-ebae619ae465",
   "metadata": {},
   "outputs": [],
   "source": [
    "# Number of levels for each factor\n",
    "levels = [2, 2, 2]  # [Levels of Factor A, Levels of Factor B, Levels of Factor C]"
   ]
  },
  {
   "cell_type": "markdown",
   "id": "19baac44-d39c-4eea-9d89-6df9ddcd4ed1",
   "metadata": {},
   "source": [
    "**Step 2: Generate the Design Matrix**\n",
    "\n",
    "Use the `fullfact` function to generate the factorial design."
   ]
  },
  {
   "cell_type": "code",
   "execution_count": null,
   "id": "c9b1f61e-0376-4d19-9951-61db8483b06c",
   "metadata": {},
   "outputs": [],
   "source": [
    "# Generate the factorial design\n",
    "design = fullfact(levels)\n",
    "print(\"Design Matrix:\")\n",
    "print(design)"
   ]
  },
  {
   "cell_type": "markdown",
   "id": "31095239-16cf-4315-977f-45235b653db2",
   "metadata": {},
   "source": [
    "**Step 3: Map Numeric Levels to Actual Factor Levels**\n",
    "\n",
    "By default, `fullfact` generates levels starting from 0. We'll map these to actual factor levels."
   ]
  },
  {
   "cell_type": "code",
   "execution_count": null,
   "id": "d1e54bac-8e08-4b10-9b47-50f1174dc83f",
   "metadata": {},
   "outputs": [],
   "source": [
    "# Actual levels for each factor\n",
    "temperature_levels = ['Low', 'High']\n",
    "pressure_levels = ['Low', 'High']\n",
    "catalyst_levels = ['Type 1', 'Type 2']\n",
    "\n",
    "# Create a DataFrame to store the design with actual factor levels\n",
    "df_design = pd.DataFrame(design, columns=['Temperature', 'Pressure', 'Catalyst'])\n",
    "\n",
    "# Map numeric levels to actual levels\n",
    "df_design['Temperature'] = df_design['Temperature'].apply(lambda x: temperature_levels[int(x)])\n",
    "df_design['Pressure'] = df_design['Pressure'].apply(lambda x: pressure_levels[int(x)])\n",
    "df_design['Catalyst'] = df_design['Catalyst'].apply(lambda x: catalyst_levels[int(x)])\n",
    "\n",
    "print(\"Full Factorial Design:\")\n",
    "print(df_design)"
   ]
  },
  {
   "cell_type": "markdown",
   "id": "9fd027df-07d5-416d-a0f0-5834892bced4",
   "metadata": {},
   "source": [
    "**Step 4: Add Response Data**\n",
    "\n",
    "Assume we conduct the experiments and collect the response variable, e.g., the yield percentage of the chemical reaction"
   ]
  },
  {
   "cell_type": "code",
   "execution_count": null,
   "id": "1b2be9b0-bcf2-4fb2-8a6d-b99f505ff8ed",
   "metadata": {},
   "outputs": [],
   "source": [
    "# For demonstration, we'll simulate some response data\n",
    "np.random.seed(42)  # For reproducibility\n",
    "df_design['Yield'] = np.random.uniform(0, 100, size=len(df_design))\n",
    "\n",
    "print(\"Design with Response:\")\n",
    "print(df_design)"
   ]
  },
  {
   "cell_type": "markdown",
   "id": "bd83e4a5-c3ad-4d3f-93a9-2a6fe96ac33b",
   "metadata": {},
   "source": [
    "**Step 5: Analyze the Results Using Linear Regression**\n",
    "\n",
    "We can perform linear regression to analyze the effects of the factors on the response variable."
   ]
  },
  {
   "cell_type": "code",
   "execution_count": null,
   "id": "55ae87bb-93d6-440e-aebf-a2310d85b991",
   "metadata": {
    "scrolled": true
   },
   "outputs": [],
   "source": [
    "# Build the formula for the model including interaction terms\n",
    "formula = 'Yield ~ C(Temperature) * C(Pressure) * C(Catalyst)'\n",
    "\n",
    "# Fit the model\n",
    "model = ols(formula, data=df_design).fit()\n",
    "\n",
    "# Display the model summary\n",
    "model.summary()"
   ]
  },
  {
   "cell_type": "markdown",
   "id": "ac23ffdf-004b-41d5-8d32-a0c4a9f4fb88",
   "metadata": {},
   "source": [
    "**Step 6: Analyze the Results Using ANOVA**\n",
    "\n",
    "We can perform an ANOVA to analyze the effects of the factors on the response variable."
   ]
  },
  {
   "cell_type": "code",
   "execution_count": null,
   "id": "d1de5f93-8d4e-4142-b52a-51fe361e6069",
   "metadata": {},
   "outputs": [],
   "source": [
    "# ANOVA\n",
    "anova_table = sm.stats.anova_lm(model, typ=1)\n",
    "print(\"ANOVA Results:\")\n",
    "print(anova_table)"
   ]
  },
  {
   "cell_type": "markdown",
   "id": "206a5638-5455-4ffa-907e-cf9297a25cf4",
   "metadata": {},
   "source": [
    "**Interpreting the Results:**\n",
    "\n",
    "- **Sum Sq:** Sum of squares due to each factor.\n",
    "- **df:** Degrees of freedom.\n",
    "- **F:** F-statistic value.\n",
    "- **PR(>F):** P-value corresponding to the F-statistic.\n",
    "\n",
    "A significant p-value (typically less than 0.05) indicates that the factor or interaction has a statistically significant effect on the response variable."
   ]
  },
  {
   "cell_type": "markdown",
   "id": "52976c0d-a74a-41f1-b931-b27832a77624",
   "metadata": {},
   "source": [
    "**Visualization:**\n",
    "\n",
    "We can visualize the main effects and interaction effects.\n",
    "\n",
    "**Main Effects Plot:**"
   ]
  },
  {
   "cell_type": "code",
   "execution_count": null,
   "id": "c3d54e1a-ec4c-487e-8fcb-c9e78a8081f7",
   "metadata": {},
   "outputs": [],
   "source": [
    "from statsmodels.graphics.factorplots import interaction_plot\n",
    "\n",
    "# Main effects plot for Temperature\n",
    "plt.figure(figsize=(8, 6))\n",
    "plt.scatter(df_design['Temperature'], df_design['Yield'])\n",
    "plt.title('Main Effects Plot for Temperature')\n",
    "plt.xlabel('Temperature')\n",
    "plt.ylabel('Yield')\n",
    "plt.show()"
   ]
  },
  {
   "cell_type": "markdown",
   "id": "aa571081-fa02-4a07-9797-216c3562811f",
   "metadata": {},
   "source": [
    "**Interaction Plot:**"
   ]
  },
  {
   "cell_type": "code",
   "execution_count": null,
   "id": "222b738c-f986-4021-9afd-604a060debb1",
   "metadata": {},
   "outputs": [],
   "source": [
    "# Interaction plot between Temperature and Pressure\n",
    "plt.figure(figsize=(8, 6))\n",
    "interaction_plot(df_design['Pressure'], df_design['Temperature'], df_design['Yield'],\n",
    "                 colors=['red', 'blue'], markers=['D', '^'], ms=10)\n",
    "plt.title('Interaction Plot between Temperature and Pressure')\n",
    "plt.xlabel('Pressure')\n",
    "plt.ylabel('Yield')\n",
    "plt.show()"
   ]
  },
  {
   "cell_type": "markdown",
   "id": "961194de-19df-4057-b143-c3c9d627b407",
   "metadata": {},
   "source": [
    "**Example Summary:**\n",
    "\n",
    "In this example, we:\n",
    "\n",
    "1. **Defined the factors and their levels.**\n",
    "2. **Generated a full factorial design using pyDOE3.**\n",
    "3. **Mapped numeric levels to actual factor levels for clarity.**\n",
    "4. **Simulated response data (yield).**\n",
    "5. **Performed ANOVA to analyze the effects of factors and their interactions on the yield.**\n",
    "6. **Visualized the main effects and interaction effects.**\n",
    "\n",
    "**Conclusion:**\n",
    "\n",
    "The full factorial design allows us to comprehensively study the effects of multiple factors and their interactions on a response variable. By conducting experiments at all possible combinations of factor levels, we gain valuable insights into how factors influence the outcome."
   ]
  },
  {
   "cell_type": "markdown",
   "id": "cbdd3c2b-9887-4bfb-985a-3089217bb00c",
   "metadata": {},
   "source": [
    "<p style=\"background-color: lightgreen; text-align: center; font-size: 18px; color: red; padding: 5px; border-radius: 10px;\"><b>Exercise 1</b></p>\n",
    "\n",
    "**Exercise:** Full Factorial Design Analysis\n",
    "\n",
    "1. **Scenario:**\n",
    "\n",
    "   A manufacturer wants to optimize the tensile strength of a new polymer. They are considering three factors:\n",
    "\n",
    "   - **Factor A:** Polymer Type (Type 1, Type 2)\n",
    "   - **Factor B:** Curing Time (30 minutes, 60 minutes, 90 minutes)\n",
    "   - **Factor C:** Temperature (150°C, 175°C)\n",
    "\n",
    "2. **Tasks:**\n",
    "\n",
    "   a. **Design the Experiment:**\n",
    "\n",
    "      - Use the full factorial design to create the experimental runs.\n",
    "      - List all the treatment combinations.\n",
    "\n",
    "   b. **Simulate Response Data:**\n",
    "\n",
    "      - Assume you conducted the experiments and collected the tensile strength measurements (in MPa).\n",
    "      - For simplicity, simulate the data using a function or random numbers, considering that higher temperatures and longer curing times might improve tensile strength.\n",
    "\n",
    "   c. **Data Preparation:**\n",
    "\n",
    "      - Organize the data into a pandas DataFrame with columns: `Polymer_Type`, `Curing_Time`, `Temperature`, `Tensile_Strength`.\n",
    "\n",
    "   d. **Perform ANOVA:**\n",
    "\n",
    "      - Use Python to perform an ANOVA to analyze the effects of the factors and their interactions on tensile strength.\n",
    "      - Use an appropriate model formula considering main effects and interactions.\n",
    "\n",
    "   e. **Interpret the Results:**\n",
    "\n",
    "      - Identify which factors significantly affect the tensile strength.\n",
    "      - Discuss any significant interaction effects.\n",
    "\n",
    "   f. **Visualization (Bonus):**\n",
    "\n",
    "      - Create main effects plots and interaction plots to visualize the results.\n",
    "\n",
    "3. **Questions:**\n",
    "\n",
    "   - Based on the analysis, what combination of factors would you recommend to maximize tensile strength?\n",
    "   - How do interaction effects influence your recommendations?"
   ]
  },
  {
   "cell_type": "code",
   "execution_count": null,
   "id": "74ebeb33-16f3-4b6e-806d-2ef35b5381f2",
   "metadata": {},
   "outputs": [],
   "source": [
    "  "
   ]
  },
  {
   "cell_type": "code",
   "execution_count": null,
   "id": "1ad28969-39a5-4fdb-b146-aa3e49f81815",
   "metadata": {},
   "outputs": [],
   "source": []
  },
  {
   "cell_type": "code",
   "execution_count": null,
   "id": "f99346da-ba9d-471d-bf31-61642b1b3f74",
   "metadata": {},
   "outputs": [],
   "source": []
  },
  {
   "cell_type": "code",
   "execution_count": null,
   "id": "6f2bfb0c-d57b-4c77-9eee-6a2c102fb7bb",
   "metadata": {},
   "outputs": [],
   "source": []
  },
  {
   "cell_type": "code",
   "execution_count": null,
   "id": "e78bb17b-e50a-41c2-b6ed-d323a3645d24",
   "metadata": {},
   "outputs": [],
   "source": []
  },
  {
   "cell_type": "markdown",
   "id": "699f1cf8-764a-4061-85e2-6b663a10bc11",
   "metadata": {},
   "source": [
    "### **4.2.2. Fractional Factorial Design**"
   ]
  },
  {
   "cell_type": "markdown",
   "id": "34e1eb6d-354c-422a-98b9-f4f3bf68ddb6",
   "metadata": {},
   "source": [
    "**Introduction:**\n",
    "\n",
    "A **Fractional Factorial Design** is an experimental design strategy used when it is impractical or too costly to conduct experiments with all possible combinations of factors (as in a full factorial design). Fractional factorial designs are a subset (fraction) of a full factorial design and are used to reduce the number of experimental runs while still providing valuable information about the most significant factors and interactions affecting the response.\n",
    "\n",
    "**Why Use Fractional Factorial Designs?**\n",
    "\n",
    "- **Resource Efficiency:** When the number of factors increases, the total number of runs in a full factorial design grows exponentially ($2^k$ for $k$ factors with two levels each). Fractional factorial designs reduce this number to a manageable size.\n",
    "- **Focus on Main Effects and Low-Order Interactions:** Researchers often assume that higher-order interactions (interactions involving many factors simultaneously) are negligible, allowing them to omit certain combinations without losing significant information.\n",
    "\n",
    "**Key Concepts:**\n",
    "\n",
    "1. **Resolution of Designs:**\n",
    "\n",
    "   - **Resolution III Design:** Confounds main effects with two-factor interactions.\n",
    "   - **Resolution IV Design:** Main effects are unconfounded with two-factor interactions, but two-factor interactions may be confounded with each other.\n",
    "   - **Resolution V Design:** Main effects and two-factor interactions are unconfounded with each other, but two-factor interactions may be confounded with three-factor interactions.\n",
    "\n",
    "2. **Aliasing and Confounding:**\n",
    "\n",
    "   - **Alias Structure:** In fractional factorial designs, certain effects are confounded (aliased) with each other, meaning they cannot be independently estimated from the experimental data.\n",
    "   - **Defining Relation:** Describes the aliasing pattern in the design, indicating which effects are confounded.\n",
    "\n",
    "3. **Design Generators:**\n",
    "\n",
    "   - **Generators:** Equations that determine which combinations of factor levels are included in the fractional design.\n",
    "   - **Defining Contrasts:** Used to construct the fraction of the full factorial design.\n",
    "\n",
    "**Additional Notes:**\n",
    "\n",
    "- **Resolution of the Design:**\n",
    "\n",
    "  - Ensure that the chosen fractional factorial design has appropriate resolution for the study objectives.\n",
    "\n",
    "- **Assumption Checking:**\n",
    "\n",
    "  - Check the normality of residuals and homogeneity of variance to validate the ANOVA model.\n",
    "\n",
    "- **Practical Implications:**\n",
    "\n",
    "  - Discuss how the results inform decisions in the context of the pharmaceutical development process.\n",
    "\n",
    "**Example Scenario:**\n",
    "\n",
    "Suppose we have 4 factors (A, B, C, D), each at 2 levels (coded as +1 and -1). A full factorial design would require $2^4 = 16$ runs. To reduce the number of runs, we can use a $2^{4-1}$ fractional factorial design, which only requires 8 runs."
   ]
  },
  {
   "cell_type": "markdown",
   "id": "d34a27db-50e5-48a0-b9c5-013ba2c2feba",
   "metadata": {},
   "source": [
    "**Python Implementation using pyDOE3:**\n",
    "\n",
    "We will use the `pyDOE3` library functions to create a fractional factorial design.\n",
    "\n",
    "**Import Required Libraries:**"
   ]
  },
  {
   "cell_type": "code",
   "execution_count": null,
   "id": "adaea424-e0bd-4f36-975c-2bf33036c3f6",
   "metadata": {},
   "outputs": [],
   "source": [
    "import numpy as np\n",
    "import pandas as pd\n",
    "from pyDOE3 import fracfact\n",
    "import statsmodels.api as sm\n",
    "from statsmodels.formula.api import ols\n",
    "import matplotlib.pyplot as plt"
   ]
  },
  {
   "cell_type": "markdown",
   "id": "a7508d1a-970b-4c8c-aa54-45a4432c9eb6",
   "metadata": {},
   "source": [
    "**Step-by-Step Guide:**\n",
    "\n",
    "**Step 1: Define the Fractional Factorial Design Generators**\n",
    "\n",
    "We will define the generators for the fractional factorial design.\n",
    "\n",
    "- For a $2^{4-1}$ fractional factorial design, we can set:\n",
    "\n",
    "  $D = A \\times B \\times C$\n",
    "\n",
    "This means that the levels of factor D are determined by the product of the levels of factors A, B, and C.\n",
    "\n",
    "**Step 2: Generate the Design Matrix**\n",
    "\n",
    "We can use the `fracfact` function to generate the design based on the generating relation."
   ]
  },
  {
   "cell_type": "code",
   "execution_count": null,
   "id": "217dbb2c-14aa-45d8-9d2d-6dfc46cf7ac0",
   "metadata": {},
   "outputs": [],
   "source": [
    "# Define the generator string\n",
    "generator = 'A B C ABC'  # Here, 'ABC' represents D = A * B * C\n",
    "\n",
    "# Generate the design\n",
    "design = fracfact(generator)\n",
    "\n",
    "print(\"Design Matrix:\")\n",
    "print(design)"
   ]
  },
  {
   "cell_type": "markdown",
   "id": "5de46b29-ec72-4026-9715-e7ef224b6b58",
   "metadata": {},
   "source": [
    "**Step 3: Create a DataFrame with Actual Factor Levels**\n",
    "\n",
    "We'll create a DataFrame for clarity and assign the levels to each factor."
   ]
  },
  {
   "cell_type": "code",
   "execution_count": null,
   "id": "596e6f28-456a-4809-8349-7c87b6acf121",
   "metadata": {},
   "outputs": [],
   "source": [
    "# Convert design matrix to pandas DataFrame\n",
    "df_design = pd.DataFrame(design, columns=['A', 'B', 'C', 'D'])\n",
    "\n",
    "# Display the design\n",
    "print(\"Fractional Factorial Design:\")\n",
    "print(df_design)"
   ]
  },
  {
   "cell_type": "markdown",
   "id": "ac1afd79-a30f-44ad-9759-eb47c2119a06",
   "metadata": {},
   "source": [
    "**Step 4: Map Levels to Actual Factor Values**\n",
    "\n",
    "Assuming that:\n",
    "\n",
    "- **Factor A:** Temperature (Low: -1, High: +1)\n",
    "- **Factor B:** Pressure (Low: -1, High: +1)\n",
    "- **Factor C:** Catalyst Concentration (Low: -1, High: +1)\n",
    "- **Factor D:** Stirring Speed (Low: -1, High: +1)\n",
    "\n",
    "We can map the coded levels to actual values."
   ]
  },
  {
   "cell_type": "code",
   "execution_count": null,
   "id": "a81d45cf-762c-4a88-b7e0-5e7aed54d1c0",
   "metadata": {},
   "outputs": [],
   "source": [
    "# Map coded levels to actual values\n",
    "level_mapping = {-1: 'Low', 1: 'High'}\n",
    "\n",
    "df_design['Temperature'] = df_design['A'].map(level_mapping)\n",
    "df_design['Pressure'] = df_design['B'].map(level_mapping)\n",
    "df_design['Catalyst'] = df_design['C'].map(level_mapping)\n",
    "df_design['Stirring'] = df_design['D'].map(level_mapping)\n",
    "\n",
    "# Reorder columns\n",
    "df_design = df_design[['Temperature', 'Pressure', 'Catalyst', 'Stirring']]\n",
    "\n",
    "print(\"Design with Actual Factor Levels:\")\n",
    "print(df_design)"
   ]
  },
  {
   "cell_type": "markdown",
   "id": "d31b21f3-faa2-4a9b-a495-0a19421ff650",
   "metadata": {},
   "source": [
    "**Step 5: Add Response Data**\n",
    "\n",
    "Assume we conduct the experiments and collect the response variable, e.g., the yield percentage of a chemical process."
   ]
  },
  {
   "cell_type": "code",
   "execution_count": null,
   "id": "c4aee23c-afd8-4ae4-b698-dd5c035e0038",
   "metadata": {},
   "outputs": [],
   "source": [
    "# Simulated response data\n",
    "np.random.seed(42)  # For reproducibility\n",
    "df_design['Yield'] = np.random.uniform(0, 100, size=len(df_design))\n",
    "\n",
    "print(\"Design with Response:\")\n",
    "print(df_design)"
   ]
  },
  {
   "cell_type": "markdown",
   "id": "69984f7f-ed38-4c34-b6ef-d4c16345eb9b",
   "metadata": {},
   "source": [
    "**Step 6: Analyze the Results Using Linear Regression**\n",
    "\n",
    "We can perform linear regression to analyze the effects of the factors on the response variable."
   ]
  },
  {
   "cell_type": "code",
   "execution_count": null,
   "id": "1e78bbd2-5c75-48e4-8221-125ec443d891",
   "metadata": {},
   "outputs": [],
   "source": [
    "# Convert factor levels to categorical variables\n",
    "df_design['Temperature'] = df_design['Temperature'].astype('category')\n",
    "df_design['Pressure'] = df_design['Pressure'].astype('category')\n",
    "df_design['Catalyst'] = df_design['Catalyst'].astype('category')\n",
    "df_design['Stirring'] = df_design['Stirring'].astype('category')\n",
    "\n",
    "# Build the formula for the model including main effects only\n",
    "formula = 'Yield ~ C(Temperature) + C(Pressure) + C(Catalyst) + C(Stirring)'\n",
    "\n",
    "# Fit the model\n",
    "model = ols(formula, data=df_design).fit()\n",
    "\n",
    "# Display the model summary\n",
    "model.summary()"
   ]
  },
  {
   "cell_type": "markdown",
   "id": "8ffb8782-99ed-44a2-a014-293fa2bfe7dd",
   "metadata": {},
   "source": [
    "**Step 7: Analyze the Results Using ANOVA**\n",
    "\n",
    "We will perform an ANOVA to analyze the main effects."
   ]
  },
  {
   "cell_type": "code",
   "execution_count": null,
   "id": "daea2475-d4dc-40ff-8ee1-bbe287ef99c8",
   "metadata": {},
   "outputs": [],
   "source": [
    "# Perform ANOVA\n",
    "anova_table = sm.stats.anova_lm(model, typ=2)\n",
    "\n",
    "print(\"ANOVA Results:\")\n",
    "print(anova_table)"
   ]
  },
  {
   "cell_type": "markdown",
   "id": "02292140-0795-4d3b-a8a0-9ff2d7042440",
   "metadata": {},
   "source": [
    "**Note:**\n",
    "\n",
    "In fractional factorial designs, due to confounding, we have to be cautious about interpreting the results. Some main effects may be confounded with interactions.\n",
    "\n",
    "**Interpreting the Results:**\n",
    "\n",
    "- **Sum Sq:** Sum of squares due to each factor.\n",
    "- **df:** Degrees of freedom.\n",
    "- **F:** F-statistic value.\n",
    "- **PR(>F):** P-value corresponding to the F-statistic.\n",
    "\n",
    "A significant p-value (typically less than 0.05) indicates that the factor has a statistically significant effect on the response variable."
   ]
  },
  {
   "cell_type": "markdown",
   "id": "f4e49192-654c-40be-b0d7-d8190cecba03",
   "metadata": {},
   "source": [
    "**Visualization:**\n",
    "\n",
    "We can create Pareto charts to visualize the effects of the factors.\n",
    "\n",
    "**Pareto Chart of Standardized Effects:**"
   ]
  },
  {
   "cell_type": "code",
   "execution_count": null,
   "id": "c6159ec3-4f70-47c9-8d44-299c1036f50b",
   "metadata": {},
   "outputs": [],
   "source": [
    "# Calculate effect estimates\n",
    "effects = model.params.iloc[1:]  # Exclude intercept\n",
    "abs_effects = effects.abs()\n",
    "effects_df = pd.DataFrame({'Effect': effects.index, 'Estimate': abs_effects.values})\n",
    "\n",
    "# Sort effects in descending order\n",
    "effects_df.sort_values(by=['Estimate'], ascending=False, inplace=True)\n",
    "\n",
    "# Plot Pareto chart\n",
    "plt.figure(figsize=(8,6))\n",
    "plt.bar(effects_df['Effect'], effects_df['Estimate'])\n",
    "plt.title('Pareto Chart of Standardized Effects')\n",
    "plt.xlabel('Effect')\n",
    "plt.ylabel('Absolute Estimate')\n",
    "plt.xticks(rotation=45)\n",
    "plt.tight_layout()\n",
    "plt.show()"
   ]
  },
  {
   "cell_type": "markdown",
   "id": "2fac65c8-a25e-47f1-a38f-fece6b65bace",
   "metadata": {},
   "source": [
    "**Example Summary:**\n",
    "\n",
    "In this example, we:\n",
    "\n",
    "1. **Defined the generators for the fractional factorial design.**\n",
    "2. **Generated the design matrix using `fracfact`.**\n",
    "3. **Mapped coded levels to actual factor levels.**\n",
    "4. **Simulated response data (yield).**\n",
    "5. **Performed ANOVA to analyze the main effects.**\n",
    "6. **Visualized the effects using a Pareto chart.**\n",
    "\n",
    "**Conclusion:**\n",
    "\n",
    "Fractional factorial designs offer an efficient way to study multiple factors with fewer runs than a full factorial design. However, due to confounding, careful planning and interpretation are necessary to ensure valid conclusions."
   ]
  },
  {
   "cell_type": "markdown",
   "id": "49169e59-6651-498d-ae38-78363939a072",
   "metadata": {},
   "source": [
    "<p style=\"background-color: lightgreen; text-align: center; font-size: 18px; color: red; padding: 5px; border-radius: 10px;\"><b>Exercise 14</b></p>\n",
    "\n",
    "**Exercise:** Fractional Factorial Design Analysis\n",
    "\n",
    "1. **Scenario:**\n",
    "\n",
    "   A pharmaceutical company is testing the effect of four factors on the effectiveness of a new drug:\n",
    "\n",
    "   - **Factor A:** Dosage Level (Low: -1, High: +1)\n",
    "   - **Factor B:** Release Rate (Slow: -1, Fast: +1)\n",
    "   - **Factor C:** Compound Purity (Low: -1, High: +1)\n",
    "   - **Factor D:** Additive Type (Type X: -1, Type Y: +1)\n",
    "\n",
    "   Conducting a full $2^4 = 16$ runs is too costly, so they decide to perform a $2^{4-1}$ fractional factorial design with 8 runs.\n",
    "\n",
    "2. **Tasks:**\n",
    "\n",
    "   a. **Design the Experiment:**\n",
    "\n",
    "      - Define suitable generators for the fractional factorial design.\n",
    "      - Generate the fractional factorial design matrix.\n",
    "      - Map the coded levels to actual factor levels.\n",
    "\n",
    "   b. **Simulate Response Data:**\n",
    "\n",
    "      - Assume you conducted the experiments and collected effectiveness scores (on a scale of 0 to 100).\n",
    "      - For simplicity, simulate the data considering that higher dosage and higher purity might improve effectiveness.\n",
    "\n",
    "   c. **Data Preparation:**\n",
    "\n",
    "      - Organize the data into a pandas DataFrame with columns: `Dosage`, `Release_Rate`, `Purity`, `Additive`, `Effectiveness`.\n",
    "\n",
    "   d. **Perform ANOVA:**\n",
    "\n",
    "      - Use Python to perform an ANOVA analyzing the main effects.\n",
    "      - Use an appropriate model formula considering main effects only.\n",
    "\n",
    "   e. **Interpret the Results:**\n",
    "\n",
    "      - Identify which factors significantly affect drug effectiveness.\n",
    "      - Discuss any limitations due to confounding of effects.\n",
    "\n",
    "   f. **Visualization (Bonus):**\n",
    "\n",
    "      - Create a Pareto chart of the standardized effects to visualize the importance of each factor.\n",
    "\n",
    "3. **Questions:**\n",
    "\n",
    "   - Based on the analysis, which factors would you prioritize for improving drug effectiveness?\n",
    "   - How does confounding in fractional factorial designs impact the interpretation of the results?\n",
    "\n",
    "**Guidelines:**\n",
    "\n",
    "- **Defining Generators:**\n",
    "\n",
    "  - Choose a generator such that $D = A \\times B \\times C$, or another suitable generator to create the fractional design.\n",
    "\n",
    "- **Simulating Data:**\n",
    "\n",
    "  - When simulating response data, introduce reasonable patterns reflecting expectations (e.g., higher dosage increases effectiveness).\n",
    "\n",
    "- **Confounding Awareness:**\n",
    "\n",
    "  - Be aware that in a $2^{4-1}$ design, main effects may be confounded with three-factor interactions.\n",
    "\n",
    "- **Performing ANOVA:**\n",
    "\n",
    "  - Use ANOVA to analyze the main effects while acknowledging confounding.\n",
    "\n",
    "- **Interpretation:**\n",
    "\n",
    "  - Take into account that some effects are aliased and cannot be independently estimated."
   ]
  },
  {
   "cell_type": "code",
   "execution_count": null,
   "id": "e2841ad7-d90e-475a-aaa5-3ef0883968b5",
   "metadata": {},
   "outputs": [],
   "source": []
  },
  {
   "cell_type": "code",
   "execution_count": null,
   "id": "a7c9bf69-097c-42c6-8f0f-119998276664",
   "metadata": {},
   "outputs": [],
   "source": []
  },
  {
   "cell_type": "code",
   "execution_count": null,
   "id": "b8386d93-ffac-4f40-b7d5-816315eb2af8",
   "metadata": {},
   "outputs": [],
   "source": []
  },
  {
   "cell_type": "code",
   "execution_count": null,
   "id": "104e384d-c037-4f9e-868f-6441fcac592b",
   "metadata": {},
   "outputs": [],
   "source": []
  },
  {
   "cell_type": "code",
   "execution_count": null,
   "id": "f7b5e878-4f4b-4a39-a197-56f18af2721e",
   "metadata": {},
   "outputs": [],
   "source": []
  },
  {
   "cell_type": "markdown",
   "id": "202d5490-b996-4c28-99af-22ee422bff8c",
   "metadata": {},
   "source": [
    "### **4.2.3. Plackett-Burman Design**"
   ]
  },
  {
   "cell_type": "markdown",
   "id": "f2c00704-7187-4c3c-8290-bcd4d838d34a",
   "metadata": {},
   "source": [
    "**Introduction:**\n",
    "\n",
    "The **Plackett-Burman Design** is a type of experimental design used for screening a large number of factors to identify the most influential ones on a response variable with a minimal number of experiments. It is particularly useful in the early stages of experimentation when many factors are under consideration, and the goal is to determine which factors have significant effects.\n",
    "\n",
    "**Key Characteristics:**\n",
    "\n",
    "- **Orthogonal Arrays:** Plackett-Burman designs are based on orthogonal arrays, ensuring that the estimates of the effects are uncorrelated.\n",
    "- **Two-Level Designs:** Each factor is tested at two levels, typically coded as -1 and +1.\n",
    "- **Efficient Screening:** Allows for the examination of up to $N - 1$ factors in $N$ runs, where $N$ is a multiple of 4 (e.g., 12, 20, 24).\n",
    "\n",
    "**Advantages:**\n",
    "\n",
    "- **Resource Efficiency:** Enables the study of many factors with relatively few experimental runs.\n",
    "- **Identification of Key Factors:** Helps in identifying the most significant factors affecting the response variable for further detailed study.\n",
    "\n",
    "**Disadvantages:**\n",
    "\n",
    "- **No Interaction Effects:** Plackett-Burman designs do not consider interaction effects between factors.\n",
    "- **Resolution III Designs:** Main effects may be confounded with two-factor interactions, making it important to assume that interaction effects are negligible.\n",
    "\n",
    "**When to Use:**\n",
    "\n",
    "- When the goal is to screen a large number of factors to identify the most significant ones.\n",
    "- In the preliminary phase of experimentation before conducting detailed analysis with more advanced designs.\n",
    "\n",
    "**Additional Notes:**\n",
    "\n",
    "- **Assumption of No Interactions:**\n",
    "\n",
    "  - Since Plackett-Burman designs do not account for interactions, assume that interaction effects are negligible when interpreting the results.\n",
    "\n",
    "- **Follow-Up Experiments:**\n",
    "\n",
    "  - Significant factors identified in the screening can be studied further using full factorial or fractional factorial designs to understand interactions and optimize the formulation.\n",
    "\n",
    "- **Resource Management:**\n",
    "\n",
    "  - Emphasize how the Plackett-Burman design helps efficiently utilize resources in the initial screening phase.\n",
    "\n",
    "---\n",
    "\n",
    "**Example Scenario:**\n",
    "\n",
    "Suppose a biotechnology company wants to screen 11 factors that could affect the yield of a fermentation process. Conducting a full factorial design would require $2^{11} = 2048$ runs, which is impractical. Instead, they can use a Plackett-Burman design with 12 runs to efficiently identify the most important factors.\n",
    "\n",
    "---\n",
    "\n",
    "**Python Implementation using pyDOE2:**\n",
    "\n",
    "We will use the `pyDOE2` library to generate a Plackett-Burman design. The `pyDOE2` library functions similarly to `pyDOE3`, and for this example, we will assume that `pyDOE3` has the same functions.\n",
    "\n",
    "**Import Required Libraries:**"
   ]
  },
  {
   "cell_type": "code",
   "execution_count": null,
   "id": "19a8efcd-c46c-4110-b11b-25ea87f30b51",
   "metadata": {},
   "outputs": [],
   "source": [
    "import numpy as np\n",
    "import pandas as pd\n",
    "from pyDOE3 import pbdesign\n",
    "import statsmodels.api as sm\n",
    "from statsmodels.formula.api import ols\n",
    "import matplotlib.pyplot as plt"
   ]
  },
  {
   "cell_type": "markdown",
   "id": "f3dd9dad-dfdd-43bf-b52d-5ab0d7f0e37e",
   "metadata": {},
   "source": [
    "**Step-by-Step Guide:**\n",
    "\n",
    "**Step 1: Generate the Plackett-Burman Design**\n",
    "\n",
    "We will generate a Plackett-Burman design for 11 factors."
   ]
  },
  {
   "cell_type": "code",
   "execution_count": null,
   "id": "01920169-88f6-4da8-ae46-a502a4c4dc4f",
   "metadata": {},
   "outputs": [],
   "source": [
    "# Number of factors\n",
    "num_factors = 5\n",
    "\n",
    "# Generate the Plackett-Burman design\n",
    "design = pbdesign(num_factors)\n",
    "\n",
    "print(\"Design Matrix Shape:\", design.shape)\n",
    "print(\"Design Matrix:\")\n",
    "print(design)"
   ]
  },
  {
   "cell_type": "markdown",
   "id": "fc497752-9bd0-41bb-a563-c40d081d08f4",
   "metadata": {},
   "source": [
    "**Note:**\n",
    "\n",
    "- The `pbdesign` function generates a design with $N$ runs, where $N$ is the next multiple of 4 greater than or equal to $num\\_factors + 1$. For 11 factors, $N = 12$.\n",
    "\n",
    "**Step 2: Create a DataFrame and Assign Factor Names**\n",
    "\n",
    "We will assign names to the factors for clarity."
   ]
  },
  {
   "cell_type": "code",
   "execution_count": null,
   "id": "eb2d866c-ea23-415a-8d32-780dee9d7874",
   "metadata": {},
   "outputs": [],
   "source": [
    "# Create a list of factor names\n",
    "factor_names = [f'Factor_{i+1}' for i in range(num_factors)]\n",
    "\n",
    "# Create a DataFrame with the design\n",
    "df_design = pd.DataFrame(design, columns=factor_names)\n",
    "\n",
    "print(\"Plackett-Burman Design:\")\n",
    "print(df_design)"
   ]
  },
  {
   "cell_type": "markdown",
   "id": "69895b6d-48f6-4744-ada1-4d5da87cc7ab",
   "metadata": {},
   "source": [
    "**Step 3: Add Response Data**\n",
    "\n",
    "Assume we conduct the experiments and collect the response variable, e.g., the yield percentage of the process."
   ]
  },
  {
   "cell_type": "code",
   "execution_count": null,
   "id": "ab9ccc28-56ab-4c49-8788-33bcdf373ddc",
   "metadata": {},
   "outputs": [],
   "source": [
    "# Simulated response data\n",
    "np.random.seed(42)  # For reproducibility\n",
    "df_design['Yield'] = np.random.uniform(0, 100, size=len(df_design))\n",
    "\n",
    "print(\"Design with Response:\")\n",
    "print(df_design)"
   ]
  },
  {
   "cell_type": "markdown",
   "id": "c943e02c-fa5e-4d45-96ad-5223d27db2be",
   "metadata": {},
   "source": [
    "**Step 4: Analyze the Results Using Linear Regression**\n",
    "\n",
    "We can perform linear regression to analyze the effects of the factors on the response variable."
   ]
  },
  {
   "cell_type": "code",
   "execution_count": null,
   "id": "9990bfa2-677c-4efa-adba-9cf6ad679d5b",
   "metadata": {},
   "outputs": [],
   "source": [
    "# Build the formula for the model including main effects only\n",
    "# The formula includes all factors\n",
    "formula = 'Yield ~ ' + ' + '.join(factor_names)\n",
    "\n",
    "# Fit the model\n",
    "model = ols(formula, data=df_design).fit()\n",
    "\n",
    "# Summary of the model\n",
    "print(\"Regression Results Summary:\")\n",
    "print(model.summary())"
   ]
  },
  {
   "cell_type": "markdown",
   "id": "8d058ea6-a31a-40b2-8e76-451721a41b0f",
   "metadata": {},
   "source": [
    "**Step 5: Interpret the Results**\n",
    "\n",
    "Identify the significant factors based on the p-values.\n",
    "\n",
    "- **Coefficients:** Estimates of the effects of each factor.\n",
    "- **P>|t| (P-values):** Probability that the coefficient is different from zero due to random chance. A lower p-value indicates a significant effect.\n",
    "\n",
    "**Note:**\n",
    "\n",
    "- Since Plackett-Burman designs are Resolution III designs, main effects are aliased with two-factor interactions. We interpret significant factors with caution, assuming that interaction effects are negligible."
   ]
  },
  {
   "cell_type": "markdown",
   "id": "380598e8-6d59-4b4d-8037-cc7d47972db4",
   "metadata": {},
   "source": [
    "**Visualization:**\n",
    "\n",
    "**Pareto Chart of Standardized Effects:**"
   ]
  },
  {
   "cell_type": "code",
   "execution_count": null,
   "id": "8627db9a-8bac-4c0d-b6dc-55b9c9cbf29b",
   "metadata": {},
   "outputs": [],
   "source": [
    "# Get the absolute values of the t-statistics\n",
    "t_values = model.tvalues.iloc[1:]  # Exclude intercept\n",
    "abs_t_values = t_values.abs()\n",
    "effects_df = pd.DataFrame({'Factor': factor_names, 't_value': abs_t_values.values})\n",
    "\n",
    "# Sort effects in descending order\n",
    "effects_df.sort_values(by='t_value', ascending=True, inplace=True)\n",
    "\n",
    "# Plot Pareto chart\n",
    "plt.figure(figsize=(8, 6))\n",
    "plt.barh(effects_df['Factor'], effects_df['t_value'])\n",
    "plt.title('Pareto Chart of Standardized Effects')\n",
    "plt.xlabel('Absolute t-value')\n",
    "plt.ylabel('Factors')\n",
    "plt.tight_layout()\n",
    "plt.show()"
   ]
  },
  {
   "cell_type": "markdown",
   "id": "af67545a-300d-4788-9b6b-a334db23554e",
   "metadata": {},
   "source": [
    "**Interpreting the Pareto Chart:**\n",
    "\n",
    "- Factors with larger absolute t-values have a greater effect on the response variable.\n",
    "- Identify and prioritize factors with the highest t-values for further investigation."
   ]
  },
  {
   "cell_type": "markdown",
   "id": "36710bb2-3572-4f87-a8f6-f729d51b5447",
   "metadata": {},
   "source": [
    "**Example Summary:**\n",
    "\n",
    "In this example, we:\n",
    "\n",
    "1. **Generated a Plackett-Burman design for 11 factors using `pyDOE3`.**\n",
    "2. **Created a DataFrame and assigned factor names.**\n",
    "3. **Simulated response data (yield).**\n",
    "4. **Performed linear regression to analyze the main effects of the factors.**\n",
    "5. **Visualized the effects using a Pareto chart.**\n",
    "\n",
    "**Conclusion:**\n",
    "\n",
    "The Plackett-Burman design allows us to efficiently screen a large number of factors with a relatively small number of experiments. By identifying the most significant factors, researchers can focus resources on studying these factors in more detail using higher-resolution designs."
   ]
  },
  {
   "cell_type": "markdown",
   "id": "e3b4a724-4a1f-4f90-a5b4-ab41eb648127",
   "metadata": {},
   "source": [
    "<p style=\"background-color: lightgreen; text-align: center; font-size: 18px; color: red; padding: 5px; border-radius: 10px;\"><b>Exercise 3</b></p>\n",
    "\n",
    "**Exercise:** Plackett-Burman Design Analysis\n",
    "\n",
    "1. **Scenario:**\n",
    "\n",
    "   A food scientist wants to identify which ingredients significantly affect the taste score of a new snack product. There are 6 ingredients (factors) under consideration:\n",
    "\n",
    "   - **Factor 1:** Sugar Level (Low: -1, High: +1)\n",
    "   - **Factor 2:** Salt Level (Low: -1, High: +1)\n",
    "   - **Factor 3:** Cooking Time (Short: -1, Long: +1)\n",
    "   - **Factor 4:** Temperature (Low: -1, High: +1)\n",
    "   - **Factor 5:** Additive A (Absent: -1, Present: +1)\n",
    "   - **Factor 6:** Additive B (Absent: -1, Present: +1)\n",
    "\n",
    "   Conducting a full factorial design is impractical, so they decide to use a Plackett-Burman design.\n",
    "\n",
    "2. **Tasks:**\n",
    "\n",
    "   a. **Design the Experiment:**\n",
    "\n",
    "      - Generate the Plackett-Burman design for the 6 factors.\n",
    "      - Assign the actual factor names to the design.\n",
    "\n",
    "   b. **Simulate Response Data:**\n",
    "\n",
    "      - Assume you conducted the experiments and collected taste scores (on a scale of 1 to 10).\n",
    "      - Simulate the data considering that sugar level and fat type might significantly affect taste.\n",
    "\n",
    "   c. **Data Preparation:**\n",
    "\n",
    "      - Organize the data into a pandas DataFrame with columns for each factor and the taste score.\n",
    "\n",
    "   d. **Perform Analysis:**\n",
    "\n",
    "      - Use linear regression to analyze the main effects of the factors.\n",
    "      - Identify significant factors based on p-values.\n",
    "\n",
    "   e. **Visualization:**\n",
    "\n",
    "      - Create a Pareto chart of the standardized effects to visualize the importance of each factor.\n",
    "\n",
    "3. **Questions:**\n",
    "\n",
    "   - Which ingredients significantly affect the taste score?\n",
    "   - Based on the results, which factors would you recommend for further detailed study?\n",
    "\n",
    "**Guidelines:**\n",
    "\n",
    "- **Generating the Design:**\n",
    "\n",
    "  - Use the `pbdesign` function to create the experimental design for 6 factors.\n",
    "  - Note that the number of runs will be the next multiple of 4 greater than 6 (i.e., 8 runs).\n",
    "\n",
    "- **Simulating Data:**\n",
    "\n",
    "  - When simulating taste scores, introduce patterns where higher sugar levels and fat type B might improve taste.\n",
    "\n",
    "- **Analyzing Results:**\n",
    "\n",
    "  - Interpret the regression coefficients and p-values to determine the significance of factors.\n",
    "  - Remember that main effects may be confounded with two-factor interactions.\n",
    "\n",
    "- **Visualizing Effects:**\n",
    "\n",
    "  - Use the absolute values of t-statistics or coefficients to create the Pareto chart."
   ]
  },
  {
   "cell_type": "code",
   "execution_count": null,
   "id": "5d23e7dc-1787-4ba3-a610-63c8cc359b8a",
   "metadata": {},
   "outputs": [],
   "source": []
  },
  {
   "cell_type": "code",
   "execution_count": null,
   "id": "c9d53967-6f5a-44f4-aa5a-a21072b8afec",
   "metadata": {},
   "outputs": [],
   "source": []
  },
  {
   "cell_type": "code",
   "execution_count": null,
   "id": "371bde1a-5c1e-42eb-95d4-7a2da67fa1ca",
   "metadata": {},
   "outputs": [],
   "source": []
  },
  {
   "cell_type": "code",
   "execution_count": null,
   "id": "e84888b3-5f2f-4492-8e6e-5233b3e22c87",
   "metadata": {},
   "outputs": [],
   "source": []
  },
  {
   "cell_type": "code",
   "execution_count": null,
   "id": "e9d78160-c846-45a9-b5d8-9716899ceeee",
   "metadata": {},
   "outputs": [],
   "source": []
  },
  {
   "cell_type": "markdown",
   "id": "e8fb2aef-4974-4099-8d25-27955b466f52",
   "metadata": {},
   "source": [
    "## **4.3. Response Surface Methodology**"
   ]
  },
  {
   "cell_type": "markdown",
   "id": "d6f3ebfd-92d9-4fea-9e37-bb5e7cf9263a",
   "metadata": {},
   "source": [
    "**Introduction:** \n",
    "\n",
    "**Response Surface Methodology (RSM)** is a collection of statistical and mathematical techniques used for modeling and analyzing problems in which a response of interest is influenced by several variables. The primary goal of RSM is to optimize this response, which involves finding the best conditions or settings for the factors involved. RSM is especially useful when the relationship between the response variable and the factors is not well understood and can be improved by fitting a mathematical model.\n",
    "\n",
    "**Key Concepts:**\n",
    "\n",
    "1. **Response Variable:**\n",
    "   - The **response variable** is the outcome of interest that is being influenced by the predictor variables (factors).\n",
    "\n",
    "2. **Factors:**\n",
    "   - **Factors** are independent variables that are controlled in the experiment. They can be continuous or categorical.\n",
    "\n",
    "3. **Sequential Experimentation:**\n",
    "   - RSM often involves a series of experiments where responses are measured at different factor levels, allowing for the development of a surface model to predict responses under various conditions.\n",
    "\n",
    "4. **Polynomial Models:**\n",
    "   - RSM typically utilizes polynomial regression models (usually second-order) to fit the response surface. These models can capture both linear and quadratic effects as well as interactions.\n",
    "\n",
    "5. **Optimal Conditions:**\n",
    "   - The methodology aims to identify the optimal levels of factors that maximize or minimize the response variable.\n",
    "\n",
    "6. **Central Composite Design (CCD):**\n",
    "   - A popular experimental design in RSM that allows for the estimation of curvature in the response surface by adding axial points (star points) to a factorial or fractional factorial design.\n",
    "\n",
    "**Advantages of RSM:**\n",
    "\n",
    "- **Efficiency:** RSM allows for the systematic evaluation of multiple factors and their interactions with fewer experiments compared to full factorial designs.\n",
    "- **Optimization:** It provides a framework for optimizing complex processes.\n",
    "- **Graphical Visualization:** The use of response surfaces and contour plots facilitates interpretation of the results.\n",
    "\n",
    "**Disadvantages:**\n",
    "\n",
    "- **Model Specifications:** Incorrect model assumptions can lead to misleading conclusions.\n",
    "- **Limited to Quadratic Surfaces:** RSM typically assumes a quadratic relationship, which may not always be valid."
   ]
  },
  {
   "cell_type": "markdown",
   "id": "1861cb9f-6ec0-49d2-a2a3-46d2e528904b",
   "metadata": {},
   "source": [
    "### **4.3.1. Central Composite Design (CCD)**"
   ]
  },
  {
   "cell_type": "markdown",
   "id": "4d50c8c7-e083-4bbe-aa82-14a1ca741f1d",
   "metadata": {
    "jp-MarkdownHeadingCollapsed": true
   },
   "source": [
    "**Introduction:**\n",
    "\n",
    "A **Central Composite Design (CCD)** is a specific type of experimental design used in Response Surface Methodology that allows estimation of second-order polynomial models. It consists of a full or fractional factorial or fractional factorial design augmented with a center point and axial points (star points). CCD is useful when modeling complex relationships between factors and responses.\n",
    "\n",
    "**Key Features of CCD:**\n",
    "\n",
    "1. **Components:**\n",
    "   - Two-level factorial or fractional factorial design.\n",
    "   - Center points to allow estimation of experimental error and detect curvature.\n",
    "   - Axial (star) points that are placed at a distance from the center point, facilitating a quadratic approximation of the response surface.\n",
    "\n",
    "2. **Design Efficiency:**\n",
    "   - CCD is efficient in exploring the response surface with a moderate number of runs, allowing a deeper understanding of the system.\n",
    "\n",
    "3. **Flexibility:**\n",
    "   - Adequate for various response surfaces, even if the underlying relationship is not purely quadratic.\n",
    "\n",
    "**Visualization of Full Factorial Design:**\n",
    "\n",
    "You can visualize CCD using `plotly`"
   ]
  },
  {
   "cell_type": "code",
   "execution_count": null,
   "id": "b59cb1ac-de69-4ebb-a2c0-7592ee8bb944",
   "metadata": {},
   "outputs": [],
   "source": [
    "import numpy as np\n",
    "import pandas as pd\n",
    "from pyDOE3 import ccdesign\n",
    "import plotly.express as px\n",
    "\n",
    "# Define the number of factors (e.g., Temperature, Pressure)\n",
    "num_factors = 3  # Adjust as needed\n",
    "\n",
    "# Generate a Central Composite Design\n",
    "ccd_design = ccdesign(num_factors, center=(1, 1), face='circumscribed')\n",
    "\n",
    "# Create a DataFrame for the design\n",
    "df_ccd = pd.DataFrame(ccd_design, columns=['Factor 1', 'Factor 2', 'Factor 3'])\n",
    "\n",
    "# Adjust levels from 0 and 1 to actual levels (-1 and 1)\n",
    "df_ccd = (df_ccd * 2) - 1\n",
    "\n",
    "# Create the 3D interactive scatter plot\n",
    "fig_ccd = px.scatter_3d(\n",
    "    df_ccd,\n",
    "    x='Factor 1',\n",
    "    y='Factor 2',\n",
    "    z='Factor 3',\n",
    "    title='3D Scatter Plot of Central Composite Design Points',\n",
    "    labels={'Factor 1': 'Factor 1', 'Factor 2': 'Factor 2', 'Factor 3': 'Factor 3'},\n",
    "    width=700,\n",
    "    height=500\n",
    ")\n",
    "\n",
    "# Customize the marker appearance\n",
    "fig_ccd.update_traces(marker=dict(size=5))\n",
    "\n",
    "# Show the plot\n",
    "fig_ccd.show()"
   ]
  },
  {
   "cell_type": "markdown",
   "id": "376c3a7a-1734-47e8-8715-cb94de913883",
   "metadata": {},
   "source": [
    "---\n",
    "\n",
    "**Example Scenario:**\n",
    "\n",
    "Suppose a chemical engineer wants to optimize the yield of a reaction based on temperature and pressure. They will use a Central Composite Design to explore the effect of these factors.\n",
    "\n",
    "**Using PyDOE3 for CCD:**\n",
    "\n",
    "To implement a CCD in Python, we can use the `PyDOE3` library. The following steps demonstrate how to create and analyze a CCD using Python."
   ]
  },
  {
   "cell_type": "markdown",
   "id": "7f755a29-56af-43de-bb4b-c9984f9efb86",
   "metadata": {},
   "source": [
    "**Import Required Libraries:**"
   ]
  },
  {
   "cell_type": "code",
   "execution_count": null,
   "id": "b91460bd-fcd2-4de1-a589-ce1327c5045a",
   "metadata": {},
   "outputs": [],
   "source": [
    "import numpy as np\n",
    "import pandas as pd\n",
    "from pyDOE3 import ccdesign\n",
    "import plotly.graph_objects as go"
   ]
  },
  {
   "cell_type": "markdown",
   "id": "67f215ac-0764-40a5-b923-6f14bd0cd73a",
   "metadata": {},
   "source": [
    "**Step-by-Step Guide:**\n",
    "\n",
    "**Step 1: Generate the Plackett-Burman Design**\n",
    "\n",
    "We will generate a CCD with 2 factors: Temperature and Pressure."
   ]
  },
  {
   "cell_type": "code",
   "execution_count": null,
   "id": "5ef3fc66-28e5-4e05-9443-c279b346faab",
   "metadata": {},
   "outputs": [],
   "source": [
    "# Define the number of factors (Temperature and Pressure)\n",
    "num_factors = 2\n",
    "\n",
    "# Generate a Central Composite Design\n",
    "design = ccdesign(num_factors, center=(3, 0), face='circumscribed')"
   ]
  },
  {
   "cell_type": "code",
   "execution_count": null,
   "id": "4ac8c860-a1eb-465e-bbbe-87e2f386333c",
   "metadata": {},
   "outputs": [],
   "source": [
    "# Visualization of the response surface using plotly\n",
    "fig = px.scatter_3d(df, x='Temperature', y='Pressure', z='Yield',\n",
    "                     title='Response Surface from Central Composite Design',\n",
    "                     labels={'Temperature': 'Temperature (°C)', 'Pressure': 'Pressure (psi)', 'Yield': 'Yield (%)'})\n",
    "\n",
    "# Show plot\n",
    "fig.show()"
   ]
  },
  {
   "cell_type": "markdown",
   "id": "15533fe3-b73d-4dd2-8669-9b166b7d01e3",
   "metadata": {},
   "source": [
    "**Step 2: Create a DataFrame and Assign Factor Names**\n",
    "\n",
    "We will assign names to the factors for clarity."
   ]
  },
  {
   "cell_type": "code",
   "execution_count": null,
   "id": "10a3bb6e-1d54-4181-9f4c-a88f156c8fb6",
   "metadata": {},
   "outputs": [],
   "source": [
    "# Create a DataFrame for the design\n",
    "df = pd.DataFrame(design, columns=['Temperature', 'Pressure'])\n",
    "\n",
    "# Display the design matrix\n",
    "print(\"Central Composite Design Matrix:\")\n",
    "print(df)"
   ]
  },
  {
   "cell_type": "markdown",
   "id": "52abfc49-9dde-4ab7-b237-8fd6913309fd",
   "metadata": {},
   "source": [
    "**Step 3: Add Response Data**\n",
    "\n",
    "Assume we conduct the experiments and collect the response variable, e.g., the yield percentage of the process."
   ]
  },
  {
   "cell_type": "code",
   "execution_count": null,
   "id": "6d980b9c-21dc-4d70-88e5-bbb04de1ffae",
   "metadata": {},
   "outputs": [],
   "source": [
    "# Add simulated response data for demonstration\n",
    "np.random.seed(42)\n",
    "df['Yield'] = np.random.randint(0, 100, len(df))\n",
    "print(df)"
   ]
  },
  {
   "cell_type": "markdown",
   "id": "90103589-9471-48a2-82de-efc028d922a4",
   "metadata": {},
   "source": [
    "**Step 4: Analyze the Results Using Linear Regression**\n",
    "\n",
    "To analyze the results obtained from the Central Composite Design, we can perform linear regression. The procedure includes fitting a quadratic polynomial regression model to the data:"
   ]
  },
  {
   "cell_type": "code",
   "execution_count": null,
   "id": "8b0ec9ec-8f73-4ae9-82f1-d75b972b8e3e",
   "metadata": {},
   "outputs": [],
   "source": [
    "# Import regression libraries\n",
    "import statsmodels.api as sm\n",
    "from statsmodels.formula.api import ols\n",
    "\n",
    "# Fit a polynomial model\n",
    "formula = 'Yield ~ Temperature + Pressure + I(Temperature**2) + I(Pressure**2) + Temperature:Pressure'\n",
    "model = ols(formula, data=df).fit()\n",
    "\n",
    "# Display the model summary\n",
    "print(\"Linear Regression Results Summary:\")\n",
    "print(model.summary())"
   ]
  },
  {
   "cell_type": "markdown",
   "id": "7e0ffe2f-53ab-4687-9967-032d9893a6ae",
   "metadata": {},
   "source": [
    "**Step 5: Interpret the Results**\n",
    "\n",
    "After fitting the regression model, it's crucial to interpret the results effectively. Key components to consider include:\n",
    "\n",
    "- **Coefficients:**\n",
    "  - The coefficients indicate the effect of each factor on the response variable. Significant coefficients (based on p-values) suggest a strong relationship with the response.\n",
    "\n",
    "- **P-values:**\n",
    "  - A common threshold for significance is p < 0.05. Coefficients with p-values below this threshold indicate that the respective factors significantly influence the yield.\n",
    "\n",
    "- **Goodness-of-Fit:**\n",
    "  - The R-squared value in the summary provides an indication of how well the model fits the data. Generally, a higher R-squared value indicates a better fit.\n",
    "\n",
    "For example, consider the following results summary:\n",
    "- If the coefficient for `Temperature` is positive and significant, it suggests that increasing temperature enhances yield.\n",
    "- If the interaction term `Temperature:Pressure` is significant, it indicates that the effect of temperature on yield may depend on the level of pressure."
   ]
  },
  {
   "cell_type": "markdown",
   "id": "c14e9837-4d16-428d-9191-438f5c5b545e",
   "metadata": {},
   "source": [
    "**Visualization:**\n",
    "\n",
    "To visualize the response surface generated by the fitted model, we can create a 3D plot showing how the predicted yield varies with changes in both temperature and pressure."
   ]
  },
  {
   "cell_type": "code",
   "execution_count": null,
   "id": "0817914f-ab61-42b1-a897-8ae43b6d044b",
   "metadata": {},
   "outputs": [],
   "source": [
    "# Create a grid for the surface plot\n",
    "temp_range = np.linspace(df['Temperature'].min(), df['Temperature'].max(), 100)\n",
    "press_range = np.linspace(df['Pressure'].min(), df['Pressure'].max(), 100)\n",
    "temp_grid, press_grid = np.meshgrid(temp_range, press_range)\n",
    "\n",
    "# Predict yield over the grid\n",
    "predicted_yield = model.predict(exog=dict(Temperature=temp_grid.ravel(), Pressure=press_grid.ravel()))\n",
    "predicted_yield = predicted_yield.values.reshape(temp_grid.shape)\n",
    "\n",
    "# Visualization of Prediction\n",
    "fig_surface = go.Figure(go.Surface(x=temp_grid, y=press_grid, z=predicted_yield))\n",
    "\n",
    "# Show surface plot\n",
    "fig_surface.show()"
   ]
  },
  {
   "cell_type": "markdown",
   "id": "61ddde97-6257-4a0d-9c91-62afa897abb4",
   "metadata": {},
   "source": [
    "<p style=\"background-color: lightgreen; text-align: center; font-size: 18px; color: red; padding: 5px; border-radius: 10px;\"><b>Exercise 4</b></p>\n",
    "\n",
    "**Scenario:**\n",
    "\n",
    "A food scientist is experimenting to determine the optimal levels of sugar and fat in a new snack. The factors they will evaluate are:\n",
    "\n",
    "- **Factor A:** Sugar Level (Low: -1, High: +1)\n",
    "- **Factor B:** Fat Level (Low: -1, High: +1)\n",
    "\n",
    "They want to conduct a CCD to optimize the taste response.\n",
    "\n",
    "**Tasks:**\n",
    "\n",
    "a. **Design the Experiment:**\n",
    "   - Use a Central Composite Design to create the experimental runs.\n",
    "   - List all the treatment combinations.\n",
    "\n",
    "b. **Simulate Response Data:**\n",
    "   - Assume you run the experiments and collect taste test scores (1-10 scale).\n",
    "   - Simulate the data, taking higher levels of sugar and fat to potentially enhance taste.\n",
    "\n",
    "c. **Data Preparation:**\n",
    "   - Organize the data into a pandas DataFrame with columns: `Sugar_Level`, `Fat_Level`, `Taste_Score`.\n",
    "\n",
    "d. **Perform Analysis:**\n",
    "   - Use a polynomial model to analyze the effects of sugar and fat on the taste score.\n",
    "\n",
    "e. **Visualization (Bonus):**\n",
    "   - Create a 3D response surface plot to visualize the effects of sugar and fat levels on taste."
   ]
  },
  {
   "cell_type": "code",
   "execution_count": null,
   "id": "1842222a-61bc-4cec-97bb-61a52e65aa65",
   "metadata": {},
   "outputs": [],
   "source": []
  },
  {
   "cell_type": "code",
   "execution_count": null,
   "id": "22b2619d-559f-4bc2-adb3-d0c16a02c7ef",
   "metadata": {},
   "outputs": [],
   "source": []
  },
  {
   "cell_type": "code",
   "execution_count": null,
   "id": "7d125c94-61e5-499c-86ac-18218f966871",
   "metadata": {},
   "outputs": [],
   "source": []
  },
  {
   "cell_type": "code",
   "execution_count": null,
   "id": "fb2ec91f-6ae7-4ed2-881c-b36576247608",
   "metadata": {},
   "outputs": [],
   "source": []
  },
  {
   "cell_type": "code",
   "execution_count": null,
   "id": "41a722ea-6f5a-40f9-ab5d-bffbd1e10db1",
   "metadata": {},
   "outputs": [],
   "source": []
  },
  {
   "cell_type": "markdown",
   "id": "3e17b002-b87f-43fd-8955-69ab00309e1a",
   "metadata": {},
   "source": [
    "### **4.3.2. Box-Behnken Design**"
   ]
  },
  {
   "cell_type": "markdown",
   "id": "ca9c55f6-160a-43c6-9a81-90c2c34802e0",
   "metadata": {},
   "source": [
    "**Introduction:**\n",
    "\n",
    "The **Box-Behnken Design** is a response surface methodology that is particularly useful for constructing second-order (quadratic) models without requiring a full factorial design. This design is more efficient than full factorial by using fewer experimental runs, making it an excellent choice when the number of factors is moderate and aims to identify optimal responses. The Box-Behnken design is characterized by its use of a three-level design where the levels of the factors are set at low, medium, and high points.\n",
    "\n",
    "**Key Features of Box-Behnken Design:**\n",
    "\n",
    "1. **Three-Level Factors:**\n",
    "   - Each factor is studied at three levels (high, medium, low). The design does not include a full factorial of combinations but rather a balanced set of combinations to determine curvature.\n",
    "\n",
    "2. **Efficient Design:**\n",
    "   - With $k$ factors, the Box-Behnken design requires $k(k-1) + 2$ experimental runs, where $k$ is the number of factors. This makes it suitable for situations where fewer experiments are needed.\n",
    "\n",
    "3. **No Extreme Combinations:**\n",
    "   - Unlike some designs, Box-Behnken does not require testing the extreme combinations (i.e., all factors at high or low simultaneously), reducing the experimental workload while still capturing essential response behavior.\n",
    "  \n",
    "\n",
    "**Visualization of Full Factorial Design:**\n",
    "\n",
    "You can visualize CCD using `plotly`"
   ]
  },
  {
   "cell_type": "code",
   "execution_count": null,
   "id": "9dfd36f6-1622-47ec-91bc-f0ba1a07f007",
   "metadata": {},
   "outputs": [],
   "source": [
    "import numpy as np\n",
    "import pandas as pd\n",
    "from pyDOE3 import bbdesign\n",
    "import plotly.express as px\n",
    "\n",
    "# Define the number of factors (e.g., Sugar Content, Salt Level, Baking Time)\n",
    "num_factors = 3  # Adjust as needed\n",
    "\n",
    "# Generate a Box-Behnken Design\n",
    "bbd_design = bbdesign(num_factors)\n",
    "\n",
    "# Create a DataFrame for the design\n",
    "df_bbd = pd.DataFrame(bbd_design, columns=['Factor 1', 'Factor 2', 'Factor 3'])\n",
    "\n",
    "# Adjust levels from 0 and 1 to actual levels (-1 and 1)\n",
    "df_bbd = (df_bbd * 2) - 1\n",
    "\n",
    "# Create the 3D interactive scatter plot\n",
    "fig_bbd = px.scatter_3d(\n",
    "    df_bbd,\n",
    "    x='Factor 1',\n",
    "    y='Factor 2',\n",
    "    z='Factor 3',\n",
    "    title='3D Scatter Plot of Box-Behnken Design Points',\n",
    "    labels={'Factor 1': 'Factor 1', 'Factor 2': 'Factor 2', 'Factor 3': 'Factor 3'},\n",
    "    width=700,\n",
    "    height=500\n",
    ")\n",
    "\n",
    "# Customize the marker appearance\n",
    "fig_bbd.update_traces(marker=dict(size=5))\n",
    "\n",
    "# Show the plot\n",
    "fig_bbd.show()"
   ]
  },
  {
   "cell_type": "markdown",
   "id": "121bba4d-68df-4a6e-81fc-d5589414c034",
   "metadata": {},
   "source": [
    "---\n",
    "\n",
    "**Example Scenario:**\n",
    "\n",
    "Assume a researcher is studying the effect of three factors on the yield of a fermentation process. The factors are:\n",
    "\n",
    "- **Factor A:** Temperature (°C)\n",
    "- **Factor B:** pH level\n",
    "- **Factor C:** Agitation Speed (rpm)\n",
    "\n",
    "The researcher intends to use a Box-Behnken design to optimize yield.\n",
    "\n",
    "**Using PyDOE3 for Box-Behnken Design:**\n",
    "\n",
    "To implement a Box-Behnken design in Python using the `PyDOE3` library, we follow these steps:"
   ]
  },
  {
   "cell_type": "code",
   "execution_count": null,
   "id": "8b49752a-a413-41ec-ba1e-879913a62185",
   "metadata": {},
   "outputs": [],
   "source": [
    "# Import necessary libraries\n",
    "import numpy as np\n",
    "import pandas as pd\n",
    "from pyDOE3 import bbdesign\n",
    "import statsmodels.api as sm\n",
    "from statsmodels.formula.api import ols\n",
    "import plotly.graph_objects as go"
   ]
  },
  {
   "cell_type": "markdown",
   "id": "f7e7dbed-6c54-4092-87b4-b3b5e65dab4c",
   "metadata": {},
   "source": [
    "**Step-by-Step Guide:**\n",
    "\n",
    "**Step 1: Generate the Box-Behnken Design**\n",
    "\n",
    "We will generate a BBD with 2 factors: Temperature, pH, Agitation Speed."
   ]
  },
  {
   "cell_type": "code",
   "execution_count": null,
   "id": "9e64f3f8-ba30-456b-a5bd-c846de74c50b",
   "metadata": {},
   "outputs": [],
   "source": [
    "# Define the number of factors (e.g., Temperature, pH, Agitation Speed)\n",
    "num_factors = 3\n",
    "\n",
    "# Generate a Box-Behnken Design\n",
    "design = bbdesign(num_factors)"
   ]
  },
  {
   "cell_type": "markdown",
   "id": "4251357a-ba3f-4947-8a73-9929da4fb9ba",
   "metadata": {},
   "source": [
    "**Step 2: Create a DataFrame and Assign Factor Names**\n",
    "\n",
    "We will assign names to the factors for clarity."
   ]
  },
  {
   "cell_type": "code",
   "execution_count": null,
   "id": "ac5a067b-4814-4072-bc74-a0a96f35e2de",
   "metadata": {},
   "outputs": [],
   "source": [
    "# Create a DataFrame for the design\n",
    "df = pd.DataFrame(design, columns=['Temperature', 'pH', 'AgitationSpeed'])\n",
    "\n",
    "# Display the design matrix\n",
    "print(\"Box-Behnken Design Matrix:\")\n",
    "print(df)"
   ]
  },
  {
   "cell_type": "markdown",
   "id": "48baacaa-d3c1-4e9d-b987-a997461de66a",
   "metadata": {},
   "source": [
    "**Step 3: Add Response Data**\n",
    "\n",
    "Assume we conduct the experiments and collect the response variable, e.g., the yield percentage of the process."
   ]
  },
  {
   "cell_type": "code",
   "execution_count": null,
   "id": "454b60b0-b050-4552-b2f9-7be27fc57bd2",
   "metadata": {},
   "outputs": [],
   "source": [
    "np.random.seed(42)\n",
    "df['Yield'] = np.random.randint(0, 100, len(df))\n",
    "print(df)"
   ]
  },
  {
   "cell_type": "markdown",
   "id": "970a8d07-9774-408f-b709-5ba25db1364c",
   "metadata": {},
   "source": [
    "**Step 4: Analyze the Results Using Linear Regression**\n",
    "\n",
    "To analyze the results obtained from the Box-Behnken design, we perform a linear regression, fitting a quadratic polynomial model to the data:"
   ]
  },
  {
   "cell_type": "code",
   "execution_count": null,
   "id": "afb31e14-48f9-48b0-ae7b-4b90f8ec87b6",
   "metadata": {},
   "outputs": [],
   "source": [
    "# Fit a polynomial model\n",
    "formula = 'Yield ~ Temperature + pH + AgitationSpeed + I(Temperature**2) + I(pH**2) + I(AgitationSpeed**2) + Temperature:pH + Temperature:AgitationSpeed + pH:AgitationSpeed'\n",
    "model = ols(formula, data=df).fit()\n",
    "\n",
    "# Display the model summary\n",
    "print(\"Linear Regression Results Summary:\")\n",
    "print(model.summary())"
   ]
  },
  {
   "cell_type": "markdown",
   "id": "c1fc8e27-f833-4b81-94d3-feaea2485022",
   "metadata": {},
   "source": [
    "**Step 5: Interpret the Results**\n",
    "\n",
    "After fitting the regression model, it is essential to interpret the results. Consider the following key elements:\n",
    "\n",
    "- **Coefficients:**\n",
    "  - Each coefficient indicates the effect of the corresponding factor on the response variable. A positive coefficient for `Temperature` suggests that increasing the temperature would improve yield.\n",
    "\n",
    "- **P-values:**\n",
    "  - Check the significance of each coefficient using p-values. A p-value less than 0.05 usually indicates that the factor has a significant influence on the yield.\n",
    "\n",
    "- **Interactions:**\n",
    "  - Interaction terms (e.g., `Temperature:pH`) help in understanding if the effect of one factor depends on the level of another factor.\n",
    "\n",
    "- **R-squared Value:**\n",
    "  - The R-squared value indicates how well the model explains the variability in the response variable. Adjusted R-squared values should also be considered to account for the number of predictors in the model.\n",
    "\n",
    "For interpretation:\n",
    "\n",
    "- If `Temperature` and its square term both have significant p-values and a substantial effect, the researcher can infer that yield significantly varies with temperature."
   ]
  },
  {
   "cell_type": "code",
   "execution_count": null,
   "id": "b63f47c8-5be1-4342-a427-cd82b1019823",
   "metadata": {},
   "outputs": [],
   "source": []
  }
 ],
 "metadata": {
  "kernelspec": {
   "display_name": "Python 3 (ipykernel)",
   "language": "python",
   "name": "python3"
  },
  "language_info": {
   "codemirror_mode": {
    "name": "ipython",
    "version": 3
   },
   "file_extension": ".py",
   "mimetype": "text/x-python",
   "name": "python",
   "nbconvert_exporter": "python",
   "pygments_lexer": "ipython3",
   "version": "3.12.3"
  }
 },
 "nbformat": 4,
 "nbformat_minor": 5
}
