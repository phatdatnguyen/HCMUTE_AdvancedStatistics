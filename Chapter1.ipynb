{
 "cells": [
  {
   "cell_type": "markdown",
   "id": "ce2d6e30",
   "metadata": {},
   "source": [
    "# **Chapter 1. Introduction to Python Programming Language**"
   ]
  },
  {
   "cell_type": "markdown",
   "id": "0d09f3a0",
   "metadata": {},
   "source": [
    "## **1.1. Introduction to Python and Jupyter Notebooks**"
   ]
  },
  {
   "cell_type": "markdown",
   "id": "5c1bcbc6",
   "metadata": {},
   "source": [
    "Python is a versatile and widely-used programming language that is well-suited for scientific computing. Jupyter Notebooks provide an interactive and flexible environment for writing and running code, making them an excellent choice for computational chemistry.\n",
    "\n",
    "We will cover the following topics:\n",
    "\n",
    "1. Setting up your Python environment\n",
    "2. Basics of Python programming\n",
    "3. Introduction to Jupyter Notebooks\n",
    "4. Installing and managing Python packages\n",
    "\n",
    "If you get stuck, it might be a good idea to do a Google search and look for solutions from the websites such as [stackoverflow.com](https://stackoverflow.com), [The W3 school](https://www.w3schools.com/python/default.asp), [Youtube](https://www.youtube.com) or get helps from [ChatGPT](https://chat.openai.com)"
   ]
  },
  {
   "cell_type": "markdown",
   "id": "4d478d5a",
   "metadata": {},
   "source": [
    "### **1.1.1. Anaconda and Jupyter Notebook**"
   ]
  },
  {
   "cell_type": "markdown",
   "id": "c256ede9",
   "metadata": {},
   "source": [
    "#### ***1.1.1.1. Installation***"
   ]
  },
  {
   "cell_type": "markdown",
   "id": "7f104a95",
   "metadata": {},
   "source": [
    "You can download Anaconda from [Anaconda's website](https://www.anaconda.com/products/distribution) and follow the installation instructions for your operating system.\n",
    "\n",
    "Once Anaconda is installed, open Anaconda Navigator or use the Anaconda command prompt to manage your Python environments."
   ]
  },
  {
   "cell_type": "markdown",
   "id": "04290f8e",
   "metadata": {},
   "source": [
    "#### ***1.1.1.2. Python Development Environment***"
   ]
  },
  {
   "cell_type": "markdown",
   "id": "03a7fd39",
   "metadata": {},
   "source": [
    "Anaconda will make a default python environment for you. However, you can create your own environments if needed.\n",
    "\n",
    "In your Anaconda Navigator or Anaconda command prompt, you can create a new python environment. Here's an example of how to create an environment named \"chem-env\" with python 3.11:\n",
    "\n",
    "`conda create --name chem-env`\n",
    "\n",
    "You can replace \"chem-env\" with your preferred environment name and specify a different Python version if needed.\n",
    "\n",
    "To activate your newly created environment, use the following command:\n",
    "\n",
    "`conda activate chem-env`"
   ]
  },
  {
   "cell_type": "markdown",
   "id": "5a7f9298",
   "metadata": {},
   "source": [
    "#### ***1.1.1.3. Jupyter Notebook***"
   ]
  },
  {
   "cell_type": "markdown",
   "id": "1388ce27",
   "metadata": {},
   "source": [
    "Jupyter Notebook is an interactive web-based application that allows you to create and share documents containing live code, equations, visualizations, and narrative text. It's a popular choice among scientists and researchers for conducting data analysis, running code, and creating reproducible research."
   ]
  },
  {
   "cell_type": "markdown",
   "id": "860f32ba",
   "metadata": {},
   "source": [
    "- Jupyter Notebook is based on the open-source Jupyter project and supports various programming languages, including Python, R, and Julia.\n",
    "- Notebooks are divided into cells, which can contain code, markdown text, or raw text.\n",
    "- It provides a user-friendly interface for combining code execution, documentation, and visualizations in a single document."
   ]
  },
  {
   "cell_type": "markdown",
   "id": "b3a9533c",
   "metadata": {},
   "source": [
    "**Open Jupyter Notebook**\n",
    "\n",
    "After installation of Anaconda, you can search for Jupyter Notebook application in your operation system and run it. Alternatively, you can open Anaconda Prompt and run the following command:\n",
    "\n",
    "`jupyter notebook`\n",
    "\n",
    "Jupyter notebooks can be opened using JupyterLab. Search for JupyterLab application in your operation system and run it. you can open Anaconda Prompt and run the following command:\n",
    "\n",
    "`jupyter lab`"
   ]
  },
  {
   "cell_type": "markdown",
   "id": "9e684419",
   "metadata": {},
   "source": [
    "**Basic Operations in Jupyter Notebook**\n",
    "\n",
    "***Creating a New Notebook***\n",
    "\n",
    "1. To create a new Jupyter Notebook, click on the \"New\" button in the Jupyter interface and select \"Python 3\" (or your preferred kernel) from the dropdown menu.\n",
    "\n",
    "***Cells***\n",
    "\n",
    "- Jupyter Notebooks are composed of cells, which are individual units that can contain code, markdown text, or raw content.\n",
    "\n",
    "***Running Code***\n",
    "\n",
    "- To execute code in a cell, select the cell and press \"Shift + Enter\" or click the \"Run\" button in the Jupyter interface.\n",
    "- The output of the code will appear below the cell.\n",
    "\n",
    "***Adding and Deleting Cells***\n",
    "\n",
    "- To add a new cell, click the \"+\" button in the toolbar or press \"B\" to insert a cell below the currently selected cell.\n",
    "- To delete a cell, select it and press \"D\" twice (i.e., press \"D\" followed by another \"D\").\n",
    "\n",
    "***Markdown Cells***\n",
    "\n",
    "- To add markdown text to a cell, change the cell type from \"Code\" to \"Markdown\" in the dropdown menu.\n",
    "- You can use markdown to format text, create headings, lists, links, and more.\n",
    "\n",
    "***Keyboard Shortcuts***\n",
    "\n",
    "Keyboard shortcuts can significantly improve your efficiency when working in Jupyter Notebook. Here are some useful shortcuts:\n",
    "\n",
    "- \"Shift + Enter\" to run the current cell and move to the next cell.\n",
    "- \"Ctrl + Enter\" to run the current cell and stay in the same cell.\n",
    "- \"A\" to insert a new cell above the current cell.\n",
    "- \"B\" to insert a new cell below the current cell.\n",
    "- \"D\" twice (i.e., press \"D\" followed by another \"D\") to delete the current cell.\n",
    "- \"M\" to change the current cell type to markdown.\n",
    "- \"Y\" to change the current cell type to code.\n",
    "\n",
    "***Saving and Exporting***\n",
    "\n",
    "- To save your work, click the \"Save\" button or press \"Ctrl + S\" (or \"Cmd + S\" on Mac).\n",
    "- You can export your notebook as a PDF, HTML, or other formats by going to \"File\" > \"Download as.\"\n",
    "\n",
    "***Jupyter Notebook uses the default Anaconda environment.***\n",
    "To use your own environment, go to Kernel → Change Kernel."
   ]
  },
  {
   "cell_type": "markdown",
   "id": "9c6f6cb9",
   "metadata": {},
   "source": [
    "### **1.1.2. Basics of Python Programming**"
   ]
  },
  {
   "cell_type": "markdown",
   "id": "0d3e7123",
   "metadata": {},
   "source": [
    "Python is a beginner-friendly programming language, and you don't need to be an expert coder to use it effectively for computational chemistry. Here are some fundamental Python concepts:"
   ]
  },
  {
   "cell_type": "markdown",
   "id": "07020c3a",
   "metadata": {},
   "source": [
    "#### ***1.1.2.1. Variables***"
   ]
  },
  {
   "cell_type": "markdown",
   "id": "9b73adfc",
   "metadata": {},
   "source": [
    "In Python, you can assign values to variables using the `=`:"
   ]
  },
  {
   "cell_type": "code",
   "execution_count": null,
   "id": "c94af68e",
   "metadata": {},
   "outputs": [],
   "source": [
    "x = 5\n",
    "y = \"Hello, World!\""
   ]
  },
  {
   "cell_type": "markdown",
   "id": "91d59bf2",
   "metadata": {},
   "source": [
    "You can print out the value of a variable using the `print()` fuction:"
   ]
  },
  {
   "cell_type": "code",
   "execution_count": null,
   "id": "11f5c9ce",
   "metadata": {},
   "outputs": [],
   "source": [
    "print(x)\n",
    "print(y)"
   ]
  },
  {
   "cell_type": "markdown",
   "id": "2da54c42",
   "metadata": {},
   "source": [
    "#### ***1.1.2.2. Data Types***"
   ]
  },
  {
   "cell_type": "markdown",
   "id": "467d2cd4",
   "metadata": {},
   "source": [
    "Basic data types in python are integer (int), float, string (str), boolean (bool)"
   ]
  },
  {
   "cell_type": "code",
   "execution_count": null,
   "id": "2d0a424a",
   "metadata": {},
   "outputs": [],
   "source": [
    "a = 5        # Integer\n",
    "b = 3.14     # Float\n",
    "c = \"apple\"  # String (put in a pair of \"\" or '')\n",
    "d = True     # Boolean (True or False)\n",
    "\n",
    "print(a)\n",
    "print(b)\n",
    "print(c)\n",
    "print(d)"
   ]
  },
  {
   "cell_type": "markdown",
   "id": "6797ce66",
   "metadata": {},
   "source": [
    "The `type()` function can be used to identify the type of each variable."
   ]
  },
  {
   "cell_type": "code",
   "execution_count": null,
   "id": "82509f17",
   "metadata": {
    "scrolled": true
   },
   "outputs": [],
   "source": [
    "print(type(a))\n",
    "print(type(b))\n",
    "print(type(c))\n",
    "print(type(d))"
   ]
  },
  {
   "cell_type": "markdown",
   "id": "d9664d0d",
   "metadata": {},
   "source": [
    "The boolean type variables can be the results of comparison operators:\n",
    "- `==`    Equal\n",
    "- `!=`    Not equal\n",
    "- `>`     Greater than\n",
    "- `<`     Less than\n",
    "- `>=`    Greater than or equal to\n",
    "- `<=`    Less than or equal to"
   ]
  },
  {
   "cell_type": "code",
   "execution_count": null,
   "id": "1c86ba80",
   "metadata": {},
   "outputs": [],
   "source": [
    "bool1 = 5 > 0\n",
    "print(bool1)\n",
    "bool2 = 3.14 <= 2\n",
    "print(bool2)"
   ]
  },
  {
   "cell_type": "markdown",
   "id": "f0b2470d",
   "metadata": {},
   "source": [
    "More complex data types in python are list, tuple, set, and dictionary"
   ]
  },
  {
   "cell_type": "code",
   "execution_count": null,
   "id": "8addbfa7",
   "metadata": {},
   "outputs": [],
   "source": [
    "# A list\n",
    "l = [1,2,3.14,'dog', True]\n",
    "\n",
    "# A tuple \n",
    "t = (1,2,3.14,'dog', True)\n",
    "\n",
    "# A set \n",
    "s = {'apple', 'banana', 'cherry'}\n",
    "\n",
    "# A dictionary\n",
    "d = {'student id': 11010001,\n",
    "     'student grade': 'A',\n",
    "     'hello': 'ciao',\n",
    "     'dog': 'cane',\n",
    "     'cat': 'gatto'}"
   ]
  },
  {
   "cell_type": "markdown",
   "id": "6da42e79",
   "metadata": {},
   "source": [
    "You can you the length of a list, tuple, set, or dictionary using the `len()` function"
   ]
  },
  {
   "cell_type": "code",
   "execution_count": null,
   "id": "174341c2",
   "metadata": {},
   "outputs": [],
   "source": [
    "print(len(l))\n",
    "print(len(t))\n",
    "print(len(s))\n",
    "print(len(d))"
   ]
  },
  {
   "cell_type": "markdown",
   "id": "4c6aef0a",
   "metadata": {},
   "source": [
    "To get the value of an item in a list or tuple, you can use the index of that item with the following syntax. In python, index start from 0."
   ]
  },
  {
   "cell_type": "code",
   "execution_count": null,
   "id": "60b8021a",
   "metadata": {},
   "outputs": [],
   "source": [
    "list_item1 = l[0] # get the first item\n",
    "tuple_item3 = t[2] # get the third item"
   ]
  },
  {
   "cell_type": "code",
   "execution_count": null,
   "id": "6002d1be",
   "metadata": {},
   "outputs": [],
   "source": [
    "print(list_item1)\n",
    "print(tuple_item3)"
   ]
  },
  {
   "cell_type": "markdown",
   "id": "0626ab83",
   "metadata": {},
   "source": [
    "However, you cannot use index for a set or a dictionary.\n",
    "\n",
    "Each item of a dictionary is a pair of key and value. For example, the item\n",
    "`'student id': 11010001`:\n",
    "- `'student id'` is the key (type `str`)\n",
    "- `1010001` is the value (type `int`)\n",
    "\n",
    "The get the value of an item in a dictionary, you can use the key with the following syntax:"
   ]
  },
  {
   "cell_type": "code",
   "execution_count": null,
   "id": "61237aa5",
   "metadata": {},
   "outputs": [],
   "source": [
    "student_id = d['student id']\n",
    "student_grade = d['student grade']\n",
    "\n",
    "print(student_id)\n",
    "print(student_grade)"
   ]
  },
  {
   "cell_type": "markdown",
   "id": "a30a2c31",
   "metadata": {},
   "source": [
    "For lists, you can add elements to a list using append() or extend() functions"
   ]
  },
  {
   "cell_type": "code",
   "execution_count": null,
   "id": "a7134ced",
   "metadata": {},
   "outputs": [],
   "source": [
    "l.append(10)\n",
    "print(l)"
   ]
  },
  {
   "cell_type": "code",
   "execution_count": null,
   "id": "4933c0c3",
   "metadata": {},
   "outputs": [],
   "source": [
    "l2 = ['cat', False]\n",
    "l.extend(l2)\n",
    "print(l)"
   ]
  },
  {
   "cell_type": "markdown",
   "id": "6b816a61-061f-41da-8db9-6c09095cb9e2",
   "metadata": {},
   "source": [
    "<p style=\"background-color: lightgreen; text-align: center; font-size: 18px; color: red; padding: 5px; border-radius: 10px;\"><b>Exercise 1</b></p>\n",
    "\n",
    "Write Python code to:\n",
    "1. Create a string `my_string` with the value `'Trường Đại học Sư phạm Kỹ Thuật TPHCM'`.\n",
    "2. Create a list `elements` with these elements: `Li`, `Na`, `K`, `Ca`, `Mg`\n",
    "3. Retrieve the second element from the list\n",
    "4. Create a dictionary `electronegativity` to store the electronegativity of elements using the symbol as key:\n",
    "- B: 2.0\n",
    "- C: 2.5\n",
    "- N: 3.0\n",
    "- O: 3.5\n",
    "- F: 4.0\n",
    "5. Retrieve the electronegativity of oxygen"
   ]
  },
  {
   "cell_type": "code",
   "execution_count": null,
   "id": "5cb2fcef-12cd-46bb-9b38-2bfba3754b50",
   "metadata": {},
   "outputs": [],
   "source": []
  },
  {
   "cell_type": "code",
   "execution_count": null,
   "id": "e3592aa1-834c-411c-bb47-2f39f3e201d9",
   "metadata": {},
   "outputs": [],
   "source": []
  },
  {
   "cell_type": "code",
   "execution_count": null,
   "id": "c601f746-f8ae-48e1-b02e-b4e259569249",
   "metadata": {},
   "outputs": [],
   "source": []
  },
  {
   "cell_type": "code",
   "execution_count": null,
   "id": "4eba165f-9028-4b9d-a099-fe9c35905a51",
   "metadata": {},
   "outputs": [],
   "source": []
  },
  {
   "cell_type": "code",
   "execution_count": null,
   "id": "fe709f9a-c501-44d0-a774-06c429e36817",
   "metadata": {},
   "outputs": [],
   "source": []
  },
  {
   "cell_type": "markdown",
   "id": "c5bdb6b0",
   "metadata": {},
   "source": [
    "#### ***1.1.2.3. Basic Operations***"
   ]
  },
  {
   "cell_type": "markdown",
   "id": "a3fa6f14",
   "metadata": {},
   "source": [
    "You can perform basic operations in python, such as addition, subtraction, multiplication, and division:"
   ]
  },
  {
   "cell_type": "code",
   "execution_count": null,
   "id": "ac380757",
   "metadata": {},
   "outputs": [],
   "source": [
    "result1 = a + b\n",
    "result2 = a - b\n",
    "result3 = a * b\n",
    "result4 = a / b\n",
    "\n",
    "print(result1)\n",
    "print(result2)\n",
    "print(result3)\n",
    "print(result4)"
   ]
  },
  {
   "cell_type": "markdown",
   "id": "6f327dff",
   "metadata": {},
   "source": [
    "You can format the output's display by using the string.format() function. ([*see details*](https://www.w3schools.com/python/ref_string_format.asp))"
   ]
  },
  {
   "cell_type": "code",
   "execution_count": null,
   "id": "caf4a9db",
   "metadata": {},
   "outputs": [],
   "source": [
    "print(\"{0}\".format(result1))\n",
    "print(\"{0:.3f}\".format(result2))\n",
    "print(\"{0:.2%}\".format(result3))\n",
    "print(\"{0:.4e}\".format(result4))"
   ]
  },
  {
   "cell_type": "markdown",
   "id": "82c29eef",
   "metadata": {},
   "source": [
    "Other mathematic operations include integer division, modulo, power, root:"
   ]
  },
  {
   "cell_type": "code",
   "execution_count": null,
   "id": "c6369f0f",
   "metadata": {},
   "outputs": [],
   "source": [
    "# integer division\n",
    "print(20 // 3)"
   ]
  },
  {
   "cell_type": "code",
   "execution_count": null,
   "id": "8dbb53f3",
   "metadata": {},
   "outputs": [],
   "source": [
    "# modulo\n",
    "print(20 % 3) # (20 mod 3)"
   ]
  },
  {
   "cell_type": "code",
   "execution_count": null,
   "id": "e6c63ceb",
   "metadata": {},
   "outputs": [],
   "source": [
    "# power\n",
    "print(2 ** 4) # 2 raised to the fourth power"
   ]
  },
  {
   "cell_type": "code",
   "execution_count": null,
   "id": "9563eaec",
   "metadata": {},
   "outputs": [],
   "source": [
    "# root\n",
    "print(16 ** (1/2)) # square root of 16"
   ]
  },
  {
   "cell_type": "markdown",
   "id": "aa42bc7a",
   "metadata": {},
   "source": [
    "***Sometimes you might want to leave comments directly in your code. Comments come after the `#` sign***"
   ]
  },
  {
   "cell_type": "markdown",
   "id": "01fe0c6a",
   "metadata": {},
   "source": [
    "You can compute a new value for a variable and assign it using assignment operators. For example:"
   ]
  },
  {
   "cell_type": "code",
   "execution_count": null,
   "id": "a1d24c9c",
   "metadata": {},
   "outputs": [],
   "source": [
    "x = 5\n",
    "print(x)"
   ]
  },
  {
   "cell_type": "code",
   "execution_count": null,
   "id": "6396431a",
   "metadata": {},
   "outputs": [],
   "source": [
    "x += 3\n",
    "print(x)"
   ]
  },
  {
   "cell_type": "code",
   "execution_count": null,
   "id": "9fec9baf",
   "metadata": {},
   "outputs": [],
   "source": [
    "x -= 5\n",
    "print(x)"
   ]
  },
  {
   "cell_type": "code",
   "execution_count": null,
   "id": "7e5e5534",
   "metadata": {},
   "outputs": [],
   "source": [
    "x *= 2\n",
    "print(x)"
   ]
  },
  {
   "cell_type": "code",
   "execution_count": null,
   "id": "bdff5059",
   "metadata": {},
   "outputs": [],
   "source": [
    "x /= 3\n",
    "print(x)"
   ]
  },
  {
   "cell_type": "markdown",
   "id": "8fa309de-8044-4493-b195-53d56f333590",
   "metadata": {},
   "source": [
    "<p style=\"background-color: lightgreen; text-align: center; font-size: 18px; color: red; padding: 5px; border-radius: 10px;\"><b>Exercise 2</b></p>\n",
    "\n",
    "Write Python code to perform the following tasks:\n",
    "1. Assign the value 10 to a variable $x$ and 20 to a variable $y$. Compute their sum $x + y$ and assign it to a variable $z$.\n",
    "2. Compute $x + y^2$\n",
    "3. Compute $\\sqrt{z^2 + y}  - x^2$"
   ]
  },
  {
   "cell_type": "code",
   "execution_count": null,
   "id": "72ccaf28-8b8a-4e77-8cb7-6f79aa7b59c7",
   "metadata": {},
   "outputs": [],
   "source": []
  },
  {
   "cell_type": "code",
   "execution_count": null,
   "id": "e84a54ba-21df-4658-ac13-1cf401278dc1",
   "metadata": {},
   "outputs": [],
   "source": []
  },
  {
   "cell_type": "code",
   "execution_count": null,
   "id": "33b5018c-66c9-45ff-a62d-5ee3be0e3133",
   "metadata": {},
   "outputs": [],
   "source": []
  },
  {
   "cell_type": "markdown",
   "id": "1e0d668f",
   "metadata": {},
   "source": [
    "#### ***1.1.2.4. Import Python Modules***"
   ]
  },
  {
   "cell_type": "markdown",
   "id": "8e253ae2",
   "metadata": {},
   "source": [
    "In Python, modules are accessed by using the `import` statement. For example, we can import the `math` module using:"
   ]
  },
  {
   "cell_type": "code",
   "execution_count": null,
   "id": "84947816",
   "metadata": {},
   "outputs": [],
   "source": [
    "import math"
   ]
  },
  {
   "cell_type": "markdown",
   "id": "69d13313",
   "metadata": {},
   "source": [
    "Now you can use all the functions that are available within the module `math` using the `math.<function_name>` syntax ([*see details about the module*](https://docs.python.org/3/library/math.html)). For example:"
   ]
  },
  {
   "cell_type": "code",
   "execution_count": null,
   "id": "34346fdf",
   "metadata": {},
   "outputs": [],
   "source": [
    "print(math.sqrt(9))        # square root function\n",
    "print(math.sin(math.pi/2)) # sine function, math.pi = 3.141592653589793 (a constant)"
   ]
  },
  {
   "cell_type": "markdown",
   "id": "981a93b0",
   "metadata": {},
   "source": [
    "Alternatively, you can import a function from a module like this:"
   ]
  },
  {
   "cell_type": "code",
   "execution_count": null,
   "id": "5d3bc5b0",
   "metadata": {},
   "outputs": [],
   "source": [
    "from math import cos # cosine function"
   ]
  },
  {
   "cell_type": "markdown",
   "id": "6637381f",
   "metadata": {},
   "source": [
    "Now you can use the `cos` function without using `math.`:"
   ]
  },
  {
   "cell_type": "code",
   "execution_count": null,
   "id": "cf6212f8",
   "metadata": {},
   "outputs": [],
   "source": [
    "print(cos(math.pi))"
   ]
  },
  {
   "cell_type": "markdown",
   "id": "757c9cd5",
   "metadata": {},
   "source": [
    "You can import multiple functions or other elements at the same time (separated by comma)"
   ]
  },
  {
   "cell_type": "code",
   "execution_count": null,
   "id": "8b703743",
   "metadata": {},
   "outputs": [],
   "source": [
    "from math import cos, pi # math.cos is a function, math.pi is a constant\n",
    "print(cos(pi))"
   ]
  },
  {
   "cell_type": "markdown",
   "id": "9459c373",
   "metadata": {},
   "source": [
    "You can also import all elements from a module using:"
   ]
  },
  {
   "cell_type": "code",
   "execution_count": null,
   "id": "bc1d60b4",
   "metadata": {},
   "outputs": [],
   "source": [
    "from math import *"
   ]
  },
  {
   "cell_type": "markdown",
   "id": "b723f805",
   "metadata": {},
   "source": [
    "Now you can use any function within that module without using `math.`:"
   ]
  },
  {
   "cell_type": "code",
   "execution_count": null,
   "id": "cb16d938",
   "metadata": {
    "scrolled": true
   },
   "outputs": [],
   "source": [
    "print(acos(cos(pi)))\n",
    "print(factorial(5))"
   ]
  },
  {
   "cell_type": "markdown",
   "id": "d64eaba3",
   "metadata": {},
   "source": [
    "#### ***1.1.2.5. If Statement***"
   ]
  },
  {
   "cell_type": "markdown",
   "id": "1347dcb9",
   "metadata": {},
   "source": [
    "An if statement is written by using the `if` keyword. The body of an if statement is indented. For example:"
   ]
  },
  {
   "cell_type": "code",
   "execution_count": null,
   "id": "38f31bf3",
   "metadata": {},
   "outputs": [],
   "source": [
    "a = 33\n",
    "b = 200\n",
    "if b > a:\n",
    "    print(\"b is greater than a\")"
   ]
  },
  {
   "cell_type": "markdown",
   "id": "ecd2d6a8",
   "metadata": {},
   "source": [
    "The `elif` keyword is Python's way of saying \"if the previous conditions were not true, then try this condition\".\n",
    "The `else` keyword catches anything which isn't caught by the preceding conditions."
   ]
  },
  {
   "cell_type": "code",
   "execution_count": null,
   "id": "f459be3d",
   "metadata": {},
   "outputs": [],
   "source": [
    "a = 200\n",
    "b = 33\n",
    "if b > a:\n",
    "    print(\"b is greater than a\")\n",
    "elif a == b:\n",
    "    print(\"a and b are equal\")\n",
    "else:\n",
    "    print(\"a is greater than b\")"
   ]
  },
  {
   "cell_type": "markdown",
   "id": "569525d3",
   "metadata": {},
   "source": [
    "#### ***1.1.2.6. While Loop***"
   ]
  },
  {
   "cell_type": "markdown",
   "id": "bdce18de",
   "metadata": {},
   "source": [
    "With the `while` loop we can execute a set of statements as long as a condition is `True`. The body of a `while` loop is indented."
   ]
  },
  {
   "cell_type": "code",
   "execution_count": null,
   "id": "2af4afbd",
   "metadata": {},
   "outputs": [],
   "source": [
    "i = 1\n",
    "while i < 6:\n",
    "    print(i)\n",
    "    i += 1"
   ]
  },
  {
   "cell_type": "markdown",
   "id": "2fa2494b",
   "metadata": {},
   "source": [
    "With the `break` statement we can stop the loop even if the while condition is `True`:"
   ]
  },
  {
   "cell_type": "code",
   "execution_count": null,
   "id": "a7277805",
   "metadata": {},
   "outputs": [],
   "source": [
    "i = 1\n",
    "while i < 6:\n",
    "    print(i)\n",
    "    if i == 3:\n",
    "        break\n",
    "    i += 1 "
   ]
  },
  {
   "cell_type": "markdown",
   "id": "e9e286a9",
   "metadata": {},
   "source": [
    "With the `continue` statement we can stop the current iteration, and continue with the next:"
   ]
  },
  {
   "cell_type": "code",
   "execution_count": null,
   "id": "f43de6fa",
   "metadata": {},
   "outputs": [],
   "source": [
    "i = 0\n",
    "while i < 6:\n",
    "    i += 1\n",
    "    if i == 3:\n",
    "        continue\n",
    "    print(i)"
   ]
  },
  {
   "cell_type": "markdown",
   "id": "af7b853d",
   "metadata": {},
   "source": [
    "#### ***1.1.2.7. For Loop***"
   ]
  },
  {
   "cell_type": "markdown",
   "id": "0f2fa448",
   "metadata": {},
   "source": [
    "A `for` loop is used for iterating over a sequence (that is either a list, a tuple, a dictionary, a set, or a string). The body of a `for` loop is indented.\n",
    "\n",
    "With the `for` loop we can execute a set of statements, once for each item in a list, tuple, set etc."
   ]
  },
  {
   "cell_type": "code",
   "execution_count": null,
   "id": "714dd5e8",
   "metadata": {},
   "outputs": [],
   "source": [
    "# Loop through a list\n",
    "fruits = [\"apple\", \"banana\", \"cherry\"]\n",
    "for x in fruits:\n",
    "    print(x)"
   ]
  },
  {
   "cell_type": "code",
   "execution_count": null,
   "id": "1c985264",
   "metadata": {},
   "outputs": [],
   "source": [
    "# Loop through a string\n",
    "for x in \"banana\":\n",
    "    print(x)"
   ]
  },
  {
   "cell_type": "markdown",
   "id": "e2768732",
   "metadata": {},
   "source": [
    "With the `break` statement we can stop the loop before it has looped through all the items:"
   ]
  },
  {
   "cell_type": "code",
   "execution_count": null,
   "id": "a383fd27",
   "metadata": {},
   "outputs": [],
   "source": [
    "fruits = [\"apple\", \"banana\", \"cherry\"]\n",
    "for x in fruits:\n",
    "    print(x)\n",
    "    if x == \"banana\":\n",
    "        break"
   ]
  },
  {
   "cell_type": "markdown",
   "id": "14b7d29d",
   "metadata": {},
   "source": [
    "With the continue statement we can stop the current iteration, and continue with the next:"
   ]
  },
  {
   "cell_type": "code",
   "execution_count": null,
   "id": "429d461e",
   "metadata": {},
   "outputs": [],
   "source": [
    "fruits = [\"apple\", \"banana\", \"cherry\"]\n",
    "for x in fruits:\n",
    "    if x == \"banana\":\n",
    "        continue\n",
    "    print(x)"
   ]
  },
  {
   "cell_type": "markdown",
   "id": "f80cd488-29b1-41ea-a1b0-4b43481ec499",
   "metadata": {},
   "source": [
    "To loop through a range of numbers, we can use the `range` function (the last number are ignored)"
   ]
  },
  {
   "cell_type": "code",
   "execution_count": 3,
   "id": "7949a1a9-2685-4a18-948f-42ea30892665",
   "metadata": {},
   "outputs": [
    {
     "name": "stdout",
     "output_type": "stream",
     "text": [
      "1\n",
      "4\n",
      "9\n",
      "16\n",
      "25\n",
      "36\n",
      "49\n",
      "64\n",
      "81\n"
     ]
    }
   ],
   "source": [
    "for x in range(1, 10):\n",
    "    print(x ** 2)"
   ]
  },
  {
   "cell_type": "markdown",
   "id": "bbf998fd-69e7-4348-9086-b4cf4853be30",
   "metadata": {},
   "source": [
    "<p style=\"background-color: lightgreen; text-align: center; font-size: 18px; color: red; padding: 5px; border-radius: 10px;\"><b>Exercise 3</b></p>\n",
    "\n",
    "Write Python code to perform the following tasks:\n",
    "1. Use the `for` loop to check for odd/even numbers from 1 to 20\n",
    "2. Use the `while` loop to print out all integers that are divisible by 3 from 1 to 30"
   ]
  },
  {
   "cell_type": "code",
   "execution_count": null,
   "id": "40114808-20ed-48ed-8e73-740d09ff1123",
   "metadata": {},
   "outputs": [],
   "source": []
  },
  {
   "cell_type": "code",
   "execution_count": null,
   "id": "9ef31e03-38c1-46b3-92d1-c23b797f1b02",
   "metadata": {},
   "outputs": [],
   "source": []
  },
  {
   "cell_type": "markdown",
   "id": "13aff185",
   "metadata": {},
   "source": [
    "#### ***1.1.2.8. Function***"
   ]
  },
  {
   "cell_type": "markdown",
   "id": "220c692c",
   "metadata": {},
   "source": [
    "In python we can easily define new functions. We use `def` keyword to define a function and its arguments. Then we use `return` keyword to return the result. The body of a function is indented.\n",
    "\n",
    "For example let's write a function that takes 2 numbers x and y, and computes $\\sqrt{x^2 + y^2}$."
   ]
  },
  {
   "cell_type": "code",
   "execution_count": null,
   "id": "815f46d7",
   "metadata": {},
   "outputs": [],
   "source": [
    "def my_function(x, y):\n",
    "    result = (x ** 2 + y ** 2) ** 0.5\n",
    "    return result"
   ]
  },
  {
   "cell_type": "markdown",
   "id": "e11cb720",
   "metadata": {},
   "source": [
    "Now you can test this function"
   ]
  },
  {
   "cell_type": "code",
   "execution_count": null,
   "id": "cede8c40",
   "metadata": {},
   "outputs": [],
   "source": [
    "print(my_function(3, 4))\n",
    "print(my_function(6, 8))"
   ]
  },
  {
   "cell_type": "markdown",
   "id": "715ff02d-432e-495d-9350-a583c8815163",
   "metadata": {},
   "source": [
    "<p style=\"background-color: lightgreen; text-align: center; font-size: 18px; color: red; padding: 5px; border-radius: 10px;\"><b>Exercise 4</b></p>\n",
    "\n",
    "Write Python code to perform the following tasks:\n",
    "1. Define a function to compute $\\sqrt{x^2 -1}$\n",
    "2. Define a function to count the number of integers between 2 integers `x` and `y`\n",
    "3. Define a function to print out the first `n` elements of the Fibonacci sequence"
   ]
  },
  {
   "cell_type": "code",
   "execution_count": null,
   "id": "bb63c8b3-8b0d-4785-96eb-2f61fdcf5004",
   "metadata": {},
   "outputs": [],
   "source": []
  },
  {
   "cell_type": "code",
   "execution_count": null,
   "id": "b962df31-3828-47c0-8209-0ef40cd43757",
   "metadata": {},
   "outputs": [],
   "source": []
  },
  {
   "cell_type": "code",
   "execution_count": null,
   "id": "3670bde0-8234-4007-bbbf-38ac47a9fbb5",
   "metadata": {},
   "outputs": [],
   "source": []
  },
  {
   "cell_type": "markdown",
   "id": "092e441b",
   "metadata": {},
   "source": [
    "## **1.2. Common Python Modules**"
   ]
  },
  {
   "cell_type": "markdown",
   "id": "1758b2e4",
   "metadata": {},
   "source": [
    "In this section, we will learn the essentials of common Python modules. The following modules will be covered:\n",
    "\n",
    "1. Numpy\n",
    "2. Pandas\n",
    "3. Matplotlib"
   ]
  },
  {
   "cell_type": "markdown",
   "id": "218a59a3",
   "metadata": {},
   "source": [
    "### **1.2.1. NumPy**"
   ]
  },
  {
   "cell_type": "markdown",
   "id": "953951ca",
   "metadata": {},
   "source": [
    "#### ***1.2.1.1. Installation***"
   ]
  },
  {
   "cell_type": "markdown",
   "id": "1eb409c3",
   "metadata": {},
   "source": [
    "To start using NumPy, you need to install it in your Python environment. Note that the default Anaconda environment already has NumPy installed, so you don't need to do it. To install NumPy in your custom environment, run the following command:\n",
    "\n",
    "`conda install numpy`\n",
    "\n",
    "For more information about NumPy, see [documentation](https://numpy.org/doc/)"
   ]
  },
  {
   "cell_type": "markdown",
   "id": "fdcef55b",
   "metadata": {},
   "source": [
    "#### ***1.2.1.2. Importing NumPy***"
   ]
  },
  {
   "cell_type": "markdown",
   "id": "61bf30d5",
   "metadata": {},
   "source": [
    "To use NumPy in your Python code, you need to import the library. It's a common convention to import NumPy as `np`:"
   ]
  },
  {
   "cell_type": "code",
   "execution_count": null,
   "id": "5fb8688a",
   "metadata": {},
   "outputs": [],
   "source": [
    "import numpy as np"
   ]
  },
  {
   "cell_type": "markdown",
   "id": "648e7348",
   "metadata": {},
   "source": [
    "#### ***1.2.1.3. Creating NumPy Arrays***"
   ]
  },
  {
   "cell_type": "markdown",
   "id": "b4ccaf29",
   "metadata": {},
   "source": [
    "NumPy's primary data structure is the numpy.array. You can create arrays in various ways. Here are a few examples:"
   ]
  },
  {
   "cell_type": "markdown",
   "id": "53b5d364",
   "metadata": {},
   "source": [
    "1. Creating an Array from a List"
   ]
  },
  {
   "cell_type": "code",
   "execution_count": null,
   "id": "00e51009",
   "metadata": {},
   "outputs": [],
   "source": [
    "my_list = [1, 2, 3, 4, 5]\n",
    "my_array = np.array(my_list)"
   ]
  },
  {
   "cell_type": "markdown",
   "id": "ce726857",
   "metadata": {},
   "source": [
    "2. Creating an Array of Zeros"
   ]
  },
  {
   "cell_type": "code",
   "execution_count": null,
   "id": "cbbc6768",
   "metadata": {},
   "outputs": [],
   "source": [
    "zeros_array = np.zeros(5)  # Creates a 1D array with 5 zeros"
   ]
  },
  {
   "cell_type": "markdown",
   "id": "d060049d",
   "metadata": {},
   "source": [
    "3. Creating an Array of Ones"
   ]
  },
  {
   "cell_type": "code",
   "execution_count": null,
   "id": "21c16aa5",
   "metadata": {},
   "outputs": [],
   "source": [
    "ones_array = np.ones((3, 3))  # Creates a 3x3 array of ones"
   ]
  },
  {
   "cell_type": "markdown",
   "id": "2d7dff45",
   "metadata": {},
   "source": [
    "4. Creating a Range of Values"
   ]
  },
  {
   "cell_type": "code",
   "execution_count": null,
   "id": "439a37b7",
   "metadata": {},
   "outputs": [],
   "source": [
    "range_array = np.arange(0, 10, 2)  # Creates an array [0, 2, 4, 6, 8], the point '10' is not included"
   ]
  },
  {
   "cell_type": "code",
   "execution_count": null,
   "id": "8ba01f4c",
   "metadata": {},
   "outputs": [],
   "source": [
    "linspace_array = np.linspace(2.0, 3.0, num=5) # Creates an array [2.  , 2.25, 2.5 , 2.75, 3.  ]"
   ]
  },
  {
   "cell_type": "markdown",
   "id": "9c8d74c2",
   "metadata": {},
   "source": [
    "#### ***1.2.1.4. Basic NumPy Operations***"
   ]
  },
  {
   "cell_type": "markdown",
   "id": "4c024864",
   "metadata": {},
   "source": [
    "NumPy allows you to perform mathematical operations on arrays efficiently. Here are some examples:"
   ]
  },
  {
   "cell_type": "markdown",
   "id": "a6b8d036",
   "metadata": {},
   "source": [
    "**Get An Element**\n",
    "\n",
    "Similar to list, you can get an element in a NumPy array using index:"
   ]
  },
  {
   "cell_type": "code",
   "execution_count": null,
   "id": "e0cdae7a",
   "metadata": {},
   "outputs": [],
   "source": [
    "array1 = np.array([1, 2, 3])\n",
    "element1 = array1[0]\n",
    "print(element1)"
   ]
  },
  {
   "cell_type": "markdown",
   "id": "6f67ae74",
   "metadata": {},
   "source": [
    "**Add Elements**\n",
    "\n",
    "Similar to list, you can get new elements into a NumPy array using `np.append()` or `np.concatenate()` function. For `np.concatenate()`, put all input arrays in a tuple. You need to assign to output of these functions to a new Numpy array."
   ]
  },
  {
   "cell_type": "code",
   "execution_count": null,
   "id": "71004eb1",
   "metadata": {},
   "outputs": [],
   "source": [
    "array1 = np.array([1, 2, 3])\n",
    "array2 = np.append(array1, 10)\n",
    "print(array1)\n",
    "print(array2)"
   ]
  },
  {
   "cell_type": "code",
   "execution_count": null,
   "id": "e32a77f7",
   "metadata": {},
   "outputs": [],
   "source": [
    "array1 = np.array([1, 2, 3])\n",
    "array2 = np.array([4, 5, 6])\n",
    "array3 = np.concatenate((array1, array2))\n",
    "print(array1)\n",
    "print(array2)\n",
    "print(array3)"
   ]
  },
  {
   "cell_type": "markdown",
   "id": "ae541645",
   "metadata": {},
   "source": [
    "**Slicing**\n",
    "\n",
    "Numpy slicing is a powerful and flexible way to extract and manipulate portions of a NumPy array. Slicing allows you to select a subset of elements from an array by specifying a range or a set of indices."
   ]
  },
  {
   "cell_type": "markdown",
   "id": "0d9bbece",
   "metadata": {},
   "source": [
    "***Basic Slicing:***\n",
    "\n",
    "Syntax: `array[start:stop]`\n",
    "- Returns a view of the array elements from the index start (inclusive) to the index stop (exclusive).\n",
    "- If `start` is not provided, it defaults to `0`. If `stop` is not provided, it defaults to the end of the array.\n",
    "- You can use negative indices to count from the end of the array."
   ]
  },
  {
   "cell_type": "code",
   "execution_count": null,
   "id": "ea7138b6",
   "metadata": {},
   "outputs": [],
   "source": [
    "arr = np.array([0, 1, 2, 3, 4, 5])\n",
    "sliced = arr[2:5]  # Slices from index 2 to 4\n",
    "print(sliced)"
   ]
  },
  {
   "cell_type": "code",
   "execution_count": null,
   "id": "f6231f77",
   "metadata": {},
   "outputs": [],
   "source": [
    "arr = np.array([0, 1, 2, 3, 4, 5])\n",
    "sliced = arr[0:-2]  # Slices from index 0 to 4 (remove the last 2 elements)\n",
    "print(sliced)"
   ]
  },
  {
   "cell_type": "markdown",
   "id": "07f2860e",
   "metadata": {},
   "source": [
    "***Step Slicing:***\n",
    "\n",
    "Syntax: `array[start:stop:step]`\n",
    "- The `step` argument allows you to skip elements while slicing.\n",
    "- If `step` is not specified, it defaults to `1`."
   ]
  },
  {
   "cell_type": "code",
   "execution_count": null,
   "id": "daa78317",
   "metadata": {},
   "outputs": [],
   "source": [
    "arr = np.array([0, 1, 2, 3, 4, 5])\n",
    "sliced = arr[1:5:2]  # Slices from index 1 to 4 with a step of 2\n",
    "print(sliced)"
   ]
  },
  {
   "cell_type": "markdown",
   "id": "ffaf22c1",
   "metadata": {},
   "source": [
    "**Element-wise Operations**\n",
    "\n",
    "You can perform element-wise operations like addition, subtraction, multiplication, and division:"
   ]
  },
  {
   "cell_type": "code",
   "execution_count": null,
   "id": "1ba3707b",
   "metadata": {},
   "outputs": [],
   "source": [
    "array1 = np.array([1, 2, 3])\n",
    "array2 = np.array([4, 5, 6])\n",
    "\n",
    "result1 = array1 + array2  # Element-wise addition\n",
    "result2 = array1 + 10  # Element-wise addition with a scalar\n",
    "result3 = array1 * array2  # Element-wise multiplication\n",
    "result4 = array1 * 5  # Element-wise multiplication with a scalar\n",
    "print(result1)\n",
    "print(result2)\n",
    "print(result3)\n",
    "print(result4)"
   ]
  },
  {
   "cell_type": "markdown",
   "id": "789a73a6",
   "metadata": {},
   "source": [
    "**Dot Product**\n",
    "\n",
    "You can calculate the dot product of two arrays:"
   ]
  },
  {
   "cell_type": "code",
   "execution_count": null,
   "id": "be43149e",
   "metadata": {},
   "outputs": [],
   "source": [
    "dot_product = np.dot(array1, array2)\n",
    "print(dot_product)"
   ]
  },
  {
   "cell_type": "markdown",
   "id": "5bf46ba2",
   "metadata": {},
   "source": [
    "**Statistical Functions**\n",
    "\n",
    "NumPy provides various statistical functions, such as mean, median, and standard deviation:"
   ]
  },
  {
   "cell_type": "code",
   "execution_count": null,
   "id": "5e351c27",
   "metadata": {},
   "outputs": [],
   "source": [
    "data = np.array([1, 2, 3, 4, 5])\n",
    "max_value = np.max(data)\n",
    "min_value = np.min(data)\n",
    "mean_value = np.mean(data)\n",
    "median_value = np.median(data)\n",
    "std_deviation = np.std(data)\n",
    "print(max_value)\n",
    "print(min_value)\n",
    "print(mean_value)\n",
    "print(median_value)\n",
    "print(std_deviation)"
   ]
  },
  {
   "cell_type": "markdown",
   "id": "bfdf6f63-0d80-46ff-a201-82ec53780d9f",
   "metadata": {},
   "source": [
    "<p style=\"background-color: lightgreen; text-align: center; font-size: 18px; color: red; padding: 5px; border-radius: 10px;\"><b>Exercise 5</b></p>\n",
    "\n",
    "Write Python code to perform the following tasks:\n",
    "1. Create a NumPy array of shape (3, 3) filled with random integers between 1 and 100.\n",
    "2. Compute the mean, standard deviation, and sum of the elements in the array.\n",
    "3. Extract the second row of the array and compute its sum."
   ]
  },
  {
   "cell_type": "code",
   "execution_count": null,
   "id": "dd83523a-a70f-4bfc-886f-4123a53147e6",
   "metadata": {},
   "outputs": [],
   "source": []
  },
  {
   "cell_type": "code",
   "execution_count": null,
   "id": "9ab3bdcf-6b96-417a-982a-4a68123fa0f3",
   "metadata": {},
   "outputs": [],
   "source": []
  },
  {
   "cell_type": "code",
   "execution_count": null,
   "id": "855342a3-3343-4eb9-9802-6902a1e3be48",
   "metadata": {},
   "outputs": [],
   "source": []
  },
  {
   "cell_type": "markdown",
   "id": "97f58cc7",
   "metadata": {},
   "source": [
    "### **1.2.2. Pandas**"
   ]
  },
  {
   "cell_type": "markdown",
   "id": "cb517043",
   "metadata": {},
   "source": [
    "#### ***1.2.2.1. Installation***"
   ]
  },
  {
   "cell_type": "markdown",
   "id": "78a634ee",
   "metadata": {},
   "source": [
    "To start using Pandas, you need to install it in your Python environment. Note that the default Anaconda environment already has Pandas installed, so you don't need to do it. To install Pandas in your custom environment, run the following command:\n",
    "\n",
    "`conda install pandas`\n",
    "\n",
    "For more information about Pandas, see [documentation](https://pandas.pydata.org/docs/)"
   ]
  },
  {
   "cell_type": "markdown",
   "id": "90b0aced",
   "metadata": {},
   "source": [
    "#### ***1.2.2.2. Importing Pandas***"
   ]
  },
  {
   "cell_type": "markdown",
   "id": "5bea3bec",
   "metadata": {},
   "source": [
    "To use Pandas in your Python code, you need to import the library:"
   ]
  },
  {
   "cell_type": "code",
   "execution_count": null,
   "id": "172acb17",
   "metadata": {},
   "outputs": [],
   "source": [
    "import pandas as pd"
   ]
  },
  {
   "cell_type": "markdown",
   "id": "afd23297",
   "metadata": {},
   "source": [
    "#### ***1.2.2.3. Pandas Data Structures***"
   ]
  },
  {
   "cell_type": "markdown",
   "id": "eb602f82",
   "metadata": {},
   "source": [
    "Pandas provides two primary data structures: Series and DataFrame."
   ]
  },
  {
   "cell_type": "markdown",
   "id": "948d799f",
   "metadata": {},
   "source": [
    "**Series**\n",
    "\n",
    "A Series is a one-dimensional array-like object that can hold various data types. You can think of it as a column in a spreadsheet or a single-dimensional array. Here's how you can create a Series:"
   ]
  },
  {
   "cell_type": "code",
   "execution_count": null,
   "id": "97e53c26",
   "metadata": {},
   "outputs": [],
   "source": [
    "data = pd.Series([1, 3, 5, 7, 9])\n",
    "print(data)"
   ]
  },
  {
   "cell_type": "markdown",
   "id": "0084b1e0",
   "metadata": {},
   "source": [
    "**DataFrame**\n",
    "\n",
    "A DataFrame is a two-dimensional tabular data structure with rows and columns, similar to a spreadsheet or a SQL table. You can create a DataFrame using dictionaries, lists, or other data structures:"
   ]
  },
  {
   "cell_type": "code",
   "execution_count": null,
   "id": "b9e05641",
   "metadata": {},
   "outputs": [],
   "source": [
    "data = {\n",
    "    'Name': ['Alice', 'Bob', 'Charlie', 'David'],\n",
    "    'Age': [25, 30, 35, 40]\n",
    "}\n",
    "\n",
    "df = pd.DataFrame(data)\n",
    "print(df)"
   ]
  },
  {
   "cell_type": "markdown",
   "id": "0c80e289",
   "metadata": {},
   "source": [
    "#### ***1.2.2.4. Reading and Writing Data***"
   ]
  },
  {
   "cell_type": "markdown",
   "id": "c70588e3",
   "metadata": {},
   "source": [
    "Pandas supports various file formats for reading and writing data, including CSV, Excel, SQL, and more. Here are some examples of reading and writing data:"
   ]
  },
  {
   "cell_type": "markdown",
   "id": "34f9640b",
   "metadata": {},
   "source": [
    "**Reading Data**"
   ]
  },
  {
   "cell_type": "code",
   "execution_count": null,
   "id": "9b0b4648",
   "metadata": {},
   "outputs": [],
   "source": [
    "# Read data from a CSV file\n",
    "df = pd.read_csv('./datasets/IrisFlower.csv')\n",
    "print(df.head()) # Show the top 5 rows"
   ]
  },
  {
   "cell_type": "code",
   "execution_count": null,
   "id": "d747a714",
   "metadata": {},
   "outputs": [],
   "source": [
    "# Read data from an Excel file\n",
    "df = pd.read_excel('./datasets/IrisFlower.xlsx')\n",
    "print(df.head(10)) # Show the top 10 rows"
   ]
  },
  {
   "cell_type": "markdown",
   "id": "00f8dd16",
   "metadata": {},
   "source": [
    "**Writing Data**"
   ]
  },
  {
   "cell_type": "code",
   "execution_count": null,
   "id": "9534a552",
   "metadata": {},
   "outputs": [],
   "source": [
    "# Write data to a CSV file\n",
    "df.to_csv('output.csv', index=False)"
   ]
  },
  {
   "cell_type": "code",
   "execution_count": null,
   "id": "61eeda25",
   "metadata": {},
   "outputs": [],
   "source": [
    "# Write data to an Excel file\n",
    "df.to_excel('output.xlsx', index=False)"
   ]
  },
  {
   "cell_type": "markdown",
   "id": "a1d1067e",
   "metadata": {},
   "source": [
    "#### ***1.2.2.5. Basic Data Manipulation***"
   ]
  },
  {
   "cell_type": "markdown",
   "id": "0618af56",
   "metadata": {},
   "source": [
    "Pandas allows you to perform various data manipulation tasks, such as filtering, sorting, and aggregating data."
   ]
  },
  {
   "cell_type": "markdown",
   "id": "630ae720",
   "metadata": {},
   "source": [
    "**Filtering Data**\n",
    "\n",
    "You can filter data based on specific conditions:"
   ]
  },
  {
   "cell_type": "code",
   "execution_count": null,
   "id": "1f41f10f",
   "metadata": {},
   "outputs": [],
   "source": [
    "filtered_df = df[df['Sepal length'] > 5.0]\n",
    "print(filtered_df.head())"
   ]
  },
  {
   "cell_type": "markdown",
   "id": "de6036c6",
   "metadata": {},
   "source": [
    "**Sorting Data**\n",
    "\n",
    "You can sort data by one or more columns:"
   ]
  },
  {
   "cell_type": "code",
   "execution_count": null,
   "id": "f0bc5aa7",
   "metadata": {},
   "outputs": [],
   "source": [
    "sorted_df = df.sort_values(by='Sepal length')\n",
    "print(sorted_df.head())"
   ]
  },
  {
   "cell_type": "markdown",
   "id": "3ea6d840",
   "metadata": {},
   "source": [
    "**Aggregating Data**\n",
    "\n",
    "You can perform operations like sum, mean, and count on specific columns:"
   ]
  },
  {
   "cell_type": "code",
   "execution_count": null,
   "id": "142f27dc",
   "metadata": {},
   "outputs": [],
   "source": [
    "# Mean sepal width\n",
    "mean_sepal_width = df['Sepal width'].mean()\n",
    "print(mean_sepal_width)"
   ]
  },
  {
   "cell_type": "code",
   "execution_count": null,
   "id": "9f02cdc0",
   "metadata": {},
   "outputs": [],
   "source": [
    "# Number of species\n",
    "num_species = df['Species'].nunique()\n",
    "print(num_species)"
   ]
  },
  {
   "cell_type": "markdown",
   "id": "1d870dd8-353a-42f0-ad39-937f88c60eed",
   "metadata": {},
   "source": [
    "<p style=\"background-color: lightgreen; text-align: center; font-size: 18px; color: red; padding: 5px; border-radius: 10px;\"><b>Exercise 6</b></p>\n",
    "\n",
    "Write Python code to perform the following tasks:\n",
    "1. Create a DataFrame with columns `Name`, `Age`, and `Score` using the following data:\n",
    "   - `Name`: ['Alice', 'Bob', 'Charlie']\n",
    "   - `Age`: [24, 27, 22]\n",
    "   - `Score`: [85, 90, 88]\n",
    "2. Compute the average age and score.\n",
    "3. Add a new column `Passed` that contains `True` if `Score` is greater than 85, otherwise `False`."
   ]
  },
  {
   "cell_type": "code",
   "execution_count": null,
   "id": "af008bfa-7d70-417e-8316-9cc08fd37d5a",
   "metadata": {},
   "outputs": [],
   "source": []
  },
  {
   "cell_type": "code",
   "execution_count": null,
   "id": "318bcdb3-237b-4ae7-b878-a8fdacf00379",
   "metadata": {},
   "outputs": [],
   "source": []
  },
  {
   "cell_type": "code",
   "execution_count": null,
   "id": "38915883-8e41-4389-8a57-bbd5b8593cea",
   "metadata": {},
   "outputs": [],
   "source": []
  },
  {
   "cell_type": "markdown",
   "id": "250aa0cb",
   "metadata": {},
   "source": [
    "### **1.2.3. Matplotlib and Seaborn**"
   ]
  },
  {
   "cell_type": "markdown",
   "id": "53bbe6aa",
   "metadata": {},
   "source": [
    "#### ***1.2.3.1. Installation***"
   ]
  },
  {
   "cell_type": "markdown",
   "id": "13850bec",
   "metadata": {},
   "source": [
    "To use Matplotlib and Seaborn, you need to install them in your Python environment. You can do this with Anaconda by running the following commands:\n",
    "\n",
    "`conda install matplotlib`\n",
    "\n",
    "`conda install seaborn`"
   ]
  },
  {
   "cell_type": "markdown",
   "id": "47a23af4",
   "metadata": {},
   "source": [
    "[Matplotlib documentation](https://matplotlib.org/stable/index.html)"
   ]
  },
  {
   "cell_type": "markdown",
   "id": "ef448b63",
   "metadata": {},
   "source": [
    "[Seaborn documentation](https://seaborn.pydata.org/)"
   ]
  },
  {
   "cell_type": "markdown",
   "id": "c914db34",
   "metadata": {},
   "source": [
    "#### ***1.2.3.2. Importing Matplotlib and Seaborn***"
   ]
  },
  {
   "cell_type": "markdown",
   "id": "caa7fef0",
   "metadata": {},
   "source": [
    "To use Matplotlib and Seaborn in your Python code, you need to import the libraries:"
   ]
  },
  {
   "cell_type": "code",
   "execution_count": null,
   "id": "57c3e2f0",
   "metadata": {},
   "outputs": [],
   "source": [
    "import matplotlib.pyplot as plt\n",
    "import seaborn as sns"
   ]
  },
  {
   "cell_type": "markdown",
   "id": "a5c49e7c",
   "metadata": {},
   "source": [
    "#### ***1.2.3.3. Matplotlib***"
   ]
  },
  {
   "cell_type": "markdown",
   "id": "f1d05b62",
   "metadata": {},
   "source": [
    "Matplotlib is a versatile library that provides a wide range of options for creating static, animated, or interactive visualizations. It's well-suited for creating various types of plots, including line plots, bar plots, scatter plots, and more."
   ]
  },
  {
   "cell_type": "markdown",
   "id": "fd21a8e8",
   "metadata": {},
   "source": [
    "**Example: Line Plot**\n",
    "\n",
    "Let's create a simple line plot to visualize a set of data points:"
   ]
  },
  {
   "cell_type": "code",
   "execution_count": null,
   "id": "17bdf072",
   "metadata": {},
   "outputs": [],
   "source": [
    "x = [1, 2, 3, 4, 5]\n",
    "y = [2, 4, 6, 8, 10]\n",
    "\n",
    "plt.plot(x, y)\n",
    "plt.title(\"Simple Line Plot\")\n",
    "plt.xlabel(\"X-axis\")\n",
    "plt.ylabel(\"Y-axis\")\n",
    "plt.show()"
   ]
  },
  {
   "cell_type": "markdown",
   "id": "774b1aab",
   "metadata": {},
   "source": [
    "#### ***1.2.3.4. Seaborn***"
   ]
  },
  {
   "cell_type": "markdown",
   "id": "5af37b99",
   "metadata": {},
   "source": [
    "Seaborn is built on top of Matplotlib and provides a high-level interface for creating attractive and informative statistical graphics. It simplifies many common tasks and offers various built-in themes and color palettes."
   ]
  },
  {
   "cell_type": "markdown",
   "id": "ed02b82f",
   "metadata": {},
   "source": [
    "**Example: Scatter Plot**\n",
    "\n",
    "Let's create a scatter plot using Seaborn to visualize the relationship between two variables:"
   ]
  },
  {
   "cell_type": "code",
   "execution_count": null,
   "id": "4132f4b4",
   "metadata": {},
   "outputs": [],
   "source": [
    "# Load a sample dataset\n",
    "data = pd.read_csv('.\\datasets\\IrisFlower.csv')\n",
    "\n",
    "# Create a scatter plot\n",
    "sns.scatterplot(data=data, x='Sepal length', y='Sepal width')\n",
    "plt.title(\"Scatter Plot\")\n",
    "plt.show()"
   ]
  },
  {
   "cell_type": "markdown",
   "id": "56dfe72e",
   "metadata": {},
   "source": [
    "Both Matplotlib and Seaborn allow you to customize your plots extensively. You can modify colors, labels, titles, legends, and more to make your visualizations informative and visually appealing."
   ]
  },
  {
   "cell_type": "markdown",
   "id": "8f7e99ea-6571-4117-b144-89b8e50705f5",
   "metadata": {},
   "source": [
    "<p style=\"background-color: lightgreen; text-align: center; font-size: 18px; color: red; padding: 5px; border-radius: 10px;\"><b>Exercise 7</b></p>\n",
    "\n",
    "Write Python code to perform the following tasks:\n",
    "1. Create a line plot for the function `y = x^2` for values of `x` from -10 to 10.\n",
    "2. Add appropriate labels for the x-axis and y-axis, and a title for the plot.\n",
    "3. Create a bar chart showing the values of `Name` vs `Score` from the DataFrame created in Exercise 6."
   ]
  },
  {
   "cell_type": "code",
   "execution_count": null,
   "id": "0a0eba0c-9aac-4fff-822c-174c7eb0f591",
   "metadata": {},
   "outputs": [],
   "source": []
  },
  {
   "cell_type": "code",
   "execution_count": null,
   "id": "33ecf665-8bcc-40d9-a8f6-1acaae9a8305",
   "metadata": {},
   "outputs": [],
   "source": []
  },
  {
   "cell_type": "code",
   "execution_count": null,
   "id": "5646301e-a252-4789-bbf9-2bf49e1d44ec",
   "metadata": {},
   "outputs": [],
   "source": []
  }
 ],
 "metadata": {
  "kernelspec": {
   "display_name": "Python 3 (ipykernel)",
   "language": "python",
   "name": "python3"
  },
  "language_info": {
   "codemirror_mode": {
    "name": "ipython",
    "version": 3
   },
   "file_extension": ".py",
   "mimetype": "text/x-python",
   "name": "python",
   "nbconvert_exporter": "python",
   "pygments_lexer": "ipython3",
   "version": "3.12.3"
  },
  "toc": {
   "base_numbering": "",
   "nav_menu": {},
   "number_sections": false,
   "sideBar": true,
   "skip_h1_title": false,
   "title_cell": "Table of Contents",
   "title_sidebar": "Table of Contents",
   "toc_cell": false,
   "toc_position": {
    "height": "calc(100% - 180px)",
    "left": "10px",
    "top": "150px",
    "width": "244.333px"
   },
   "toc_section_display": true,
   "toc_window_display": true
  }
 },
 "nbformat": 4,
 "nbformat_minor": 5
}
